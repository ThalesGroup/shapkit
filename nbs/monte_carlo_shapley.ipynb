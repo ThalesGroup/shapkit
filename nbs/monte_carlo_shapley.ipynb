{
 "cells": [
  {
   "cell_type": "code",
   "execution_count": null,
   "metadata": {},
   "outputs": [],
   "source": [
    "# default_exp monte_carlo_shapley"
   ]
  },
  {
   "cell_type": "code",
   "execution_count": null,
   "metadata": {},
   "outputs": [],
   "source": [
    "#export\n",
    "import numpy as np\n",
    "import pandas as pd\n",
    "from tqdm import tqdm"
   ]
  },
  {
   "cell_type": "markdown",
   "metadata": {},
   "source": [
    "# Monte Carlo Shapley\n",
    "\n",
    "> Estimate the Shapley Values using an optimized Monte Carlo version."
   ]
  },
  {
   "cell_type": "markdown",
   "metadata": {},
   "source": [
    "## Theory"
   ]
  },
  {
   "cell_type": "markdown",
   "metadata": {},
   "source": [
    "### Shapley Value definition\n",
    "\n",
    "In Collaborative Game Theory, Shapley Values ([Shapley,1953]) can distribute a reward among players in a fairly way according to their contribution to the win in a cooperative game. We note $\\mathcal{M}$ a set of $d$ players. Moreover, $v : P(\\mathcal{M}) \\rightarrow R_v$ a reward function such that $v(\\emptyset) = 0$. The range $R_v$ can be $\\Re$ or a subset of $\\Re$. $P(\\mathcal{M})$ is a family of sets over $\\mathcal{M}$. If $S \\subset \\mathcal{M}\\text{, } v(S)$ is the amount of wealth produced by coalition $S$ when they cooperate.\n",
    "\n",
    "The Shapley Value of a player $j$ is a fair share of the global wealth $v(\\mathcal{M})$ produced by all players together:\n",
    "\n",
    "$$\\phi_j(\\mathcal{M},v) = \\sum_{S \\subset \\mathcal{M}\\backslash \\{j\\}}\\frac{(d -|S| - 1)!|S|!}{d!}\\left(v(S\\cup \\{j\\}) - v(S)\\right),$$\n",
    "\n",
    "with $|S| = \\text{cardinal}(S)$, i.e. the number of players in coalition $S$."
   ]
  },
  {
   "cell_type": "markdown",
   "metadata": {},
   "source": [
    "### Shapley Values as contrastive local attribute importance in Machine Learning\n",
    "\n",
    "Let be $X^*\\subset\\Re^d$ a dataset of individuals where a Machine Learning model $f$ is trained and/or tested and $d$  the dimension of $X^*$. $d>1$ else we do not need to compute Shapley Value. We consider the attribute importance of an individual $\\mathbf{x^*} = \\{x_1^*, \\dots, x_d^*\\} \\in X^*$ according to a given reference $\\mathbf{r} = \\{r_1, \\dots, r_d\\}\\in X^*$.  We're looking for $\\boldsymbol{\\phi}=(\\phi_j)_{j\\in\\{1, \\dots, d\\}}\\in \\Re^d$ such that:\n",
    "$$ \\sum_{j=1}^{d} \\phi_j = f(\\mathbf{x^*}) - f(\\mathbf{r}), $$ \n",
    "where $\\phi_j$ is the attribute contribution of feature indexed $j$.  We loosely identify each feature by its column number. Here the set of players $\\mathcal{M}=\\{1, \\dots, d\\}$ is the feature set.\n",
    "\n",
    "In Machine Learning, a common choice for the reward is $ v(S) = \\mathbb{E}[f(X) | X_S = \\mathbf{x_S^*}]$, where $\\mathbf{x_S^*}=(x_j^*)_{j\\in S}$ and $X_S$ the element of $X$ for the coalition $S$. \n",
    "For any $S\\subset\\mathcal{M}$, let's define $ z(\\mathbf{x^*},\\mathbf{r},S)$ such that $z(\\mathbf{x^*},\\mathbf{r},\\emptyset) = \\mathbf{r}$, \\ $z(\\mathbf{x^*},\\mathbf{r},\\mathcal{M}) = \\mathbf{x^*}$ and\n",
    "\n",
    "$$ z(\\mathbf{x^*},\\mathbf{r},S) = (z_1,\\dots, z_d) \\text{ with } z_i =  x_i^* \\text{ if } i \\in S \\text{ and } r_i  \\text{ otherwise }$$ \n",
    "\n",
    "As explain in [Merrick,2019], each reference $\\textbf{r}$ sets a single-game with $ v(S) = f(z(\\mathbf{x^*},\\mathbf{r},S)) - f(\\mathbf{r}) $, $v(\\emptyset) = 0 $ and $v(\\mathcal{M}) = f(\\mathbf{x^*}) - f(\\mathbf{r}) $."
   ]
  },
  {
   "cell_type": "markdown",
   "metadata": {},
   "source": [
    "### Optimized Monte Carlo Algorithm"
   ]
  },
  {
   "cell_type": "markdown",
   "metadata": {},
   "source": [
    "**Inputs:** instance $\\mathbf{x^*}$ and $\\mathbf{r}$, the reward function $v$ and the number of iterations $\\text{T}$.\n",
    "\n",
    "**Result:** the Shapley Values $\\boldsymbol{\\widehat{\\phi}} \\in \\Re^d$.\n",
    "\n",
    "1.&emsp;Initialization: $\\boldsymbol{\\widehat{\\phi}}=  \\{0,\\dots,0\\} \\text{ and } \\boldsymbol{\\widehat{\\sigma^2}} = \\{0,\\dots,0\\}$ \\;\n",
    "\n",
    "2.&emsp;For $t=1,\\dots,T$:<br>\n",
    "&emsp;&emsp;(a).&emsp;Choose the subset resulting of an uniform permutation $O\\in\\pi(\\{1, \\dots,d\\})$ of the features values \\;<br>\n",
    "&emsp;&emsp;(b).&emsp; $v^{(1)} = v(\\mathbf{r})$, $\\mathbf{b} = \\mathbf{r}$ \\;<br>\n",
    "&emsp;&emsp;(c).&emsp; For j in $O$:<br>\n",
    "&emsp;&emsp;&emsp;&emsp;&emsp;&emsp;$\\mathbf{b} = x_i^* \\text{ if } i = j \\text{ and } b_i \\text{ otherwise}$, with $i\\in\\{1, \\dots, d\\}$ \\;<br>\n",
    "&emsp;&emsp;&emsp;&emsp;&emsp;&emsp;$ v^{(2)} = v(\\mathbf{b})$ \\;<br>\n",
    "&emsp;&emsp;&emsp;&emsp;&emsp;&emsp;$\\phi_j =  v^{(2)} - v^{(1)}$ \\;<br>\n",
    "&emsp;&emsp;&emsp;&emsp;&emsp;&emsp;Update online $\\widehat{\\phi}$ and $\\widehat{\\sigma^2}$ (if $t > 1$):<br>\n",
    "&emsp;&emsp;&emsp;&emsp;&emsp;&emsp;$\\widehat{\\sigma_j^2} = \\dfrac{t-2}{t-1} \\widehat{\\sigma_j^2}+ (\\phi_j - \\widehat{\\phi_j})^{2/t}$ \\;<br>\n",
    "&emsp;&emsp;&emsp;&emsp;&emsp;&emsp;$\\widehat{\\phi_j} = \\dfrac{t-1}{t} \\widehat{\\phi_j} + \\dfrac{1}{t} \\phi_j$ \\;<br>\n",
    "&emsp;&emsp;&emsp;&emsp;&emsp;&emsp;$v^{(1)} = v^{(2)}$ \\;<br>"
   ]
  },
  {
   "cell_type": "markdown",
   "metadata": {},
   "source": [
    "### References\n",
    "\n",
    "[Shapley,1953] _A value for n-person games_. Lloyd S Shapley. In Contributions to the Theory of Games, 2.28 (1953), pp. 307 - 317.\n",
    "\n",
    "[Merrick,2019] _The Explanation Game: Explaining Machine Learning Models with Cooperative Game Theory_. Luke Merrick, Ankur Taly, 2019."
   ]
  },
  {
   "cell_type": "markdown",
   "metadata": {},
   "source": [
    "## Function "
   ]
  },
  {
   "cell_type": "markdown",
   "metadata": {},
   "source": [
    "__Parameters__\n",
    "\n",
    "* `x`: pandas Series. The instance $\\mathbf{x^*}$ for which we want to calculate Shapley value of each attribute,\n",
    "\n",
    "* `fc`: python function. The reward function $v$,\n",
    "\n",
    "* `r`: pandas Series. The reference $\\mathbf{r}$. The Shapley values (attribute importance) is a contrastive explanation according to this individual,\n",
    "\n",
    "* `n_iter`: integer. The number of iteration, \n",
    "\n",
    "* `callback`: An python object which can be called at each iteration to record distance to minimum for example. At each iteration, callback(Φ)\n",
    "\n",
    "__Returns__\n",
    "\n",
    "* `Φ`: pandas Series. Shapley values of each attribute"
   ]
  },
  {
   "cell_type": "code",
   "execution_count": null,
   "metadata": {},
   "outputs": [],
   "source": [
    "#export\n",
    "def MonteCarloShapley(x, fc, ref, n_iter, callback=None):\n",
    "    \"\"\"\n",
    "    Estimate the Shapley Values using an optimized Monte Carlo version.\n",
    "    \"\"\"\n",
    "    \n",
    "    # Get general information\n",
    "    feature_names = list(x.index)\n",
    "    d = len(feature_names) # dimension\n",
    "\n",
    "    # Individual reference or dataset of references \n",
    "    if isinstance(ref, pd.core.series.Series):\n",
    "        individual_ref = True\n",
    "        f_r = fc(ref.values)\n",
    "    elif isinstance(ref, pd.core.frame.DataFrame):\n",
    "        if ref.shape[0] == 1:\n",
    "            ref = ref.iloc[0]\n",
    "            individual_ref = True\n",
    "            f_r = fc(ref.values)\n",
    "        else:\n",
    "            individual_ref = False\n",
    "            n_ref = len(ref)\n",
    "            \n",
    "    if individual_ref:\n",
    "        # If x[j] = r[j] => Φ[j] = 0 and we can reduce the dimension\n",
    "        distinct_feature_names = list(x[x!=ref].index)\n",
    "        if set(distinct_feature_names) == set(feature_names):\n",
    "            distinct_feature_names = feature_names\n",
    "            sub_d = d\n",
    "            x_cp = x.copy()\n",
    "            r_cp = ref.copy()\n",
    "            reward = lambda z: fc(z)\n",
    "            pass\n",
    "        else:\n",
    "            sub_d = len(distinct_feature_names) # new dimension\n",
    "            x_cp = x[distinct_feature_names].copy()\n",
    "            r_cp = ref[distinct_feature_names].copy()\n",
    "            print(\"new dimension {0}\".format(sub_d))\n",
    "            def reward(z):\n",
    "                z_tmp = ref.copy()\n",
    "                z_tmp[distinct_feature_names] = z\n",
    "                return fc(z_tmp.values)\n",
    "    else:\n",
    "        distinct_feature_names = feature_names\n",
    "        sub_d = d\n",
    "        x_cp = x.copy()\n",
    "        reward = lambda z: fc(z)\n",
    "            \n",
    "    # Store all Shapley Values in a numpy array\n",
    "    Φ_storage = np.empty((n_iter, sub_d))\n",
    "\n",
    "    # Monte Carlo loop\n",
    "    for m in tqdm(range(1, n_iter+1)):\n",
    "        # Sample a random permutation order\n",
    "        o = np.random.permutation(sub_d)\n",
    "        # initiate useful variables for this iteration \n",
    "        # if several references select at random one new ref at each iter\n",
    "        if individual_ref:\n",
    "            f_less_j = f_r\n",
    "            x_plus_j = r_cp.values.copy()\n",
    "        else:\n",
    "            r_cp = ref.values[np.random.choice(n_ref, size=1)[0],:].copy()\n",
    "            f_less_j = fc(r_cp)\n",
    "            x_plus_j = r_cp.copy()\n",
    "        # iterate through the permutation of features\n",
    "        for j in o:\n",
    "            x_plus_j[j] = x_cp.values[j]\n",
    "            f_plus_j = reward(x_plus_j)\n",
    "            # update Φ\n",
    "            Φ_j = f_plus_j - f_less_j\n",
    "            Φ_storage[m-1,j] = Φ_j\n",
    "            # reassign f_less_j\n",
    "            f_less_j = f_plus_j\n",
    "        if callback:\n",
    "            Φ = pd.Series(np.mean(Φ_storage[:m,:],axis=0), index=feature_names)\n",
    "            callback(Φ)\n",
    "            \n",
    "    Φ_mean = np.mean(Φ_storage,axis=0)\n",
    "    Φ = pd.Series(np.zeros(d), index=feature_names)\n",
    "    Φ[distinct_feature_names] = Φ_mean\n",
    "    return Φ"
   ]
  },
  {
   "cell_type": "markdown",
   "metadata": {},
   "source": [
    "## Example"
   ]
  },
  {
   "cell_type": "markdown",
   "metadata": {},
   "source": [
    "We use a simulated dataset from the book _Elements of Statistical Learning_ ([hastie,2009], the Radial example). $X_1, \\dots , X_{d}$ are standard independent Gaussian. The model is determined by:\n",
    "\n",
    "$$ Y = \\prod_{j=1}^{d} \\rho(X_j), $$\n",
    "\n",
    "where $\\rho\\text{: } t \\rightarrow \\sqrt{(0.5 \\pi)} \\exp(- t^2 /2)$. The regression function $f_{regr}$ is deterministic and simply defined by $f_r\\text{: } \\textbf{x} \\rightarrow \\prod_{j=1}^{d} \\phi(x_j)$. For a reference $\\mathbf{r^*}$ and a target $\\mathbf{x^*}$, we define the reward function $v_r^{\\mathbf{r^*}, \\mathbf{x^*}}$ such as for each coalition $S$, $v_r^{\\mathbf{r^*}, \\mathbf{x^*}}(S) = f_{regr}(\\mathbf{z}(\\mathbf{x^*}, \\mathbf{r^*}, S)) - f_{regr}(\\mathbf{r^*}).$\n",
    "\n",
    " [hastie,2009] _The Elements of Statistical Learning: Data Mining, Inference, and Prediction, Second Edition_. Hastie, Trevor and Tibshirani, Robert and Friedman, Jerome. Springer Series in Statistics, 2009.\n",
    "\t"
   ]
  },
  {
   "cell_type": "code",
   "execution_count": null,
   "metadata": {},
   "outputs": [
    {
     "name": "stdout",
     "output_type": "stream",
     "text": [
      "dimension = 5 ; nb of coalitions = 30\n"
     ]
    }
   ],
   "source": [
    "d, n_samples = 5, 100\n",
    "mu = np.zeros(d)\n",
    "Sigma = np.zeros((d,d))\n",
    "np.fill_diagonal(Sigma, [1] * d)\n",
    "X = np.random.multivariate_normal(mean=mu, cov=Sigma, size=n_samples)\n",
    "X = pd.DataFrame(X, columns=['x'+str(i) for i in range(1, d+1)])\n",
    "def fc(x):\n",
    "    phi_x = np.sqrt(.5 * np.pi) * np.exp(-0.5 * x ** 2)\n",
    "    return np.prod(phi_x)\n",
    "y = np.zeros(len(X))\n",
    "for i in range(len(X)):\n",
    "    y[i] = fc(X.values[i])\n",
    "n = 2**d - 2\n",
    "print(\"dimension = {0} ; nb of coalitions = {1}\".format(str(d), str(n)))"
   ]
  },
  {
   "cell_type": "markdown",
   "metadata": {},
   "source": [
    "### Pick an individual x to explain"
   ]
  },
  {
   "cell_type": "code",
   "execution_count": null,
   "metadata": {},
   "outputs": [
    {
     "data": {
      "text/plain": [
       "x1    1.399541\n",
       "x2    0.000105\n",
       "x3    0.084210\n",
       "x4   -1.057178\n",
       "x5    1.122922\n",
       "Name: 76, dtype: float64"
      ]
     },
     "execution_count": null,
     "metadata": {},
     "output_type": "execute_result"
    }
   ],
   "source": [
    "x = X.iloc[np.random.choice(len(X), size=1)[0],:]\n",
    "x"
   ]
  },
  {
   "cell_type": "markdown",
   "metadata": {},
   "source": [
    "### Single reference"
   ]
  },
  {
   "cell_type": "code",
   "execution_count": null,
   "metadata": {},
   "outputs": [
    {
     "data": {
      "text/plain": [
       "x1    1.286635\n",
       "x2    0.269172\n",
       "x3   -0.715402\n",
       "x4    0.037090\n",
       "x5   -1.110788\n",
       "Name: 69, dtype: float64"
      ]
     },
     "execution_count": null,
     "metadata": {},
     "output_type": "execute_result"
    }
   ],
   "source": [
    "reference = X.iloc[np.random.choice(len(X), size=1)[0],:]\n",
    "reference"
   ]
  },
  {
   "cell_type": "code",
   "execution_count": null,
   "metadata": {},
   "outputs": [
    {
     "name": "stderr",
     "output_type": "stream",
     "text": [
      "100%|██████████| 100/100 [00:00<00:00, 5619.45it/s]\n"
     ]
    }
   ],
   "source": [
    "mc_shap = MonteCarloShapley(x=x, fc=fc, ref=reference, n_iter=100, callback=None)"
   ]
  },
  {
   "cell_type": "code",
   "execution_count": null,
   "metadata": {},
   "outputs": [
    {
     "data": {
      "text/plain": [
       "x1   -0.070221\n",
       "x2    0.016489\n",
       "x3    0.119197\n",
       "x4   -0.251128\n",
       "x5   -0.006191\n",
       "dtype: float64"
      ]
     },
     "execution_count": null,
     "metadata": {},
     "output_type": "execute_result"
    }
   ],
   "source": [
    "mc_shap"
   ]
  },
  {
   "cell_type": "markdown",
   "metadata": {},
   "source": [
    "### Several references "
   ]
  },
  {
   "cell_type": "code",
   "execution_count": null,
   "metadata": {},
   "outputs": [
    {
     "data": {
      "text/html": [
       "<div>\n",
       "<style scoped>\n",
       "    .dataframe tbody tr th:only-of-type {\n",
       "        vertical-align: middle;\n",
       "    }\n",
       "\n",
       "    .dataframe tbody tr th {\n",
       "        vertical-align: top;\n",
       "    }\n",
       "\n",
       "    .dataframe thead th {\n",
       "        text-align: right;\n",
       "    }\n",
       "</style>\n",
       "<table border=\"1\" class=\"dataframe\">\n",
       "  <thead>\n",
       "    <tr style=\"text-align: right;\">\n",
       "      <th></th>\n",
       "      <th>x1</th>\n",
       "      <th>x2</th>\n",
       "      <th>x3</th>\n",
       "      <th>x4</th>\n",
       "      <th>x5</th>\n",
       "    </tr>\n",
       "  </thead>\n",
       "  <tbody>\n",
       "    <tr>\n",
       "      <th>46</th>\n",
       "      <td>0.899300</td>\n",
       "      <td>0.222094</td>\n",
       "      <td>0.839331</td>\n",
       "      <td>-1.998841</td>\n",
       "      <td>-0.737770</td>\n",
       "    </tr>\n",
       "    <tr>\n",
       "      <th>83</th>\n",
       "      <td>0.818545</td>\n",
       "      <td>-0.361986</td>\n",
       "      <td>-0.014656</td>\n",
       "      <td>1.022367</td>\n",
       "      <td>-0.838450</td>\n",
       "    </tr>\n",
       "    <tr>\n",
       "      <th>61</th>\n",
       "      <td>-0.169111</td>\n",
       "      <td>0.102140</td>\n",
       "      <td>0.397960</td>\n",
       "      <td>1.241908</td>\n",
       "      <td>0.764572</td>\n",
       "    </tr>\n",
       "    <tr>\n",
       "      <th>60</th>\n",
       "      <td>-0.818126</td>\n",
       "      <td>1.400868</td>\n",
       "      <td>0.825624</td>\n",
       "      <td>-0.342146</td>\n",
       "      <td>0.187695</td>\n",
       "    </tr>\n",
       "    <tr>\n",
       "      <th>80</th>\n",
       "      <td>-0.670673</td>\n",
       "      <td>0.719710</td>\n",
       "      <td>0.304841</td>\n",
       "      <td>0.702144</td>\n",
       "      <td>0.333756</td>\n",
       "    </tr>\n",
       "    <tr>\n",
       "      <th>34</th>\n",
       "      <td>-0.141383</td>\n",
       "      <td>0.021533</td>\n",
       "      <td>1.745541</td>\n",
       "      <td>-0.407626</td>\n",
       "      <td>0.244311</td>\n",
       "    </tr>\n",
       "    <tr>\n",
       "      <th>29</th>\n",
       "      <td>1.221184</td>\n",
       "      <td>1.559900</td>\n",
       "      <td>0.074129</td>\n",
       "      <td>0.109264</td>\n",
       "      <td>1.148664</td>\n",
       "    </tr>\n",
       "    <tr>\n",
       "      <th>59</th>\n",
       "      <td>-0.468309</td>\n",
       "      <td>0.344122</td>\n",
       "      <td>-0.713913</td>\n",
       "      <td>-0.169124</td>\n",
       "      <td>0.035903</td>\n",
       "    </tr>\n",
       "    <tr>\n",
       "      <th>51</th>\n",
       "      <td>1.241050</td>\n",
       "      <td>-1.942694</td>\n",
       "      <td>0.118107</td>\n",
       "      <td>0.239774</td>\n",
       "      <td>0.222236</td>\n",
       "    </tr>\n",
       "    <tr>\n",
       "      <th>50</th>\n",
       "      <td>1.514379</td>\n",
       "      <td>-0.134645</td>\n",
       "      <td>-0.426708</td>\n",
       "      <td>-0.793782</td>\n",
       "      <td>-0.398505</td>\n",
       "    </tr>\n",
       "  </tbody>\n",
       "</table>\n",
       "</div>"
      ],
      "text/plain": [
       "          x1        x2        x3        x4        x5\n",
       "46  0.899300  0.222094  0.839331 -1.998841 -0.737770\n",
       "83  0.818545 -0.361986 -0.014656  1.022367 -0.838450\n",
       "61 -0.169111  0.102140  0.397960  1.241908  0.764572\n",
       "60 -0.818126  1.400868  0.825624 -0.342146  0.187695\n",
       "80 -0.670673  0.719710  0.304841  0.702144  0.333756\n",
       "34 -0.141383  0.021533  1.745541 -0.407626  0.244311\n",
       "29  1.221184  1.559900  0.074129  0.109264  1.148664\n",
       "59 -0.468309  0.344122 -0.713913 -0.169124  0.035903\n",
       "51  1.241050 -1.942694  0.118107  0.239774  0.222236\n",
       "50  1.514379 -0.134645 -0.426708 -0.793782 -0.398505"
      ]
     },
     "execution_count": null,
     "metadata": {},
     "output_type": "execute_result"
    }
   ],
   "source": [
    "references = X.iloc[np.random.choice(len(X), size=10, replace=False),:]\n",
    "references"
   ]
  },
  {
   "cell_type": "code",
   "execution_count": null,
   "metadata": {},
   "outputs": [
    {
     "name": "stderr",
     "output_type": "stream",
     "text": [
      "100%|██████████| 1000/1000 [00:00<00:00, 4428.95it/s]\n"
     ]
    }
   ],
   "source": [
    "mc_shaps = MonteCarloShapley(x=x, fc=fc, ref=references, n_iter=1000, callback=None)"
   ]
  },
  {
   "cell_type": "code",
   "execution_count": null,
   "metadata": {},
   "outputs": [
    {
     "data": {
      "text/plain": [
       "x1   -0.367884\n",
       "x2    0.190118\n",
       "x3    0.167193\n",
       "x4   -0.148092\n",
       "x5   -0.266249\n",
       "dtype: float64"
      ]
     },
     "execution_count": null,
     "metadata": {},
     "output_type": "execute_result"
    }
   ],
   "source": [
    "mc_shaps"
   ]
  },
  {
   "cell_type": "code",
   "execution_count": null,
   "metadata": {},
   "outputs": [],
   "source": [
    "#hide\n",
    "from shapkit_nbdev.shapley_values import ShapleyValues"
   ]
  },
  {
   "cell_type": "markdown",
   "metadata": {},
   "source": [
    "## Tests"
   ]
  },
  {
   "cell_type": "code",
   "execution_count": null,
   "metadata": {},
   "outputs": [],
   "source": [
    "x_pred = fc(x.values)\n",
    "reference_pred = fc(reference.values)\n",
    "fcs = []\n",
    "for r in references.values:\n",
    "    fcs.append(fc(r))\n",
    "references_pred = np.mean(fcs)"
   ]
  },
  {
   "cell_type": "code",
   "execution_count": null,
   "metadata": {},
   "outputs": [],
   "source": [
    "assert np.abs(mc_shap.sum() - (x_pred - reference_pred)) <= 1e-10 "
   ]
  },
  {
   "cell_type": "code",
   "execution_count": null,
   "metadata": {},
   "outputs": [],
   "source": [
    "assert np.abs(mc_shaps.sum() - (x_pred - references_pred)) <= 1e-1"
   ]
  },
  {
   "cell_type": "code",
   "execution_count": null,
   "metadata": {},
   "outputs": [
    {
     "name": "stderr",
     "output_type": "stream",
     "text": [
      "100%|██████████| 5/5 [00:00<00:00, 344.47it/s]\n"
     ]
    }
   ],
   "source": [
    "true_shap = ShapleyValues(x=x, fc=fc, ref=reference)\n",
    "assert np.linalg.norm(mc_shap - true_shap, 2) <= 0.1"
   ]
  },
  {
   "cell_type": "code",
   "execution_count": null,
   "metadata": {},
   "outputs": [
    {
     "name": "stderr",
     "output_type": "stream",
     "text": [
      "100%|██████████| 5/5 [00:00<00:00, 46.02it/s]\n"
     ]
    }
   ],
   "source": [
    "true_shaps = ShapleyValues(x=x, fc=fc, ref=references, K=len(references))\n",
    "assert np.linalg.norm(mc_shaps - true_shaps, 2) <= 0.1"
   ]
  },
  {
   "cell_type": "markdown",
   "metadata": {},
   "source": [
    "## Export-"
   ]
  },
  {
   "cell_type": "code",
   "execution_count": null,
   "metadata": {},
   "outputs": [
    {
     "name": "stdout",
     "output_type": "stream",
     "text": [
      "Converted index.ipynb.\n",
      "Converted inspector.ipynb.\n",
      "Converted monte_carlo_shapley.ipynb.\n",
      "Converted sgd_shapley.ipynb.\n",
      "Converted shapley_values.ipynb.\n"
     ]
    }
   ],
   "source": [
    "#hide\n",
    "from nbdev.export import notebook2script\n",
    "notebook2script()"
   ]
  },
  {
   "cell_type": "code",
   "execution_count": null,
   "metadata": {},
   "outputs": [],
   "source": []
  }
 ],
 "metadata": {
  "kernelspec": {
   "display_name": "Python 3",
   "language": "python",
   "name": "python3"
  }
 },
 "nbformat": 4,
 "nbformat_minor": 4
}
