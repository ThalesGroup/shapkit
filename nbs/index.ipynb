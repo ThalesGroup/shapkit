{
 "cells": [
  {
   "cell_type": "markdown",
   "metadata": {},
   "source": [
    "# Shapkit\n",
    "\n",
    "> Interpret machine learning predictions using agnostic local feature importance based on Shapley Values. Documentation: https://thalesgroup.github.io/shapkit/"
   ]
  },
  {
   "cell_type": "markdown",
   "metadata": {},
   "source": [
    "## Overview\n",
    "\n",
    "### Objective\n",
    "\n",
    "Machine Learning is enjoying an increasing success in many applications: medical, marketing, defense, cyber security, transport. It is becoming a key tool in critical systems. However, models are often very complex and highly non-linear. This is problematic, especially for critical systems, because end-users need to fully understand decisions of an algorithm (e.g. why an alert has been triggered, why a person has a high probability of cancer recurrence,. . . ). One solution is to offer an interpretation for each individual prediction based on attribute relevance. Shapley Values allow to distribute fairly contributions for each attribute in order to understand the difference between a predicted value for an observation and a base value (e.g. the average prediction of a reference population).\n",
    "\n",
    "The method used is:\n",
    "* **agnostic**: no particular information on the model is needed, it works with black box algorithms. We only define a reward funtion (e.g. the model output).\n",
    "* **local**: the explanation is computed at instance level. Thus, each interpretation is associated to a given prediction.\n",
    "* More suitable for **tabular data** with meaningful features.\n",
    "\n",
    "### A concrete use case: COMPAS\n",
    "\n",
    "> *COMPAS (Correctional Offender Management Profiling for Alternative Sanctions) is a popular commercial algorithm used by judges and parole officers for scoring criminal defendant’s likelihood of reoffending (recidivism)*\n",
    "\n",
    "Assume that we have trained a machine learning model to predict the probability of recividism of a given individual. The algorithm is quite effective but it only returns a probability score without any details on how it has made its choice.\n",
    "We would like to know how each attribute (characteristic) influences the model output. Furthermore, contributions explain the difference between the individual prediction and the mean prediction for all references. These references are defined by the user (e.g. for classification, interesting references are selected into other predicted classes)."
   ]
  },
  {
   "cell_type": "markdown",
   "metadata": {},
   "source": [
    "<img alt=\"Exporting from nbdev\" width=\"1000\" caption=\"On this example, we can analyze that the age (21 years old) and the ethnicity of the individual x increase respectively by 46% and 15% the estimated probability of recidivism. In the meantime, the fact that he has never commited any crimes decreases the probability by 9%.\" src=\"images/compas_plot.png\" />"
   ]
  },
  {
   "cell_type": "markdown",
   "metadata": {},
   "source": [
    "This picture displays the kind of interpretation associated to a given prediction for individual x. We want to understand the model decision associated to an individual x. As an example, here the individual  has a probability of 70% to reoffend. (the blue tick at top right).\n",
    "Attribute importance are computed with respect to one or several references. On this example, we chose only non predicted recividists as good elements of comparison. The mean probability for that group of references is about 14% (green tick at the bottom left).\n",
    "Finally, the gap between our individual prediction and the mean reference prediction is splitted by the attribute importance. The sum of all contributions equals that difference. \n",
    "Now, we can analyze that the age (21 years old) and the ethnicity of the individual x increase respectively by 46% and 15% the estimated probability of recidivism. In the meantime, the fact that he has never commited any crimes decreases the probability by 9%."
   ]
  },
  {
   "cell_type": "markdown",
   "metadata": {},
   "source": [
    "## Install"
   ]
  },
  {
   "cell_type": "markdown",
   "metadata": {},
   "source": [
    "```\n",
    "pip install shapkit\n",
    "```"
   ]
  },
  {
   "cell_type": "markdown",
   "metadata": {},
   "source": [
    "## Dependencies\n",
    "\n",
    "* [python3](https://www.python.org/downloads/) (>= 3.6)\n",
    "* [numpy](https://numpy.org/) (>= 1.17.2)\n",
    "* [pandas](https://pandas.pydata.org/) (>= 0.25.3)\n",
    "* [matplotlib](https://matplotlib.org/) (>= 2.2.3)\n",
    "* [seaborn](https://seaborn.pydata.org/) (>= 0.9.0)\n",
    "* [tqdm](https://github.com/tqdm/tqdm) [optional] (>= 4.26.0)"
   ]
  },
  {
   "cell_type": "markdown",
   "metadata": {},
   "source": [
    "```\n",
    "pip install -r requirements.txt\n",
    "```"
   ]
  },
  {
   "cell_type": "markdown",
   "metadata": {},
   "source": [
    "## How to use"
   ]
  },
  {
   "cell_type": "markdown",
   "metadata": {},
   "source": [
    "The method is a post-hoc explanation, so you do not have to change your routine. Firstly, train your model:\n",
    "```python\n",
    "model.fit(X_train, y_train)\n",
    "```\n",
    "\n",
    "Then, define your reward function `fc` (e.g. simply set by your model output):\n",
    "```python\n",
    "fc = lambda x: model.predict_proba(x)\n",
    "```\n",
    "\n",
    "Select an instance `x` for which you need more interpretation. Pick also one or several `reference(s)` (instance or dataset of individuals). \n",
    "If the number of features is not too high (said lower than 10), you can compute the exact Shapley Values.\n",
    "```python\n",
    "true_shap = ShapleyValues(x=x, fc=fc, ref=reference)\n",
    "```\n",
    "\n",
    "If the dimension exceeds about 15, then you may need approximation algorithms to estimate the Shapley Values. \n",
    "\n",
    "* Monte Carlo algorithm:\n",
    "\n",
    "```python\n",
    "mc_shap = MonteCarloShapley(x=x, fc=fc, ref=reference, n_iter=1000)\n",
    "```\n",
    "\n",
    "\n",
    "* Projected Stochastic Gradient Descent algorithm:\n",
    "\n",
    "```python\n",
    "sgd_est = SGDshapley(d, C=y.max())\n",
    "sgd_shap = sgd_est.sgd(x=x, fc=fc, ref=reference, n_iter=5000, step=.1, step_type=\"sqrt\")\n",
    "```"
   ]
  },
  {
   "cell_type": "markdown",
   "metadata": {},
   "source": [
    "## Code and description\n",
    "\n",
    "This library is based on [nbdev](http://nbdev.fast.ai/). If you want to modify the lib or run tests, you will have to install it.\n",
    "> nbdev is a library that allows you to fully develop a library in Jupyter Notebooks, putting all your code, tests and documentation in one place. That is: you now have a true literate programming environment, as envisioned by Donald Knuth back in 1983!\n",
    "\n",
    "\n",
    "Codes, descriptions, small examples and tests are all put together in jupyter notebooks in the folder `nbs`.\n",
    "\n",
    "Usefull commands from `nbdev`:\n",
    "\n",
    "* Build your lib by converting all notebooks in folder `nbs` to .py files\n",
    "```\n",
    " nbdev_build_lib\n",
    "```\n",
    "\n",
    "\n",
    "* Run all tests in parallel\n",
    "```\n",
    "nbdev_test_nbs\n",
    "```\n",
    "\n",
    "\n",
    "* Build docs\n",
    "```\n",
    "nbdev_build_docs\n",
    "```"
   ]
  },
  {
   "cell_type": "markdown",
   "metadata": {},
   "source": [
    "## Tutorial\n",
    "\n",
    "Notebook demos are availables in `tutorials` folder."
   ]
  },
  {
   "cell_type": "markdown",
   "metadata": {},
   "source": [
    "## License\n",
    "\n",
    "Shapkit is licensed under the terms of the MIT License (see the file LICENSE)."
   ]
  },
  {
   "cell_type": "markdown",
   "metadata": {},
   "source": [
    "## Main reference\n",
    "\n",
    "*A Projected SGD algorithm for estimating Shapley Value applied in attribute importance*, S. Grah, V. Thouvenot, CD-MAKE 2020"
   ]
  }
 ],
 "metadata": {
  "kernelspec": {
   "display_name": "Python 3",
   "language": "python",
   "name": "python3"
  }
 },
 "nbformat": 4,
 "nbformat_minor": 4
}
