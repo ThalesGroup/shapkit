{
 "cells": [
  {
   "cell_type": "code",
   "execution_count": null,
   "metadata": {},
   "outputs": [],
   "source": [
    "# default_exp shapleyvalues"
   ]
  },
  {
   "cell_type": "code",
   "execution_count": null,
   "metadata": {},
   "outputs": [],
   "source": [
    "import numpy as np\n",
    "import pandas as pd\n",
    "from itertools import combinations\n",
    "from math import factorial\n",
    "from tqdm import tqdm"
   ]
  },
  {
   "cell_type": "code",
   "execution_count": null,
   "metadata": {},
   "outputs": [],
   "source": [
    "%load_ext autoreload\n",
    "%autoreload 2"
   ]
  },
  {
   "cell_type": "markdown",
   "metadata": {},
   "source": [
    "# ShapleyValues\n",
    "\n",
    "> Calculate the exact Shapley Values for an element x and defined by a game based on reference r and function fc."
   ]
  },
  {
   "cell_type": "code",
   "execution_count": null,
   "metadata": {},
   "outputs": [],
   "source": [
    "#hide\n",
    "from nbdev.showdoc import *"
   ]
  },
  {
   "cell_type": "code",
   "execution_count": null,
   "metadata": {},
   "outputs": [],
   "source": [
    "#export\n",
    "def ShapleyValues(x, fc, r):\n",
    "    \"\"\"\n",
    "    Calculate the exact Shapley Values for an element x and\n",
    "    defined by a game based on reference r and function fc\n",
    "\n",
    "    Parameters\n",
    "    ----------\n",
    "    x : numpy array or pandas Series\n",
    "        The instance for which we want to calculate Shapley value of\n",
    "        each attribute\n",
    "\n",
    "    fc : python function\n",
    "        A function which takes as input an array of len(x) and returns\n",
    "        a real number\n",
    "\n",
    "    r : numpy array or pandas Series\n",
    "        The reference instance. The Shapley values (attribute importance)\n",
    "        is a contrastive explanation according to this reference\n",
    "\n",
    "    Returns\n",
    "    -------\n",
    "    Φ : pandas Series\n",
    "        Shapley values of each attribute\n",
    "\n",
    "    References\n",
    "    ----------\n",
    "    A Unified Approach to Interpreting Model Predictions\n",
    "    Scott M. Lundberg, Su-In Lee, 2017 \\n\n",
    "    NIPS 2017\n",
    "\n",
    "    The Explanation Game: Explaining Machine Learning Models\n",
    "    with Cooperative Game Theory\n",
    "    Luke Merrick, Ankur Taly, 2019\n",
    "    \"\"\"\n",
    "\n",
    "    # Get general information\n",
    "    feature_names = list(x.index)\n",
    "    d = len(feature_names) # dimension\n",
    "    set_features = set(feature_names)\n",
    "\n",
    "    # Store Shapley Values in a pandas Series\n",
    "    Φ = pd.Series(np.zeros(d), index=feature_names)\n",
    "\n",
    "    # Start computation (number of coalitions: 2**d - 1)\n",
    "    for cardinal_S in tqdm(range(0, d)):\n",
    "        # weight\n",
    "        ω = factorial(cardinal_S) * (factorial(d - cardinal_S - 1))\n",
    "        ω /= factorial(d)\n",
    "        # iter over all combinations of size cardinal_S\n",
    "        for S in combinations(feature_names, cardinal_S):\n",
    "            S = list(S)\n",
    "            z_S = np.array([x[col] if col in S else r[col] for col in feature_names])\n",
    "            f_S = fc(z_S)\n",
    "            # Consider only features outside of S\n",
    "            features_out_S = set_features - set(S)\n",
    "            for j in features_out_S:\n",
    "                S_union_j = S + [j]\n",
    "                z_S_union_j = np.array([x[col] if col in S_union_j else r[col] for col in feature_names])\n",
    "                f_S_union_j = fc(z_S_union_j)\n",
    "                # Update Shapley value of attribute i\n",
    "                Φ[j] += ω * (f_S_union_j - f_S)\n",
    "\n",
    "    return Φ"
   ]
  },
  {
   "cell_type": "markdown",
   "metadata": {},
   "source": [
    "# Examples"
   ]
  },
  {
   "cell_type": "markdown",
   "metadata": {},
   "source": [
    "### Toy dataset"
   ]
  },
  {
   "cell_type": "code",
   "execution_count": null,
   "metadata": {},
   "outputs": [],
   "source": [
    "def generate_sample(dim, n_samples, rho=0):\n",
    "    \"\"\"\n",
    "    Gaussian Features\n",
    "    ex: dim = 3\n",
    "    mu=[0, 0, 0]\n",
    "    sigma = [1 rho rho]\n",
    "            [rho 1 rho]\n",
    "            [rho rho 1]\n",
    "    p(x) ~ N(mu, sigma)\n",
    "    \"\"\"\n",
    "    # Law parameters\n",
    "    mu = np.zeros(dim)\n",
    "    sigma = np.ones((dim, dim)) * rho\n",
    "    np.fill_diagonal(sigma, [1] * dim)\n",
    "    # Simulation\n",
    "    X = np.random.multivariate_normal(mean=mu, cov=sigma, size=n_samples)\n",
    "    df_X = pd.DataFrame(X, columns=['x'+str(i) for i in range(1, dim+1)])\n",
    "    return df_X"
   ]
  },
  {
   "cell_type": "code",
   "execution_count": null,
   "metadata": {},
   "outputs": [],
   "source": [
    "d = 5\n",
    "n_samples = 100\n",
    "X = generate_sample(d, n_samples)\n",
    "y = np.zeros(len(X))\n",
    "for i in range(len(X)):\n",
    "    phi_x = np.sqrt(.5 * np.pi) * np.exp(-0.5 * X.values[i] ** 2)\n",
    "    y[i] = np.prod(phi_x)"
   ]
  },
  {
   "cell_type": "code",
   "execution_count": null,
   "metadata": {},
   "outputs": [
    {
     "name": "stdout",
     "output_type": "stream",
     "text": [
      "dimension = 5 ; nb of coalitions = 30\n"
     ]
    }
   ],
   "source": [
    "n = 2**d - 2\n",
    "def fc(x):\n",
    "    phi_x = np.sqrt(.5 * np.pi) * np.exp(-0.5 * x ** 2)\n",
    "    return np.prod(phi_x)\n",
    "print(\"dimension = {0} ; nb of coalitions = {1}\".format(str(d), str(n)))"
   ]
  },
  {
   "cell_type": "markdown",
   "metadata": {},
   "source": [
    "### Illustration"
   ]
  },
  {
   "cell_type": "code",
   "execution_count": null,
   "metadata": {},
   "outputs": [],
   "source": [
    "# set the game\n",
    "idx_r, idx_x = np.random.choice(np.arange(len(X)), size=2, replace=False)\n",
    "r = X.iloc[idx_r,:]\n",
    "x = X.iloc[idx_x,:]"
   ]
  },
  {
   "cell_type": "code",
   "execution_count": null,
   "metadata": {},
   "outputs": [
    {
     "name": "stderr",
     "output_type": "stream",
     "text": [
      "100%|██████████| 5/5 [00:00<00:00, 537.91it/s]\n"
     ]
    }
   ],
   "source": [
    "true_shap = ShapleyValues(x=x, fc=fc, r=r)"
   ]
  },
  {
   "cell_type": "code",
   "execution_count": null,
   "metadata": {},
   "outputs": [
    {
     "data": {
      "text/plain": [
       "x1   -0.212646\n",
       "x2   -0.210187\n",
       "x3   -0.224681\n",
       "x4    0.569841\n",
       "x5   -0.193766\n",
       "dtype: float64"
      ]
     },
     "execution_count": null,
     "metadata": {},
     "output_type": "execute_result"
    }
   ],
   "source": [
    "true_shap"
   ]
  },
  {
   "cell_type": "markdown",
   "metadata": {},
   "source": [
    "# Tests"
   ]
  },
  {
   "cell_type": "code",
   "execution_count": null,
   "metadata": {},
   "outputs": [],
   "source": [
    "r_pred = fc(r.values)\n",
    "x_pred = fc(x.values)\n",
    "v_M = x_pred - r_pred"
   ]
  },
  {
   "cell_type": "code",
   "execution_count": null,
   "metadata": {},
   "outputs": [],
   "source": [
    "assert np.abs(true_shap.sum() - v_M) <= 1e-10 "
   ]
  },
  {
   "cell_type": "markdown",
   "metadata": {},
   "source": [
    "# Export nb to script "
   ]
  },
  {
   "cell_type": "code",
   "execution_count": null,
   "metadata": {},
   "outputs": [
    {
     "name": "stdout",
     "output_type": "stream",
     "text": [
      "Converted index.ipynb.\n",
      "Converted shapleyvalues.ipynb.\n"
     ]
    }
   ],
   "source": [
    "from nbdev.export import notebook2script\n",
    "notebook2script()"
   ]
  },
  {
   "cell_type": "code",
   "execution_count": null,
   "metadata": {},
   "outputs": [],
   "source": []
  }
 ],
 "metadata": {
  "kernelspec": {
   "display_name": "Python 3",
   "language": "python",
   "name": "python3"
  }
 },
 "nbformat": 4,
 "nbformat_minor": 4
}
