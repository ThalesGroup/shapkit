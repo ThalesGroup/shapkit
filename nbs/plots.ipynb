{
 "cells": [
  {
   "cell_type": "code",
   "execution_count": null,
   "metadata": {},
   "outputs": [],
   "source": [
    "# default_exp plots"
   ]
  },
  {
   "cell_type": "code",
   "execution_count": null,
   "metadata": {},
   "outputs": [],
   "source": [
    "#export\n",
    "import numpy as np\n",
    "import pandas as pd\n",
    "import matplotlib.pyplot as plt\n",
    "import matplotlib.patches as mpatches\n",
    "import seaborn as sns\n",
    "sns.set_style(\"whitegrid\")"
   ]
  },
  {
   "cell_type": "code",
   "execution_count": null,
   "metadata": {},
   "outputs": [],
   "source": [
    "#export\n",
    "def plot_shapley(x, fc, ref, shapley_values, n_attributes):\n",
    "    \n",
    "    # Get output for x and ref \n",
    "    pred_x = fc(x.values)\n",
    "    # Individual reference or dataset of references \n",
    "    if isinstance(ref, pd.core.series.Series):\n",
    "        pred_ref = fc(ref.values)\n",
    "    elif isinstance(ref, pd.core.frame.DataFrame):\n",
    "        if ref.shape[0] == 1:\n",
    "            ref = ref.iloc[0]\n",
    "            pred_ref = fc(ref.values)\n",
    "        else:\n",
    "            rewards = []\n",
    "            for idx in range(len(ref)):\n",
    "                rewards.append(fc(ref.values[idx,:]))\n",
    "            pred_ref = np.mean(rewards)\n",
    "\n",
    "    # Create a series for plotting\n",
    "    x_attributes = [feature + \" = \" + str(val) if isinstance(val, str) else feature + \" = \" + str(round(val,2)) for feature, val in x.iteritems()]\n",
    "    s_plot = pd.Series(data=shapley_values.values, index=x_attributes)\n",
    "    attributes = s_plot.abs().sort_values(ascending=False)[:n_attributes].index\n",
    "    s_plot = s_plot[attributes]\n",
    "    \n",
    "    # Plot \n",
    "    fig = plt.figure(figsize=(12,7))\n",
    "    plt.ylim(ymin=0, ymax=len(attributes) + 1)\n",
    "    \n",
    "    # Cumulative horizontal arrows for Shapley values ordered by absolute values\n",
    "#     s_plot_sorted = s_plot.sort_values(ascending=False)\n",
    "    attribute_order = s_plot.abs().sort_values(ascending=False).index\n",
    "    s_plot_sorted = s_plot[attribute_order]\n",
    "    epsilon = 1e-5 # avoid arrows with width=0.\n",
    "    past_val = 0.\n",
    "    for idx, (attr, val) in enumerate(s_plot_sorted.iteritems()):\n",
    "        if val >= 0:\n",
    "            arrow = mpatches.FancyArrow(x=past_val, y=idx+1, dx=val+epsilon, dy=0, width=0.8, length_includes_head=True, head_width=0.8,\n",
    "                                head_length=(val+epsilon)/10, shape='full', overhang=0, head_starts_at_zero=False, color=\"cornflowerblue\")\n",
    "            fig.get_axes()[0].add_patch(arrow)\n",
    "            plt.text(x=past_val + val/2, y=idx+1, s=\"+\"+str(round(val,2)), fontsize=20)\n",
    "        else:\n",
    "            arrow = mpatches.FancyArrow(x=past_val, y=idx+1, dx=val-epsilon, dy=0, width=0.8, length_includes_head=True, head_width=0.8,\n",
    "                                head_length=-(val-epsilon)/10, shape='full', overhang=0, head_starts_at_zero=False, color=\"lightsalmon\")\n",
    "            fig.get_axes()[0].add_patch(arrow)\n",
    "            plt.text(x=past_val + val/2, y=idx+1, s=\"-\"+str(round(np.abs(val),2)), fontsize=20)\n",
    "        if idx > 0:\n",
    "            plt.vlines(past_val, ymin=idx, ymax=idx+1, colors=\"k\", linewidth=1, linestyles=\"--\")\n",
    "        past_val += val\n",
    "        \n",
    "    # Rearrange yticks and its labels\n",
    "    fig.get_axes()[0].set_yticks(range(1, len(attributes)+1))\n",
    "    fig.get_axes()[0].set_yticklabels(list(s_plot_sorted.index))\n",
    "    \n",
    "    # Display vertical arrows for reference and x outputs\n",
    "    width_ = np.abs(pred_x - pred_ref) / 100\n",
    "    arrow = mpatches.FancyArrow(0, 0, 0, 1, width=width_, length_includes_head=True, head_width=width_,\n",
    "                                head_length=0.2, shape='full', overhang=0, head_starts_at_zero=False,\n",
    "                                color=\"forestgreen\", label=\"reference output = \"+str(round(pred_ref,2)))\n",
    "    fig.get_axes()[0].add_patch(arrow)\n",
    "    arrow = mpatches.FancyArrow(pred_x - pred_ref, idx+1, 0, 1, width=width_, length_includes_head=True, head_width=width_,\n",
    "                                head_length=0.2, shape='full', overhang=0, head_starts_at_zero=False,\n",
    "                                color=\"midnightblue\", label=\"x output = \"+str(round(pred_x,2)))\n",
    "    fig.get_axes()[0].add_patch(arrow)\n",
    "    \n",
    "    # Rename xticks labels because zero is the reference reward\n",
    "    xticks_label = np.round(fig.get_axes()[0].get_xticks() + pred_ref, 2)\n",
    "    fig.get_axes()[0].set_xticklabels(xticks_label)\n",
    "    \n",
    "    plt.legend(loc='best')\n",
    "    plt.xlabel(\"Output\")\n",
    "    plt.ylabel(\"x attributes\")\n",
    "    plt.show()"
   ]
  },
  {
   "cell_type": "markdown",
   "metadata": {},
   "source": [
    "## Example"
   ]
  },
  {
   "cell_type": "markdown",
   "metadata": {},
   "source": [
    "We use a simulated dataset from the book _Elements of Statistical Learning_ ([hastie,2009], the Radial example). $X_1, \\dots , X_{d}$ are standard independent Gaussian. The model is determined by:\n",
    "\n",
    "$$ Y = \\prod_{j=1}^{d} \\rho(X_j), $$\n",
    "\n",
    "where $\\rho\\text{: } t \\rightarrow \\sqrt{(0.5 \\pi)} \\exp(- t^2 /2)$. The regression function $f_{regr}$ is deterministic and simply defined by $f_r\\text{: } \\textbf{x} \\rightarrow \\prod_{j=1}^{d} \\phi(x_j)$. For a reference $\\mathbf{r^*}$ and a target $\\mathbf{x^*}$, we define the reward function $v_r^{\\mathbf{r^*}, \\mathbf{x^*}}$ such as for each coalition $S$, $v_r^{\\mathbf{r^*}, \\mathbf{x^*}}(S) = f_{regr}(\\mathbf{z}(\\mathbf{x^*}, \\mathbf{r^*}, S)) - f_{regr}(\\mathbf{r^*}).$\n",
    "\n",
    " [hastie,2009] _The Elements of Statistical Learning: Data Mining, Inference, and Prediction, Second Edition_. Hastie, Trevor and Tibshirani, Robert and Friedman, Jerome. Springer Series in Statistics, 2009.\n",
    "\t"
   ]
  },
  {
   "cell_type": "code",
   "execution_count": null,
   "metadata": {},
   "outputs": [
    {
     "name": "stdout",
     "output_type": "stream",
     "text": [
      "dimension = 5 ; nb of coalitions = 30\n"
     ]
    }
   ],
   "source": [
    "d, n_samples = 5, 100\n",
    "mu = np.zeros(d)\n",
    "Sigma = np.zeros((d,d))\n",
    "np.fill_diagonal(Sigma, [1] * d)\n",
    "X = np.random.multivariate_normal(mean=mu, cov=Sigma, size=n_samples)\n",
    "X = pd.DataFrame(X, columns=['x'+str(i) for i in range(1, d+1)])\n",
    "def fc(x):\n",
    "    phi_x = np.sqrt(.5 * np.pi) * np.exp(-0.5 * x ** 2)\n",
    "    return np.prod(phi_x)\n",
    "y = np.zeros(len(X))\n",
    "for i in range(len(X)):\n",
    "    y[i] = fc(X.values[i])\n",
    "n = 2**d - 2\n",
    "print(\"dimension = {0} ; nb of coalitions = {1}\".format(str(d), str(n)))"
   ]
  },
  {
   "cell_type": "code",
   "execution_count": null,
   "metadata": {},
   "outputs": [],
   "source": [
    "from shapkit_nbdev.shapley_values import ShapleyValues"
   ]
  },
  {
   "cell_type": "markdown",
   "metadata": {},
   "source": [
    "### Pick an individual x to explain"
   ]
  },
  {
   "cell_type": "code",
   "execution_count": null,
   "metadata": {},
   "outputs": [
    {
     "data": {
      "text/plain": [
       "x1   -0.464408\n",
       "x2    0.018879\n",
       "x3    2.008941\n",
       "x4   -0.899668\n",
       "x5    1.157927\n",
       "Name: 27, dtype: float64"
      ]
     },
     "execution_count": null,
     "metadata": {},
     "output_type": "execute_result"
    }
   ],
   "source": [
    "x = X.iloc[np.random.choice(len(X), size=1)[0],:]\n",
    "x"
   ]
  },
  {
   "cell_type": "markdown",
   "metadata": {},
   "source": [
    "### Single reference"
   ]
  },
  {
   "cell_type": "code",
   "execution_count": null,
   "metadata": {},
   "outputs": [
    {
     "data": {
      "text/plain": [
       "x1   -1.005158\n",
       "x2   -0.336999\n",
       "x3   -1.810419\n",
       "x4   -0.839191\n",
       "x5    0.796232\n",
       "Name: 42, dtype: float64"
      ]
     },
     "execution_count": null,
     "metadata": {},
     "output_type": "execute_result"
    }
   ],
   "source": [
    "reference = X.iloc[np.random.choice(len(X), size=1)[0],:]\n",
    "reference"
   ]
  },
  {
   "cell_type": "code",
   "execution_count": null,
   "metadata": {},
   "outputs": [
    {
     "name": "stderr",
     "output_type": "stream",
     "text": [
      "100%|██████████| 5/5 [00:00<00:00, 268.20it/s]\n"
     ]
    }
   ],
   "source": [
    "true_shap = ShapleyValues(x=x, fc=fc, ref=reference)"
   ]
  },
  {
   "cell_type": "code",
   "execution_count": null,
   "metadata": {},
   "outputs": [
    {
     "data": {
      "text/plain": [
       "x1    0.062138\n",
       "x2    0.008773\n",
       "x3   -0.058060\n",
       "x4   -0.008125\n",
       "x5   -0.054161\n",
       "dtype: float64"
      ]
     },
     "execution_count": null,
     "metadata": {},
     "output_type": "execute_result"
    }
   ],
   "source": [
    "true_shap"
   ]
  },
  {
   "cell_type": "code",
   "execution_count": null,
   "metadata": {},
   "outputs": [
    {
     "data": {
      "image/png": "[encoded data removed]",
      "text/plain": [
       "<Figure size 864x504 with 1 Axes>"
      ]
     },
     "metadata": {
      "needs_background": "light"
     },
     "output_type": "display_data"
    }
   ],
   "source": [
    "plot_shapley(x=x, fc=fc, ref=reference, shapley_values=true_shap, n_attributes=5)"
   ]
  },
  {
   "cell_type": "markdown",
   "metadata": {},
   "source": [
    "### Several references "
   ]
  },
  {
   "cell_type": "code",
   "execution_count": null,
   "metadata": {},
   "outputs": [
    {
     "data": {
      "text/html": [
       "<div>\n",
       "<style scoped>\n",
       "    .dataframe tbody tr th:only-of-type {\n",
       "        vertical-align: middle;\n",
       "    }\n",
       "\n",
       "    .dataframe tbody tr th {\n",
       "        vertical-align: top;\n",
       "    }\n",
       "\n",
       "    .dataframe thead th {\n",
       "        text-align: right;\n",
       "    }\n",
       "</style>\n",
       "<table border=\"1\" class=\"dataframe\">\n",
       "  <thead>\n",
       "    <tr style=\"text-align: right;\">\n",
       "      <th></th>\n",
       "      <th>x1</th>\n",
       "      <th>x2</th>\n",
       "      <th>x3</th>\n",
       "      <th>x4</th>\n",
       "      <th>x5</th>\n",
       "    </tr>\n",
       "  </thead>\n",
       "  <tbody>\n",
       "    <tr>\n",
       "      <th>54</th>\n",
       "      <td>1.213967</td>\n",
       "      <td>0.931206</td>\n",
       "      <td>-0.524708</td>\n",
       "      <td>-0.753055</td>\n",
       "      <td>-0.923654</td>\n",
       "    </tr>\n",
       "    <tr>\n",
       "      <th>32</th>\n",
       "      <td>-0.886220</td>\n",
       "      <td>-1.258168</td>\n",
       "      <td>-0.987226</td>\n",
       "      <td>0.822218</td>\n",
       "      <td>0.336016</td>\n",
       "    </tr>\n",
       "    <tr>\n",
       "      <th>96</th>\n",
       "      <td>-0.880033</td>\n",
       "      <td>-1.572747</td>\n",
       "      <td>-0.903674</td>\n",
       "      <td>-0.395526</td>\n",
       "      <td>0.135087</td>\n",
       "    </tr>\n",
       "    <tr>\n",
       "      <th>19</th>\n",
       "      <td>0.672377</td>\n",
       "      <td>1.301552</td>\n",
       "      <td>0.675478</td>\n",
       "      <td>0.312630</td>\n",
       "      <td>0.935312</td>\n",
       "    </tr>\n",
       "    <tr>\n",
       "      <th>55</th>\n",
       "      <td>-0.406830</td>\n",
       "      <td>-0.132195</td>\n",
       "      <td>-0.965188</td>\n",
       "      <td>-0.414374</td>\n",
       "      <td>1.136633</td>\n",
       "    </tr>\n",
       "    <tr>\n",
       "      <th>71</th>\n",
       "      <td>0.229544</td>\n",
       "      <td>-1.260001</td>\n",
       "      <td>0.196788</td>\n",
       "      <td>0.326800</td>\n",
       "      <td>-0.415964</td>\n",
       "    </tr>\n",
       "    <tr>\n",
       "      <th>36</th>\n",
       "      <td>-0.710906</td>\n",
       "      <td>-1.414816</td>\n",
       "      <td>1.642201</td>\n",
       "      <td>1.133323</td>\n",
       "      <td>0.443849</td>\n",
       "    </tr>\n",
       "    <tr>\n",
       "      <th>21</th>\n",
       "      <td>-0.015290</td>\n",
       "      <td>-1.714221</td>\n",
       "      <td>-0.135158</td>\n",
       "      <td>-0.942600</td>\n",
       "      <td>-0.396114</td>\n",
       "    </tr>\n",
       "    <tr>\n",
       "      <th>59</th>\n",
       "      <td>0.660268</td>\n",
       "      <td>0.332635</td>\n",
       "      <td>-0.784808</td>\n",
       "      <td>0.854871</td>\n",
       "      <td>-0.552012</td>\n",
       "    </tr>\n",
       "    <tr>\n",
       "      <th>50</th>\n",
       "      <td>1.570867</td>\n",
       "      <td>-1.106862</td>\n",
       "      <td>-0.179201</td>\n",
       "      <td>0.114782</td>\n",
       "      <td>-0.284406</td>\n",
       "    </tr>\n",
       "  </tbody>\n",
       "</table>\n",
       "</div>"
      ],
      "text/plain": [
       "          x1        x2        x3        x4        x5\n",
       "54  1.213967  0.931206 -0.524708 -0.753055 -0.923654\n",
       "32 -0.886220 -1.258168 -0.987226  0.822218  0.336016\n",
       "96 -0.880033 -1.572747 -0.903674 -0.395526  0.135087\n",
       "19  0.672377  1.301552  0.675478  0.312630  0.935312\n",
       "55 -0.406830 -0.132195 -0.965188 -0.414374  1.136633\n",
       "71  0.229544 -1.260001  0.196788  0.326800 -0.415964\n",
       "36 -0.710906 -1.414816  1.642201  1.133323  0.443849\n",
       "21 -0.015290 -1.714221 -0.135158 -0.942600 -0.396114\n",
       "59  0.660268  0.332635 -0.784808  0.854871 -0.552012\n",
       "50  1.570867 -1.106862 -0.179201  0.114782 -0.284406"
      ]
     },
     "execution_count": null,
     "metadata": {},
     "output_type": "execute_result"
    }
   ],
   "source": [
    "references = X.iloc[np.random.choice(len(X), size=10, replace=False),:]\n",
    "references"
   ]
  },
  {
   "cell_type": "code",
   "execution_count": null,
   "metadata": {},
   "outputs": [
    {
     "name": "stderr",
     "output_type": "stream",
     "text": [
      "100%|██████████| 5/5 [00:00<00:00, 37.56it/s]\n"
     ]
    }
   ],
   "source": [
    "true_shaps = ShapleyValues(x=x, fc=fc, ref=references, K=len(references))"
   ]
  },
  {
   "cell_type": "code",
   "execution_count": null,
   "metadata": {},
   "outputs": [
    {
     "data": {
      "text/plain": [
       "x1    0.092146\n",
       "x2    0.285799\n",
       "x3   -0.570836\n",
       "x4   -0.079161\n",
       "x5   -0.174111\n",
       "dtype: float64"
      ]
     },
     "execution_count": null,
     "metadata": {},
     "output_type": "execute_result"
    }
   ],
   "source": [
    "true_shaps"
   ]
  },
  {
   "cell_type": "code",
   "execution_count": null,
   "metadata": {},
   "outputs": [
    {
     "data": {
      "image/png": "[encoded data removed]",
      "text/plain": [
       "<Figure size 864x504 with 1 Axes>"
      ]
     },
     "metadata": {
      "needs_background": "light"
     },
     "output_type": "display_data"
    }
   ],
   "source": [
    "plot_shapley(x=x, fc=fc, ref=references, shapley_values=true_shaps, n_attributes=6)"
   ]
  },
  {
   "cell_type": "markdown",
   "metadata": {},
   "source": [
    "## Export-"
   ]
  },
  {
   "cell_type": "code",
   "execution_count": null,
   "metadata": {},
   "outputs": [
    {
     "name": "stdout",
     "output_type": "stream",
     "text": [
      "Converted index.ipynb.\n",
      "Converted inspector.ipynb.\n",
      "Converted monte_carlo_shapley.ipynb.\n",
      "Converted plots.ipynb.\n",
      "Converted sgd_shapley.ipynb.\n",
      "Converted shapley_values.ipynb.\n"
     ]
    }
   ],
   "source": [
    "#hide\n",
    "from nbdev.export import notebook2script\n",
    "notebook2script()"
   ]
  },
  {
   "cell_type": "code",
   "execution_count": null,
   "metadata": {},
   "outputs": [],
   "source": []
  },
  {
   "cell_type": "code",
   "execution_count": null,
   "metadata": {},
   "outputs": [],
   "source": []
  }
 ],
 "metadata": {
  "kernelspec": {
   "display_name": "Python 3",
   "language": "python",
   "name": "python3"
  }
 },
 "nbformat": 4,
 "nbformat_minor": 4
}
