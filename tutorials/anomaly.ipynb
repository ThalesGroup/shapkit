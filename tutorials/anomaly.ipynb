{
 "cells": [
  {
   "cell_type": "code",
   "execution_count": 1,
   "metadata": {
    "inputHidden": false,
    "outputHidden": false
   },
   "outputs": [],
   "source": [
    "import numpy as np\n",
    "import pandas as pd\n",
    "import matplotlib.pyplot as plt\n",
    "%matplotlib inline\n",
    "import seaborn as sns\n",
    "\n",
    "from shapkit.shapley_values import ShapleyValues\n",
    "from shapkit.inspector import inspector\n",
    "from shapkit.monte_carlo_shapley import MonteCarloShapley, MonteCarloShapleyBatch\n",
    "from shapkit.sgd_shapley import SGDshapley\n",
    "from shapkit.plots import plot_shapley\n",
    "\n",
    "from sklearn.ensemble import IsolationForest"
   ]
  },
  {
   "cell_type": "markdown",
   "metadata": {},
   "source": [
    "# Load dataset"
   ]
  },
  {
   "cell_type": "code",
   "execution_count": 2,
   "metadata": {},
   "outputs": [
    {
     "data": {
      "text/html": [
       "<div>\n",
       "<style scoped>\n",
       "    .dataframe tbody tr th:only-of-type {\n",
       "        vertical-align: middle;\n",
       "    }\n",
       "\n",
       "    .dataframe tbody tr th {\n",
       "        vertical-align: top;\n",
       "    }\n",
       "\n",
       "    .dataframe thead th {\n",
       "        text-align: right;\n",
       "    }\n",
       "</style>\n",
       "<table border=\"1\" class=\"dataframe\">\n",
       "  <thead>\n",
       "    <tr style=\"text-align: right;\">\n",
       "      <th></th>\n",
       "      <th>alcohol</th>\n",
       "      <th>malic_acid</th>\n",
       "      <th>ash</th>\n",
       "      <th>alcalinity_of_ash</th>\n",
       "      <th>magnesium</th>\n",
       "      <th>total_phenols</th>\n",
       "      <th>flavanoids</th>\n",
       "      <th>nonflavanoid_phenols</th>\n",
       "      <th>proanthocyanins</th>\n",
       "      <th>color_intensity</th>\n",
       "      <th>hue</th>\n",
       "      <th>od280/od315_of_diluted_wines</th>\n",
       "      <th>proline</th>\n",
       "    </tr>\n",
       "  </thead>\n",
       "  <tbody>\n",
       "    <tr>\n",
       "      <th>0</th>\n",
       "      <td>14.23</td>\n",
       "      <td>1.71</td>\n",
       "      <td>2.43</td>\n",
       "      <td>15.6</td>\n",
       "      <td>127.0</td>\n",
       "      <td>2.80</td>\n",
       "      <td>3.06</td>\n",
       "      <td>0.28</td>\n",
       "      <td>2.29</td>\n",
       "      <td>5.64</td>\n",
       "      <td>1.04</td>\n",
       "      <td>3.92</td>\n",
       "      <td>1065.0</td>\n",
       "    </tr>\n",
       "    <tr>\n",
       "      <th>1</th>\n",
       "      <td>13.20</td>\n",
       "      <td>1.78</td>\n",
       "      <td>2.14</td>\n",
       "      <td>11.2</td>\n",
       "      <td>100.0</td>\n",
       "      <td>2.65</td>\n",
       "      <td>2.76</td>\n",
       "      <td>0.26</td>\n",
       "      <td>1.28</td>\n",
       "      <td>4.38</td>\n",
       "      <td>1.05</td>\n",
       "      <td>3.40</td>\n",
       "      <td>1050.0</td>\n",
       "    </tr>\n",
       "    <tr>\n",
       "      <th>2</th>\n",
       "      <td>13.16</td>\n",
       "      <td>2.36</td>\n",
       "      <td>2.67</td>\n",
       "      <td>18.6</td>\n",
       "      <td>101.0</td>\n",
       "      <td>2.80</td>\n",
       "      <td>3.24</td>\n",
       "      <td>0.30</td>\n",
       "      <td>2.81</td>\n",
       "      <td>5.68</td>\n",
       "      <td>1.03</td>\n",
       "      <td>3.17</td>\n",
       "      <td>1185.0</td>\n",
       "    </tr>\n",
       "    <tr>\n",
       "      <th>3</th>\n",
       "      <td>14.37</td>\n",
       "      <td>1.95</td>\n",
       "      <td>2.50</td>\n",
       "      <td>16.8</td>\n",
       "      <td>113.0</td>\n",
       "      <td>3.85</td>\n",
       "      <td>3.49</td>\n",
       "      <td>0.24</td>\n",
       "      <td>2.18</td>\n",
       "      <td>7.80</td>\n",
       "      <td>0.86</td>\n",
       "      <td>3.45</td>\n",
       "      <td>1480.0</td>\n",
       "    </tr>\n",
       "    <tr>\n",
       "      <th>4</th>\n",
       "      <td>13.24</td>\n",
       "      <td>2.59</td>\n",
       "      <td>2.87</td>\n",
       "      <td>21.0</td>\n",
       "      <td>118.0</td>\n",
       "      <td>2.80</td>\n",
       "      <td>2.69</td>\n",
       "      <td>0.39</td>\n",
       "      <td>1.82</td>\n",
       "      <td>4.32</td>\n",
       "      <td>1.04</td>\n",
       "      <td>2.93</td>\n",
       "      <td>735.0</td>\n",
       "    </tr>\n",
       "  </tbody>\n",
       "</table>\n",
       "</div>"
      ],
      "text/plain": [
       "   alcohol  malic_acid   ash  alcalinity_of_ash  magnesium  total_phenols  \\\n",
       "0    14.23        1.71  2.43               15.6      127.0           2.80   \n",
       "1    13.20        1.78  2.14               11.2      100.0           2.65   \n",
       "2    13.16        2.36  2.67               18.6      101.0           2.80   \n",
       "3    14.37        1.95  2.50               16.8      113.0           3.85   \n",
       "4    13.24        2.59  2.87               21.0      118.0           2.80   \n",
       "\n",
       "   flavanoids  nonflavanoid_phenols  proanthocyanins  color_intensity   hue  \\\n",
       "0        3.06                  0.28             2.29             5.64  1.04   \n",
       "1        2.76                  0.26             1.28             4.38  1.05   \n",
       "2        3.24                  0.30             2.81             5.68  1.03   \n",
       "3        3.49                  0.24             2.18             7.80  0.86   \n",
       "4        2.69                  0.39             1.82             4.32  1.04   \n",
       "\n",
       "   od280/od315_of_diluted_wines  proline  \n",
       "0                          3.92   1065.0  \n",
       "1                          3.40   1050.0  \n",
       "2                          3.17   1185.0  \n",
       "3                          3.45   1480.0  \n",
       "4                          2.93    735.0  "
      ]
     },
     "execution_count": 2,
     "metadata": {},
     "output_type": "execute_result"
    }
   ],
   "source": [
    "from sklearn.datasets import load_wine\n",
    "\n",
    "wine = load_wine(return_X_y=False)\n",
    "X = pd.DataFrame(wine.data, columns=wine.feature_names)\n",
    "X.head(5)"
   ]
  },
  {
   "cell_type": "markdown",
   "metadata": {},
   "source": [
    "\n",
    "# Train a ML model"
   ]
  },
  {
   "cell_type": "code",
   "execution_count": 3,
   "metadata": {
    "inputHidden": false,
    "outputHidden": false
   },
   "outputs": [
    {
     "data": {
      "text/plain": [
       "IsolationForest(behaviour='new', bootstrap=False, contamination='auto',\n",
       "                max_features=1.0, max_samples='auto', n_estimators=100,\n",
       "                n_jobs=-1, random_state=None, verbose=0, warm_start=False)"
      ]
     },
     "execution_count": 3,
     "metadata": {},
     "output_type": "execute_result"
    }
   ],
   "source": [
    "model = IsolationForest(behaviour=\"new\", contamination=\"auto\", n_jobs=-1)\n",
    "model.fit(X)"
   ]
  },
  {
   "cell_type": "markdown",
   "metadata": {},
   "source": [
    "# Define the game"
   ]
  },
  {
   "cell_type": "code",
   "execution_count": 4,
   "metadata": {
    "inputHidden": false,
    "outputHidden": false
   },
   "outputs": [
    {
     "data": {
      "text/plain": [
       "(13, 8190)"
      ]
     },
     "execution_count": 4,
     "metadata": {},
     "output_type": "execute_result"
    }
   ],
   "source": [
    "d = X.shape[1]\n",
    "n = 2**d - 2\n",
    "d, n"
   ]
  },
  {
   "cell_type": "markdown",
   "metadata": {},
   "source": [
    "## Reward function"
   ]
  },
  {
   "cell_type": "markdown",
   "metadata": {},
   "source": [
    "def fc(z):\n",
    "    if model.decision_function(z.reshape(1,-1)) < 0:\n",
    "        return 1\n",
    "    else:\n",
    "        return 0"
   ]
  },
  {
   "cell_type": "code",
   "execution_count": 5,
   "metadata": {},
   "outputs": [],
   "source": [
    "fc = lambda x: model.decision_function(x.reshape(1,-1))[0]"
   ]
  },
  {
   "cell_type": "markdown",
   "metadata": {},
   "source": [
    "### Pick an anomaly $x$"
   ]
  },
  {
   "cell_type": "code",
   "execution_count": 6,
   "metadata": {},
   "outputs": [
    {
     "name": "stdout",
     "output_type": "stream",
     "text": [
      "alcohol                          11.87\n",
      "malic_acid                        4.31\n",
      "ash                               2.39\n",
      "alcalinity_of_ash                21.00\n",
      "magnesium                        82.00\n",
      "total_phenols                     2.86\n",
      "flavanoids                        3.03\n",
      "nonflavanoid_phenols              0.21\n",
      "proanthocyanins                   2.91\n",
      "color_intensity                   2.80\n",
      "hue                               0.75\n",
      "od280/od315_of_diluted_wines      3.64\n",
      "proline                         380.00\n",
      "Name: 124, dtype: float64\n",
      "\n",
      "Prediction for x: -0.02\n"
     ]
    }
   ],
   "source": [
    "idx_anomaly = np.argwhere(model.predict(X) == -1).flatten()\n",
    "idx_x = np.random.choice(idx_anomaly, size=1)[0]\n",
    "x = X.iloc[idx_x,:]\n",
    "x_score = fc(x.values)\n",
    "print(x)\n",
    "print()\n",
    "print(\"Prediction for x: {0:.2f}\".format(x_score))"
   ]
  },
  {
   "cell_type": "markdown",
   "metadata": {},
   "source": [
    "### Single reference in normal class"
   ]
  },
  {
   "cell_type": "code",
   "execution_count": 7,
   "metadata": {},
   "outputs": [
    {
     "name": "stdout",
     "output_type": "stream",
     "text": [
      "alcohol                           13.88\n",
      "malic_acid                         1.89\n",
      "ash                                2.59\n",
      "alcalinity_of_ash                 15.00\n",
      "magnesium                        101.00\n",
      "total_phenols                      3.25\n",
      "flavanoids                         3.56\n",
      "nonflavanoid_phenols               0.17\n",
      "proanthocyanins                    1.70\n",
      "color_intensity                    5.43\n",
      "hue                                0.88\n",
      "od280/od315_of_diluted_wines       3.56\n",
      "proline                         1095.00\n",
      "Name: 42, dtype: float64\n",
      "\n",
      "Prediction for this reference: 0.04\n"
     ]
    }
   ],
   "source": [
    "idx_normal = np.argwhere(model.predict(X) == 1).flatten()\n",
    "idx_r = np.random.choice(idx_normal, size=1)[0]\n",
    "reference = X.iloc[idx_r,:]\n",
    "ref_score = fc(reference.values)\n",
    "print(reference)\n",
    "print()\n",
    "print(\"Prediction for this reference: {0:.2f}\".format(ref_score))"
   ]
  },
  {
   "cell_type": "markdown",
   "metadata": {},
   "source": [
    "#### Approximation methods"
   ]
  },
  {
   "cell_type": "markdown",
   "metadata": {},
   "source": [
    "##### Monte Carlo "
   ]
  },
  {
   "cell_type": "code",
   "execution_count": 8,
   "metadata": {
    "inputHidden": false,
    "outputHidden": false
   },
   "outputs": [
    {
     "name": "stderr",
     "output_type": "stream",
     "text": [
      "100%|██████████| 100/100 [00:37<00:00,  2.69it/s]\n"
     ]
    },
    {
     "data": {
      "text/plain": [
       "alcohol                        -0.015006\n",
       "malic_acid                     -0.023145\n",
       "ash                             0.003920\n",
       "alcalinity_of_ash               0.007119\n",
       "magnesium                      -0.010039\n",
       "total_phenols                   0.014500\n",
       "flavanoids                      0.014816\n",
       "nonflavanoid_phenols            0.009493\n",
       "proanthocyanins                -0.025724\n",
       "color_intensity                -0.007193\n",
       "hue                            -0.011848\n",
       "od280/od315_of_diluted_wines   -0.003469\n",
       "proline                        -0.012187\n",
       "dtype: float64"
      ]
     },
     "execution_count": 8,
     "metadata": {},
     "output_type": "execute_result"
    }
   ],
   "source": [
    "mc_shap = MonteCarloShapley(x=x, fc=fc, ref=reference, n_iter=100)\n",
    "mc_shap"
   ]
  },
  {
   "cell_type": "code",
   "execution_count": 9,
   "metadata": {},
   "outputs": [
    {
     "name": "stdout",
     "output_type": "stream",
     "text": [
      "CPU times: user 476 ms, sys: 3.95 ms, total: 480 ms\n",
      "Wall time: 479 ms\n"
     ]
    },
    {
     "data": {
      "text/plain": [
       "alcohol                        -0.014034\n",
       "malic_acid                     -0.023128\n",
       "ash                             0.003623\n",
       "alcalinity_of_ash               0.007011\n",
       "magnesium                      -0.010245\n",
       "total_phenols                   0.014585\n",
       "flavanoids                      0.014902\n",
       "nonflavanoid_phenols            0.009549\n",
       "proanthocyanins                -0.025970\n",
       "color_intensity                -0.007339\n",
       "hue                            -0.011636\n",
       "od280/od315_of_diluted_wines   -0.003337\n",
       "proline                        -0.012742\n",
       "dtype: float64"
      ]
     },
     "execution_count": 9,
     "metadata": {},
     "output_type": "execute_result"
    }
   ],
   "source": [
    "%%time\n",
    "mc_shap_batch = MonteCarloShapleyBatch(x=x, fc=model.decision_function, ref=reference, n_iter=1000)\n",
    "mc_shap_batch"
   ]
  },
  {
   "cell_type": "markdown",
   "metadata": {},
   "source": [
    "##### SGD"
   ]
  },
  {
   "cell_type": "code",
   "execution_count": 10,
   "metadata": {
    "inputHidden": false,
    "outputHidden": false
   },
   "outputs": [
    {
     "name": "stderr",
     "output_type": "stream",
     "text": [
      "100%|██████████| 50/50 [00:01<00:00, 33.18it/s]\n"
     ]
    },
    {
     "data": {
      "text/plain": [
       "alcohol                        -0.011061\n",
       "malic_acid                     -0.008167\n",
       "ash                            -0.004197\n",
       "alcalinity_of_ash               0.004011\n",
       "magnesium                      -0.010038\n",
       "total_phenols                   0.019552\n",
       "flavanoids                      0.003559\n",
       "nonflavanoid_phenols           -0.000666\n",
       "proanthocyanins                -0.016991\n",
       "color_intensity                -0.012210\n",
       "hue                            -0.006688\n",
       "od280/od315_of_diluted_wines   -0.004302\n",
       "proline                        -0.011563\n",
       "dtype: float64"
      ]
     },
     "execution_count": 10,
     "metadata": {},
     "output_type": "execute_result"
    }
   ],
   "source": [
    "sgd_est = SGDshapley(d, C=1)\n",
    "sgd_shap = sgd_est.sgd(x=x, fc=fc, ref=reference, n_iter=50, step=.1, step_type=\"sqrt\")\n",
    "sgd_shap"
   ]
  },
  {
   "cell_type": "markdown",
   "metadata": {},
   "source": [
    "#### Plot "
   ]
  },
  {
   "cell_type": "code",
   "execution_count": 11,
   "metadata": {},
   "outputs": [
    {
     "name": "stderr",
     "output_type": "stream",
     "text": [
      "/home/sgrah/Documents/shapkit/tutorials/shapkit/plots.py:104: UserWarning: FixedFormatter should only be used together with FixedLocator\n",
      "  fig.get_axes()[0].set_xticklabels(xticks_label)\n"
     ]
    },
    {
     "data": {
      "image/png": "[encoded data removed]",
      "text/plain": [
       "<Figure size 864x504 with 1 Axes>"
      ]
     },
     "metadata": {},
     "output_type": "display_data"
    }
   ],
   "source": [
    "plot_shapley(x=x, fc=fc, ref=reference, shapley_values=mc_shap_batch, n_attributes=10)"
   ]
  },
  {
   "cell_type": "markdown",
   "metadata": {},
   "source": [
    "### Several references "
   ]
  },
  {
   "cell_type": "code",
   "execution_count": 12,
   "metadata": {},
   "outputs": [
    {
     "data": {
      "text/html": [
       "<div>\n",
       "<style scoped>\n",
       "    .dataframe tbody tr th:only-of-type {\n",
       "        vertical-align: middle;\n",
       "    }\n",
       "\n",
       "    .dataframe tbody tr th {\n",
       "        vertical-align: top;\n",
       "    }\n",
       "\n",
       "    .dataframe thead th {\n",
       "        text-align: right;\n",
       "    }\n",
       "</style>\n",
       "<table border=\"1\" class=\"dataframe\">\n",
       "  <thead>\n",
       "    <tr style=\"text-align: right;\">\n",
       "      <th></th>\n",
       "      <th>alcohol</th>\n",
       "      <th>malic_acid</th>\n",
       "      <th>ash</th>\n",
       "      <th>alcalinity_of_ash</th>\n",
       "      <th>magnesium</th>\n",
       "      <th>total_phenols</th>\n",
       "      <th>flavanoids</th>\n",
       "      <th>nonflavanoid_phenols</th>\n",
       "      <th>proanthocyanins</th>\n",
       "      <th>color_intensity</th>\n",
       "      <th>hue</th>\n",
       "      <th>od280/od315_of_diluted_wines</th>\n",
       "      <th>proline</th>\n",
       "    </tr>\n",
       "  </thead>\n",
       "  <tbody>\n",
       "    <tr>\n",
       "      <th>37</th>\n",
       "      <td>13.05</td>\n",
       "      <td>1.65</td>\n",
       "      <td>2.55</td>\n",
       "      <td>18.0</td>\n",
       "      <td>98.0</td>\n",
       "      <td>2.45</td>\n",
       "      <td>2.43</td>\n",
       "      <td>0.29</td>\n",
       "      <td>1.44</td>\n",
       "      <td>4.25</td>\n",
       "      <td>1.12</td>\n",
       "      <td>2.51</td>\n",
       "      <td>1105.0</td>\n",
       "    </tr>\n",
       "    <tr>\n",
       "      <th>142</th>\n",
       "      <td>13.52</td>\n",
       "      <td>3.17</td>\n",
       "      <td>2.72</td>\n",
       "      <td>23.5</td>\n",
       "      <td>97.0</td>\n",
       "      <td>1.55</td>\n",
       "      <td>0.52</td>\n",
       "      <td>0.50</td>\n",
       "      <td>0.55</td>\n",
       "      <td>4.35</td>\n",
       "      <td>0.89</td>\n",
       "      <td>2.06</td>\n",
       "      <td>520.0</td>\n",
       "    </tr>\n",
       "    <tr>\n",
       "      <th>132</th>\n",
       "      <td>12.81</td>\n",
       "      <td>2.31</td>\n",
       "      <td>2.40</td>\n",
       "      <td>24.0</td>\n",
       "      <td>98.0</td>\n",
       "      <td>1.15</td>\n",
       "      <td>1.09</td>\n",
       "      <td>0.27</td>\n",
       "      <td>0.83</td>\n",
       "      <td>5.70</td>\n",
       "      <td>0.66</td>\n",
       "      <td>1.36</td>\n",
       "      <td>560.0</td>\n",
       "    </tr>\n",
       "    <tr>\n",
       "      <th>86</th>\n",
       "      <td>12.16</td>\n",
       "      <td>1.61</td>\n",
       "      <td>2.31</td>\n",
       "      <td>22.8</td>\n",
       "      <td>90.0</td>\n",
       "      <td>1.78</td>\n",
       "      <td>1.69</td>\n",
       "      <td>0.43</td>\n",
       "      <td>1.56</td>\n",
       "      <td>2.45</td>\n",
       "      <td>1.33</td>\n",
       "      <td>2.26</td>\n",
       "      <td>495.0</td>\n",
       "    </tr>\n",
       "    <tr>\n",
       "      <th>67</th>\n",
       "      <td>12.37</td>\n",
       "      <td>1.17</td>\n",
       "      <td>1.92</td>\n",
       "      <td>19.6</td>\n",
       "      <td>78.0</td>\n",
       "      <td>2.11</td>\n",
       "      <td>2.00</td>\n",
       "      <td>0.27</td>\n",
       "      <td>1.04</td>\n",
       "      <td>4.68</td>\n",
       "      <td>1.12</td>\n",
       "      <td>3.48</td>\n",
       "      <td>510.0</td>\n",
       "    </tr>\n",
       "  </tbody>\n",
       "</table>\n",
       "</div>"
      ],
      "text/plain": [
       "     alcohol  malic_acid   ash  alcalinity_of_ash  magnesium  total_phenols  \\\n",
       "37     13.05        1.65  2.55               18.0       98.0           2.45   \n",
       "142    13.52        3.17  2.72               23.5       97.0           1.55   \n",
       "132    12.81        2.31  2.40               24.0       98.0           1.15   \n",
       "86     12.16        1.61  2.31               22.8       90.0           1.78   \n",
       "67     12.37        1.17  1.92               19.6       78.0           2.11   \n",
       "\n",
       "     flavanoids  nonflavanoid_phenols  proanthocyanins  color_intensity   hue  \\\n",
       "37         2.43                  0.29             1.44             4.25  1.12   \n",
       "142        0.52                  0.50             0.55             4.35  0.89   \n",
       "132        1.09                  0.27             0.83             5.70  0.66   \n",
       "86         1.69                  0.43             1.56             2.45  1.33   \n",
       "67         2.00                  0.27             1.04             4.68  1.12   \n",
       "\n",
       "     od280/od315_of_diluted_wines  proline  \n",
       "37                           2.51   1105.0  \n",
       "142                          2.06    520.0  \n",
       "132                          1.36    560.0  \n",
       "86                           2.26    495.0  \n",
       "67                           3.48    510.0  "
      ]
     },
     "execution_count": 12,
     "metadata": {},
     "output_type": "execute_result"
    }
   ],
   "source": [
    "n_ref = 10\n",
    "idx_normal = np.argwhere(model.predict(X) == 1).flatten()\n",
    "idx_ref = np.random.choice(idx_normal, size=n_ref, replace=False).flatten()\n",
    "references = X.iloc[idx_ref,:]\n",
    "references.head(5)"
   ]
  },
  {
   "cell_type": "markdown",
   "metadata": {},
   "source": [
    "#### Approximation methods"
   ]
  },
  {
   "cell_type": "markdown",
   "metadata": {},
   "source": [
    "##### Monte Carlo "
   ]
  },
  {
   "cell_type": "code",
   "execution_count": 13,
   "metadata": {
    "inputHidden": false,
    "outputHidden": false
   },
   "outputs": [
    {
     "name": "stderr",
     "output_type": "stream",
     "text": [
      "100%|██████████| 100/100 [00:47<00:00,  2.11it/s]\n"
     ]
    },
    {
     "data": {
      "text/plain": [
       "alcohol                        -0.010072\n",
       "malic_acid                     -0.022781\n",
       "ash                             0.002137\n",
       "alcalinity_of_ash               0.006074\n",
       "magnesium                      -0.004183\n",
       "total_phenols                   0.000858\n",
       "flavanoids                     -0.008177\n",
       "nonflavanoid_phenols           -0.005503\n",
       "proanthocyanins                -0.027852\n",
       "color_intensity                 0.000660\n",
       "hue                            -0.002966\n",
       "od280/od315_of_diluted_wines   -0.008139\n",
       "proline                        -0.007053\n",
       "dtype: float64"
      ]
     },
     "execution_count": 13,
     "metadata": {},
     "output_type": "execute_result"
    }
   ],
   "source": [
    "mc_shaps = MonteCarloShapley(x=x, fc=fc, ref=references, n_iter=100)\n",
    "mc_shaps"
   ]
  },
  {
   "cell_type": "code",
   "execution_count": 14,
   "metadata": {},
   "outputs": [
    {
     "data": {
      "text/plain": [
       "alcohol                        -0.010115\n",
       "malic_acid                     -0.021597\n",
       "ash                             0.002556\n",
       "alcalinity_of_ash               0.005724\n",
       "magnesium                      -0.003809\n",
       "total_phenols                   0.000896\n",
       "flavanoids                     -0.009544\n",
       "nonflavanoid_phenols           -0.005368\n",
       "proanthocyanins                -0.024453\n",
       "color_intensity                 0.000304\n",
       "hue                            -0.002672\n",
       "od280/od315_of_diluted_wines   -0.010200\n",
       "proline                        -0.006752\n",
       "dtype: float64"
      ]
     },
     "execution_count": 14,
     "metadata": {},
     "output_type": "execute_result"
    }
   ],
   "source": [
    "mc_shaps_batch = MonteCarloShapleyBatch(x=x, fc=model.decision_function, ref=references, n_iter=1000)\n",
    "mc_shaps_batch"
   ]
  },
  {
   "cell_type": "markdown",
   "metadata": {},
   "source": [
    "#### Plots"
   ]
  },
  {
   "cell_type": "code",
   "execution_count": 15,
   "metadata": {},
   "outputs": [
    {
     "name": "stderr",
     "output_type": "stream",
     "text": [
      "/home/sgrah/Documents/shapkit/tutorials/shapkit/plots.py:104: UserWarning: FixedFormatter should only be used together with FixedLocator\n",
      "  fig.get_axes()[0].set_xticklabels(xticks_label)\n"
     ]
    },
    {
     "data": {
      "image/png": "[encoded data removed]",
      "text/plain": [
       "<Figure size 864x504 with 1 Axes>"
      ]
     },
     "metadata": {},
     "output_type": "display_data"
    }
   ],
   "source": [
    "plot_shapley(x=x, fc=fc, ref=references, shapley_values=mc_shaps_batch, n_attributes=15)"
   ]
  }
 ],
 "metadata": {
  "kernelspec": {
   "display_name": "Python 3",
   "language": "python",
   "name": "python3"
  },
  "language_info": {
   "codemirror_mode": {
    "name": "ipython",
    "version": 3
   },
   "file_extension": ".py",
   "mimetype": "text/x-python",
   "name": "python",
   "nbconvert_exporter": "python",
   "pygments_lexer": "ipython3",
   "version": "3.7.3"
  },
  "toc-autonumbering": false,
  "toc-showcode": false,
  "toc-showmarkdowntxt": true
 },
 "nbformat": 4,
 "nbformat_minor": 4
}
