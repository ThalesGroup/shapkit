{
 "cells": [
  {
   "cell_type": "code",
   "execution_count": 1,
   "metadata": {
    "inputHidden": false,
    "outputHidden": false
   },
   "outputs": [],
   "source": [
    "import numpy as np\n",
    "import pandas as pd\n",
    "import matplotlib.pyplot as plt\n",
    "%matplotlib inline\n",
    "import seaborn as sns\n",
    "\n",
    "from sklearn.model_selection import train_test_split\n",
    "\n",
    "from shapkit.shapley_values import ShapleyValues\n",
    "from shapkit.inspector import inspector\n",
    "from shapkit.monte_carlo_shapley import MonteCarloShapley, MonteCarloShapleyBatch\n",
    "from shapkit.sgd_shapley import SGDshapley\n",
    "from shapkit.plots import plot_shapley\n",
    "\n",
    "%load_ext autoreload\n",
    "%autoreload 2"
   ]
  },
  {
   "cell_type": "code",
   "execution_count": 2,
   "metadata": {},
   "outputs": [],
   "source": [
    "try:\n",
    "    from catboost import CatBoostClassifier, Pool\n",
    "except:\n",
    "    ! pip install catboost "
   ]
  },
  {
   "cell_type": "markdown",
   "metadata": {},
   "source": [
    "# Load dataset"
   ]
  },
  {
   "cell_type": "code",
   "execution_count": 3,
   "metadata": {
    "inputHidden": false,
    "outputHidden": false
   },
   "outputs": [
    {
     "data": {
      "text/html": [
       "<div>\n",
       "<style scoped>\n",
       "    .dataframe tbody tr th:only-of-type {\n",
       "        vertical-align: middle;\n",
       "    }\n",
       "\n",
       "    .dataframe tbody tr th {\n",
       "        vertical-align: top;\n",
       "    }\n",
       "\n",
       "    .dataframe thead th {\n",
       "        text-align: right;\n",
       "    }\n",
       "</style>\n",
       "<table border=\"1\" class=\"dataframe\">\n",
       "  <thead>\n",
       "    <tr style=\"text-align: right;\">\n",
       "      <th></th>\n",
       "      <th>gender</th>\n",
       "      <th>ethnicity</th>\n",
       "      <th>legal_status</th>\n",
       "      <th>custody_status</th>\n",
       "      <th>marital_status</th>\n",
       "      <th>recidivism_probability</th>\n",
       "      <th>age</th>\n",
       "      <th>priors_crimes_count</th>\n",
       "    </tr>\n",
       "  </thead>\n",
       "  <tbody>\n",
       "    <tr>\n",
       "      <th>0</th>\n",
       "      <td>Male</td>\n",
       "      <td>Caucasian</td>\n",
       "      <td>Pretrial</td>\n",
       "      <td>Jail Inmate</td>\n",
       "      <td>Married</td>\n",
       "      <td>Low</td>\n",
       "      <td>31</td>\n",
       "      <td>0</td>\n",
       "    </tr>\n",
       "    <tr>\n",
       "      <th>1</th>\n",
       "      <td>Male</td>\n",
       "      <td>African-American</td>\n",
       "      <td>Pretrial</td>\n",
       "      <td>Jail Inmate</td>\n",
       "      <td>Single</td>\n",
       "      <td>High</td>\n",
       "      <td>21</td>\n",
       "      <td>1</td>\n",
       "    </tr>\n",
       "    <tr>\n",
       "      <th>3</th>\n",
       "      <td>Female</td>\n",
       "      <td>African-American</td>\n",
       "      <td>Pretrial</td>\n",
       "      <td>Jail Inmate</td>\n",
       "      <td>Single</td>\n",
       "      <td>Low</td>\n",
       "      <td>30</td>\n",
       "      <td>0</td>\n",
       "    </tr>\n",
       "    <tr>\n",
       "      <th>4</th>\n",
       "      <td>Male</td>\n",
       "      <td>Hispanic</td>\n",
       "      <td>Pretrial</td>\n",
       "      <td>Jail Inmate</td>\n",
       "      <td>Single</td>\n",
       "      <td>High</td>\n",
       "      <td>32</td>\n",
       "      <td>20</td>\n",
       "    </tr>\n",
       "    <tr>\n",
       "      <th>5</th>\n",
       "      <td>Female</td>\n",
       "      <td>Caucasian</td>\n",
       "      <td>Pretrial</td>\n",
       "      <td>Jail Inmate</td>\n",
       "      <td>Single</td>\n",
       "      <td>Low</td>\n",
       "      <td>49</td>\n",
       "      <td>0</td>\n",
       "    </tr>\n",
       "  </tbody>\n",
       "</table>\n",
       "</div>"
      ],
      "text/plain": [
       "   gender         ethnicity legal_status custody_status marital_status  \\\n",
       "0    Male         Caucasian     Pretrial    Jail Inmate        Married   \n",
       "1    Male  African-American     Pretrial    Jail Inmate         Single   \n",
       "3  Female  African-American     Pretrial    Jail Inmate         Single   \n",
       "4    Male          Hispanic     Pretrial    Jail Inmate         Single   \n",
       "5  Female         Caucasian     Pretrial    Jail Inmate         Single   \n",
       "\n",
       "  recidivism_probability  age  priors_crimes_count  \n",
       "0                    Low   31                    0  \n",
       "1                   High   21                    1  \n",
       "3                    Low   30                    0  \n",
       "4                   High   32                   20  \n",
       "5                    Low   49                    0  "
      ]
     },
     "execution_count": 3,
     "metadata": {},
     "output_type": "execute_result"
    }
   ],
   "source": [
    "df = pd.read_csv(\"../dataset/compas/compas.csv\")\n",
    "df.age = df.age.astype(\"int\")\n",
    "df.priors_count = df.priors_count.astype(\"int\")\n",
    "df.columns = ['gender', 'ethnicity', 'legal_status', 'custody_status', 'marital_status',\n",
    "              'recidivism_probability', 'age', 'priors_crimes_count']\n",
    "df = df[df.recidivism_probability.isin(['Low', 'High'])]\n",
    "df.head(5)"
   ]
  },
  {
   "cell_type": "code",
   "execution_count": 4,
   "metadata": {
    "inputHidden": false,
    "outputHidden": false
   },
   "outputs": [
    {
     "name": "stdout",
     "output_type": "stream",
     "text": [
      "Classes: ['High' 'Low']\n"
     ]
    }
   ],
   "source": [
    "target_names = 'recidivism_probability'\n",
    "columns = [col for col in df.columns if col != target_names]\n",
    "X = df[columns].copy()\n",
    "labels = df[target_names].copy()\n",
    "y = np.where(labels == 'Low', 0, 1)\n",
    "print(\"Classes: {0}\".format(np.unique(labels)))"
   ]
  },
  {
   "cell_type": "code",
   "execution_count": 5,
   "metadata": {
    "inputHidden": false,
    "outputHidden": false
   },
   "outputs": [
    {
     "data": {
      "text/plain": [
       "(7, 126)"
      ]
     },
     "execution_count": 5,
     "metadata": {},
     "output_type": "execute_result"
    }
   ],
   "source": [
    "d = X.shape[1]\n",
    "n = 2**d - 2\n",
    "d, n"
   ]
  },
  {
   "cell_type": "markdown",
   "metadata": {},
   "source": [
    "\n",
    "# Train a ML model"
   ]
  },
  {
   "cell_type": "code",
   "execution_count": 6,
   "metadata": {
    "inputHidden": false,
    "outputHidden": false
   },
   "outputs": [
    {
     "name": "stdout",
     "output_type": "stream",
     "text": [
      "0:\tlearn: 0.4642593\ttest: 0.4567796\tbest: 0.4567796 (0)\ttotal: 58.3ms\tremaining: 11.6s\n",
      "20:\tlearn: 0.3708433\ttest: 0.3890843\tbest: 0.3890843 (20)\ttotal: 224ms\tremaining: 1.91s\n",
      "40:\tlearn: 0.3393934\ttest: 0.3795197\tbest: 0.3793465 (36)\ttotal: 367ms\tremaining: 1.42s\n",
      "60:\tlearn: 0.3238395\ttest: 0.3798016\tbest: 0.3765597 (54)\ttotal: 496ms\tremaining: 1.13s\n",
      "80:\tlearn: 0.3088234\ttest: 0.3846077\tbest: 0.3765597 (54)\ttotal: 634ms\tremaining: 932ms\n",
      "100:\tlearn: 0.3002132\ttest: 0.3852011\tbest: 0.3765597 (54)\ttotal: 773ms\tremaining: 758ms\n",
      "120:\tlearn: 0.2900827\ttest: 0.3868944\tbest: 0.3765597 (54)\ttotal: 972ms\tremaining: 634ms\n",
      "140:\tlearn: 0.2783800\ttest: 0.3916980\tbest: 0.3765597 (54)\ttotal: 1.11s\tremaining: 464ms\n",
      "160:\tlearn: 0.2689697\ttest: 0.3942314\tbest: 0.3765597 (54)\ttotal: 1.27s\tremaining: 308ms\n",
      "180:\tlearn: 0.2609107\ttest: 0.3952044\tbest: 0.3765597 (54)\ttotal: 1.43s\tremaining: 150ms\n",
      "199:\tlearn: 0.2514048\ttest: 0.3948909\tbest: 0.3765597 (54)\ttotal: 1.54s\tremaining: 0us\n",
      "\n",
      "bestTest = 0.3765596588\n",
      "bestIteration = 54\n",
      "\n",
      "Shrink model to first 55 iterations.\n",
      "Test Accuracy: 0.82\n"
     ]
    }
   ],
   "source": [
    "cat_features = ['gender', 'ethnicity', 'legal_status', 'custody_status', 'marital_status']\n",
    "cat_features_index = [i for i, col in enumerate(X.columns) if col in cat_features]\n",
    "X_train, X_test, y_train, y_test = train_test_split(X, y,\n",
    "                                                    test_size=0.33,\n",
    "                                                    random_state=42)\n",
    "X_train, X_val, y_train, y_val = train_test_split(X_train, y_train,\n",
    "                                                  test_size=0.33,\n",
    "                                                  random_state=42)\n",
    "test_data = catboost_pool = Pool(X_test, y_test,\n",
    "                                 cat_features=cat_features_index)\n",
    "val_data = catboost_pool = Pool(X_val, y_val,\n",
    "                                cat_features=cat_features_index)\n",
    "\n",
    "model = CatBoostClassifier(iterations=200,\n",
    "                           depth=5,\n",
    "                           learning_rate=1,\n",
    "                           loss_function='Logloss',\n",
    "                           verbose=20)\n",
    "# train the model\n",
    "model.fit(X_train, y_train,\n",
    "          cat_features=cat_features_index,\n",
    "          eval_set=val_data)\n",
    "# make the prediction using the resulting model\n",
    "preds_class = model.predict(test_data)\n",
    "preds_proba = model.predict_proba(test_data)\n",
    "print(\"Test Accuracy: {0:.2}\".format(np.mean(preds_class == y_test)))"
   ]
  },
  {
   "cell_type": "markdown",
   "metadata": {},
   "source": [
    "# Define the game"
   ]
  },
  {
   "cell_type": "code",
   "execution_count": 7,
   "metadata": {},
   "outputs": [],
   "source": [
    "fc = lambda x: model.predict_proba(x)[1]"
   ]
  },
  {
   "cell_type": "markdown",
   "metadata": {},
   "source": [
    "### Pick an individual x to explain"
   ]
  },
  {
   "cell_type": "code",
   "execution_count": 8,
   "metadata": {},
   "outputs": [
    {
     "name": "stdout",
     "output_type": "stream",
     "text": [
      "gender                             Male\n",
      "ethnicity              African-American\n",
      "legal_status                   Pretrial\n",
      "custody_status              Jail Inmate\n",
      "marital_status                   Single\n",
      "age                                  31\n",
      "priors_crimes_count                   5\n",
      "Name: 9515, dtype: object\n",
      "\n",
      "Prediction for x: 1\n"
     ]
    }
   ],
   "source": [
    "x = X_test.iloc[np.random.choice(len(X_test), size=1)[0],:]\n",
    "x_class = int(model.predict(x.values))\n",
    "print(x)\n",
    "print()\n",
    "print(\"Prediction for x: {0:.0f}\".format(x_class))"
   ]
  },
  {
   "cell_type": "markdown",
   "metadata": {},
   "source": [
    "### Single reference belonging to the opposite class (according to the model)"
   ]
  },
  {
   "cell_type": "code",
   "execution_count": 9,
   "metadata": {},
   "outputs": [
    {
     "name": "stdout",
     "output_type": "stream",
     "text": [
      "gender                        Male\n",
      "ethnicity                   Arabic\n",
      "legal_status              Pretrial\n",
      "custody_status         Jail Inmate\n",
      "marital_status              Single\n",
      "age                             40\n",
      "priors_crimes_count              0\n",
      "Name: 4128, dtype: object\n",
      "\n",
      "Prediction for this reference: 0\n"
     ]
    }
   ],
   "source": [
    "X_opposite_class = X_train[model.predict(X_train) != x_class].copy()\n",
    "reference = X_opposite_class.iloc[np.random.choice(len(X_opposite_class), size=1)[0],:]\n",
    "ref_class = int(model.predict(reference.values))\n",
    "print(reference)\n",
    "print()\n",
    "print(\"Prediction for this reference: {0:.0f}\".format(ref_class))"
   ]
  },
  {
   "cell_type": "markdown",
   "metadata": {},
   "source": [
    "#### Exact Shapley Values"
   ]
  },
  {
   "cell_type": "code",
   "execution_count": 10,
   "metadata": {
    "inputHidden": false,
    "outputHidden": false
   },
   "outputs": [
    {
     "name": "stderr",
     "output_type": "stream",
     "text": [
      "100%|██████████| 7/7 [00:00<00:00, 12.82it/s]\n"
     ]
    }
   ],
   "source": [
    "true_shap = ShapleyValues(x=x, fc=fc, ref=reference)"
   ]
  },
  {
   "cell_type": "code",
   "execution_count": 11,
   "metadata": {},
   "outputs": [
    {
     "data": {
      "text/plain": [
       "gender                 0.000000\n",
       "ethnicity              0.342291\n",
       "legal_status           0.000000\n",
       "custody_status         0.000000\n",
       "marital_status         0.000000\n",
       "age                    0.246956\n",
       "priors_crimes_count    0.228301\n",
       "dtype: float64"
      ]
     },
     "execution_count": 11,
     "metadata": {},
     "output_type": "execute_result"
    }
   ],
   "source": [
    "true_shap"
   ]
  },
  {
   "cell_type": "markdown",
   "metadata": {},
   "source": [
    "#### Approximation methods"
   ]
  },
  {
   "cell_type": "markdown",
   "metadata": {},
   "source": [
    "##### Monte Carlo "
   ]
  },
  {
   "cell_type": "code",
   "execution_count": 12,
   "metadata": {
    "inputHidden": false,
    "outputHidden": false
   },
   "outputs": [
    {
     "name": "stderr",
     "output_type": "stream",
     "text": [
      "  2%|▏         | 17/1000 [00:00<00:06, 156.91it/s]"
     ]
    },
    {
     "name": "stdout",
     "output_type": "stream",
     "text": [
      "new dimension 3\n"
     ]
    },
    {
     "name": "stderr",
     "output_type": "stream",
     "text": [
      "100%|██████████| 1000/1000 [00:03<00:00, 256.04it/s]\n"
     ]
    },
    {
     "data": {
      "text/plain": [
       "gender                 0.000000\n",
       "ethnicity              0.338690\n",
       "legal_status           0.000000\n",
       "custody_status         0.000000\n",
       "marital_status         0.000000\n",
       "age                    0.243700\n",
       "priors_crimes_count    0.235157\n",
       "dtype: float64"
      ]
     },
     "execution_count": 12,
     "metadata": {},
     "output_type": "execute_result"
    }
   ],
   "source": [
    "mc_shap = MonteCarloShapley(x=x, fc=fc, ref=reference, n_iter=1000)\n",
    "mc_shap"
   ]
  },
  {
   "cell_type": "code",
   "execution_count": 13,
   "metadata": {},
   "outputs": [
    {
     "name": "stdout",
     "output_type": "stream",
     "text": [
      "CPU times: user 38.8 ms, sys: 3.64 ms, total: 42.5 ms\n",
      "Wall time: 34.1 ms\n"
     ]
    },
    {
     "data": {
      "text/plain": [
       "gender                 0.000000\n",
       "ethnicity              0.335397\n",
       "legal_status           0.000000\n",
       "custody_status         0.000000\n",
       "marital_status         0.000000\n",
       "age                    0.248611\n",
       "priors_crimes_count    0.233540\n",
       "dtype: float64"
      ]
     },
     "execution_count": 13,
     "metadata": {},
     "output_type": "execute_result"
    }
   ],
   "source": [
    "%%time\n",
    "fc_batch = lambda X: model.predict_proba(X)[:,1]\n",
    "mc_shap_batch = MonteCarloShapleyBatch(x=x, fc=fc_batch, ref=reference, n_iter=1000)\n",
    "mc_shap_batch"
   ]
  },
  {
   "cell_type": "markdown",
   "metadata": {},
   "source": [
    "##### SGD"
   ]
  },
  {
   "cell_type": "code",
   "execution_count": 14,
   "metadata": {
    "inputHidden": false,
    "outputHidden": false
   },
   "outputs": [
    {
     "name": "stderr",
     "output_type": "stream",
     "text": [
      "100%|██████████| 5000/5000 [00:05<00:00, 916.94it/s] \n"
     ]
    },
    {
     "data": {
      "text/plain": [
       "gender                 0.002901\n",
       "ethnicity              0.335691\n",
       "legal_status           0.002575\n",
       "custody_status         0.005924\n",
       "marital_status        -0.001207\n",
       "age                    0.258498\n",
       "priors_crimes_count    0.213167\n",
       "dtype: float64"
      ]
     },
     "execution_count": 14,
     "metadata": {},
     "output_type": "execute_result"
    }
   ],
   "source": [
    "sgd_est = SGDshapley(d, C=y.max())\n",
    "sgd_shap = sgd_est.sgd(x=x, fc=fc, ref=reference, n_iter=5000, step=.1, step_type=\"sqrt\")\n",
    "sgd_shap"
   ]
  },
  {
   "cell_type": "markdown",
   "metadata": {},
   "source": [
    "#### Plot "
   ]
  },
  {
   "cell_type": "code",
   "execution_count": 15,
   "metadata": {},
   "outputs": [
    {
     "name": "stderr",
     "output_type": "stream",
     "text": [
      "/home/sgrah/Documents/shapkit/tutorials/shapkit/plots.py:104: UserWarning: FixedFormatter should only be used together with FixedLocator\n",
      "  fig.get_axes()[0].set_xticklabels(xticks_label)\n"
     ]
    },
    {
     "data": {
      "image/png": "[encoded data removed]",
      "text/plain": [
       "<Figure size 864x504 with 1 Axes>"
      ]
     },
     "metadata": {},
     "output_type": "display_data"
    }
   ],
   "source": [
    "fig =  plot_shapley(x=x, fc=fc, ref=reference, shapley_values=true_shap, n_attributes=6)"
   ]
  },
  {
   "cell_type": "markdown",
   "metadata": {},
   "source": [
    "### Several references "
   ]
  },
  {
   "cell_type": "code",
   "execution_count": 16,
   "metadata": {},
   "outputs": [
    {
     "data": {
      "text/html": [
       "<div>\n",
       "<style scoped>\n",
       "    .dataframe tbody tr th:only-of-type {\n",
       "        vertical-align: middle;\n",
       "    }\n",
       "\n",
       "    .dataframe tbody tr th {\n",
       "        vertical-align: top;\n",
       "    }\n",
       "\n",
       "    .dataframe thead th {\n",
       "        text-align: right;\n",
       "    }\n",
       "</style>\n",
       "<table border=\"1\" class=\"dataframe\">\n",
       "  <thead>\n",
       "    <tr style=\"text-align: right;\">\n",
       "      <th></th>\n",
       "      <th>gender</th>\n",
       "      <th>ethnicity</th>\n",
       "      <th>legal_status</th>\n",
       "      <th>custody_status</th>\n",
       "      <th>marital_status</th>\n",
       "      <th>age</th>\n",
       "      <th>priors_crimes_count</th>\n",
       "    </tr>\n",
       "  </thead>\n",
       "  <tbody>\n",
       "    <tr>\n",
       "      <th>12725</th>\n",
       "      <td>Female</td>\n",
       "      <td>Hispanic</td>\n",
       "      <td>Pretrial</td>\n",
       "      <td>Jail Inmate</td>\n",
       "      <td>Separated</td>\n",
       "      <td>41</td>\n",
       "      <td>0</td>\n",
       "    </tr>\n",
       "    <tr>\n",
       "      <th>9509</th>\n",
       "      <td>Male</td>\n",
       "      <td>Caucasian</td>\n",
       "      <td>Pretrial</td>\n",
       "      <td>Jail Inmate</td>\n",
       "      <td>Single</td>\n",
       "      <td>22</td>\n",
       "      <td>0</td>\n",
       "    </tr>\n",
       "    <tr>\n",
       "      <th>16013</th>\n",
       "      <td>Male</td>\n",
       "      <td>Caucasian</td>\n",
       "      <td>Pretrial</td>\n",
       "      <td>Jail Inmate</td>\n",
       "      <td>Single</td>\n",
       "      <td>36</td>\n",
       "      <td>1</td>\n",
       "    </tr>\n",
       "    <tr>\n",
       "      <th>932</th>\n",
       "      <td>Male</td>\n",
       "      <td>African-American</td>\n",
       "      <td>Pretrial</td>\n",
       "      <td>Jail Inmate</td>\n",
       "      <td>Single</td>\n",
       "      <td>30</td>\n",
       "      <td>2</td>\n",
       "    </tr>\n",
       "    <tr>\n",
       "      <th>2607</th>\n",
       "      <td>Male</td>\n",
       "      <td>African-American</td>\n",
       "      <td>Pretrial</td>\n",
       "      <td>Jail Inmate</td>\n",
       "      <td>Single</td>\n",
       "      <td>27</td>\n",
       "      <td>1</td>\n",
       "    </tr>\n",
       "  </tbody>\n",
       "</table>\n",
       "</div>"
      ],
      "text/plain": [
       "       gender         ethnicity legal_status custody_status marital_status  \\\n",
       "12725  Female          Hispanic     Pretrial    Jail Inmate      Separated   \n",
       "9509     Male         Caucasian     Pretrial    Jail Inmate         Single   \n",
       "16013    Male         Caucasian     Pretrial    Jail Inmate         Single   \n",
       "932      Male  African-American     Pretrial    Jail Inmate         Single   \n",
       "2607     Male  African-American     Pretrial    Jail Inmate         Single   \n",
       "\n",
       "       age  priors_crimes_count  \n",
       "12725   41                    0  \n",
       "9509    22                    0  \n",
       "16013   36                    1  \n",
       "932     30                    2  \n",
       "2607    27                    1  "
      ]
     },
     "execution_count": 16,
     "metadata": {},
     "output_type": "execute_result"
    }
   ],
   "source": [
    "n_ref = 100\n",
    "idx_ref = np.random.choice(X_opposite_class.shape[0], size=n_ref, replace=False).flatten()\n",
    "references = X_opposite_class.iloc[idx_ref]\n",
    "references.head(5)"
   ]
  },
  {
   "cell_type": "markdown",
   "metadata": {},
   "source": [
    "#### Approximation methods"
   ]
  },
  {
   "cell_type": "markdown",
   "metadata": {},
   "source": [
    "##### Monte Carlo "
   ]
  },
  {
   "cell_type": "code",
   "execution_count": 17,
   "metadata": {
    "inputHidden": false,
    "outputHidden": false
   },
   "outputs": [
    {
     "name": "stderr",
     "output_type": "stream",
     "text": [
      "100%|██████████| 1000/1000 [00:07<00:00, 131.44it/s]\n"
     ]
    },
    {
     "data": {
      "text/plain": [
       "gender                 0.016003\n",
       "ethnicity              0.136876\n",
       "legal_status           0.003531\n",
       "custody_status         0.007997\n",
       "marital_status         0.042349\n",
       "age                    0.156839\n",
       "priors_crimes_count    0.290877\n",
       "dtype: float64"
      ]
     },
     "execution_count": 17,
     "metadata": {},
     "output_type": "execute_result"
    }
   ],
   "source": [
    "mc_shaps = MonteCarloShapley(x=x, fc=fc, ref=references, n_iter=1000)\n",
    "mc_shaps"
   ]
  },
  {
   "cell_type": "code",
   "execution_count": 18,
   "metadata": {},
   "outputs": [
    {
     "name": "stdout",
     "output_type": "stream",
     "text": [
      "CPU times: user 154 ms, sys: 17.7 ms, total: 172 ms\n",
      "Wall time: 147 ms\n"
     ]
    },
    {
     "data": {
      "text/plain": [
       "gender                 0.017528\n",
       "ethnicity              0.150250\n",
       "legal_status           0.002486\n",
       "custody_status         0.005117\n",
       "marital_status         0.042563\n",
       "age                    0.141010\n",
       "priors_crimes_count    0.298045\n",
       "dtype: float64"
      ]
     },
     "execution_count": 18,
     "metadata": {},
     "output_type": "execute_result"
    }
   ],
   "source": [
    "%%time\n",
    "mc_shaps_batch = MonteCarloShapleyBatch(x=x, fc=fc_batch, ref=references, n_iter=1000)\n",
    "mc_shaps_batch"
   ]
  },
  {
   "cell_type": "markdown",
   "metadata": {},
   "source": [
    "#### Plots"
   ]
  },
  {
   "cell_type": "code",
   "execution_count": 19,
   "metadata": {},
   "outputs": [
    {
     "name": "stderr",
     "output_type": "stream",
     "text": [
      "/home/sgrah/Documents/shapkit/tutorials/shapkit/plots.py:104: UserWarning: FixedFormatter should only be used together with FixedLocator\n",
      "  fig.get_axes()[0].set_xticklabels(xticks_label)\n"
     ]
    },
    {
     "data": {
      "image/png": "[encoded data removed]",
      "text/plain": [
       "<Figure size 864x504 with 1 Axes>"
      ]
     },
     "metadata": {},
     "output_type": "display_data"
    }
   ],
   "source": [
    "plot_shapley(x=x, fc=fc, ref=references, shapley_values=mc_shaps, n_attributes=20)"
   ]
  }
 ],
 "metadata": {
  "kernelspec": {
   "display_name": "Python 3",
   "language": "python",
   "name": "python3"
  },
  "language_info": {
   "codemirror_mode": {
    "name": "ipython",
    "version": 3
   },
   "file_extension": ".py",
   "mimetype": "text/x-python",
   "name": "python",
   "nbconvert_exporter": "python",
   "pygments_lexer": "ipython3",
   "version": "3.7.3"
  },
  "toc-autonumbering": false,
  "toc-showcode": false,
  "toc-showmarkdowntxt": true
 },
 "nbformat": 4,
 "nbformat_minor": 4
}
