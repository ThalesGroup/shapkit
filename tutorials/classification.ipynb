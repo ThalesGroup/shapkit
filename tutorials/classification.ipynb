{
 "cells": [
  {
   "cell_type": "code",
   "execution_count": 3,
   "metadata": {
    "inputHidden": false,
    "outputHidden": false
   },
   "outputs": [],
   "source": [
    "import numpy as np\n",
    "import pandas as pd\n",
    "import matplotlib.pyplot as plt\n",
    "%matplotlib inline\n",
    "import seaborn as sns\n",
    "\n",
    "from catboost import CatBoostClassifier, Pool\n",
    "from sklearn.model_selection import train_test_split\n",
    "\n",
    "from shapkit_nbdev.shapley_values import ShapleyValues\n",
    "from shapkit_nbdev.inspector import inspector\n",
    "from shapkit_nbdev.monte_carlo_shapley import MonteCarloShapley\n",
    "from shapkit_nbdev.sgd_shapley import SGDshapley\n",
    "from shapkit_nbdev.plots import plot_shapley\n",
    "\n",
    "%load_ext autoreload\n",
    "%autoreload 2"
   ]
  },
  {
   "cell_type": "markdown",
   "metadata": {},
   "source": [
    "# Load dataset"
   ]
  },
  {
   "cell_type": "code",
   "execution_count": 4,
   "metadata": {
    "inputHidden": false,
    "outputHidden": false
   },
   "outputs": [
    {
     "data": {
      "text/html": [
       "<div>\n",
       "<style scoped>\n",
       "    .dataframe tbody tr th:only-of-type {\n",
       "        vertical-align: middle;\n",
       "    }\n",
       "\n",
       "    .dataframe tbody tr th {\n",
       "        vertical-align: top;\n",
       "    }\n",
       "\n",
       "    .dataframe thead th {\n",
       "        text-align: right;\n",
       "    }\n",
       "</style>\n",
       "<table border=\"1\" class=\"dataframe\">\n",
       "  <thead>\n",
       "    <tr style=\"text-align: right;\">\n",
       "      <th></th>\n",
       "      <th>gender</th>\n",
       "      <th>ethnicity</th>\n",
       "      <th>legal_status</th>\n",
       "      <th>custody_status</th>\n",
       "      <th>marital_status</th>\n",
       "      <th>recidivism_probability</th>\n",
       "      <th>age</th>\n",
       "      <th>priors_crimes_count</th>\n",
       "    </tr>\n",
       "  </thead>\n",
       "  <tbody>\n",
       "    <tr>\n",
       "      <th>0</th>\n",
       "      <td>Male</td>\n",
       "      <td>Caucasian</td>\n",
       "      <td>Pretrial</td>\n",
       "      <td>Jail Inmate</td>\n",
       "      <td>Married</td>\n",
       "      <td>Low</td>\n",
       "      <td>31</td>\n",
       "      <td>0</td>\n",
       "    </tr>\n",
       "    <tr>\n",
       "      <th>1</th>\n",
       "      <td>Male</td>\n",
       "      <td>African-American</td>\n",
       "      <td>Pretrial</td>\n",
       "      <td>Jail Inmate</td>\n",
       "      <td>Single</td>\n",
       "      <td>High</td>\n",
       "      <td>21</td>\n",
       "      <td>1</td>\n",
       "    </tr>\n",
       "    <tr>\n",
       "      <th>3</th>\n",
       "      <td>Female</td>\n",
       "      <td>African-American</td>\n",
       "      <td>Pretrial</td>\n",
       "      <td>Jail Inmate</td>\n",
       "      <td>Single</td>\n",
       "      <td>Low</td>\n",
       "      <td>30</td>\n",
       "      <td>0</td>\n",
       "    </tr>\n",
       "    <tr>\n",
       "      <th>4</th>\n",
       "      <td>Male</td>\n",
       "      <td>Hispanic</td>\n",
       "      <td>Pretrial</td>\n",
       "      <td>Jail Inmate</td>\n",
       "      <td>Single</td>\n",
       "      <td>High</td>\n",
       "      <td>32</td>\n",
       "      <td>20</td>\n",
       "    </tr>\n",
       "    <tr>\n",
       "      <th>5</th>\n",
       "      <td>Female</td>\n",
       "      <td>Caucasian</td>\n",
       "      <td>Pretrial</td>\n",
       "      <td>Jail Inmate</td>\n",
       "      <td>Single</td>\n",
       "      <td>Low</td>\n",
       "      <td>49</td>\n",
       "      <td>0</td>\n",
       "    </tr>\n",
       "  </tbody>\n",
       "</table>\n",
       "</div>"
      ],
      "text/plain": [
       "   gender         ethnicity legal_status custody_status marital_status  \\\n",
       "0    Male         Caucasian     Pretrial    Jail Inmate        Married   \n",
       "1    Male  African-American     Pretrial    Jail Inmate         Single   \n",
       "3  Female  African-American     Pretrial    Jail Inmate         Single   \n",
       "4    Male          Hispanic     Pretrial    Jail Inmate         Single   \n",
       "5  Female         Caucasian     Pretrial    Jail Inmate         Single   \n",
       "\n",
       "  recidivism_probability  age  priors_crimes_count  \n",
       "0                    Low   31                    0  \n",
       "1                   High   21                    1  \n",
       "3                    Low   30                    0  \n",
       "4                   High   32                   20  \n",
       "5                    Low   49                    0  "
      ]
     },
     "execution_count": 4,
     "metadata": {},
     "output_type": "execute_result"
    }
   ],
   "source": [
    "df = pd.read_csv(\"/home/sgrah/Documents/xAI/sophia_summit/compas_dataset/compas.csv\")\n",
    "df.age = df.age.astype(\"int\")\n",
    "df.priors_count = df.priors_count.astype(\"int\")\n",
    "df.columns = ['gender', 'ethnicity', 'legal_status', 'custody_status', 'marital_status',\n",
    "              'recidivism_probability', 'age', 'priors_crimes_count']\n",
    "df = df[df.recidivism_probability.isin(['Low', 'High'])]\n",
    "df.head(5)"
   ]
  },
  {
   "cell_type": "code",
   "execution_count": 5,
   "metadata": {
    "inputHidden": false,
    "outputHidden": false
   },
   "outputs": [
    {
     "name": "stdout",
     "output_type": "stream",
     "text": [
      "Classes: ['High' 'Low']\n"
     ]
    },
    {
     "data": {
      "text/html": [
       "<div>\n",
       "<style scoped>\n",
       "    .dataframe tbody tr th:only-of-type {\n",
       "        vertical-align: middle;\n",
       "    }\n",
       "\n",
       "    .dataframe tbody tr th {\n",
       "        vertical-align: top;\n",
       "    }\n",
       "\n",
       "    .dataframe thead th {\n",
       "        text-align: right;\n",
       "    }\n",
       "</style>\n",
       "<table border=\"1\" class=\"dataframe\">\n",
       "  <thead>\n",
       "    <tr style=\"text-align: right;\">\n",
       "      <th></th>\n",
       "      <th>gender</th>\n",
       "      <th>ethnicity</th>\n",
       "      <th>legal_status</th>\n",
       "      <th>custody_status</th>\n",
       "      <th>marital_status</th>\n",
       "      <th>age</th>\n",
       "      <th>priors_crimes_count</th>\n",
       "    </tr>\n",
       "  </thead>\n",
       "  <tbody>\n",
       "    <tr>\n",
       "      <th>0</th>\n",
       "      <td>Male</td>\n",
       "      <td>Caucasian</td>\n",
       "      <td>Pretrial</td>\n",
       "      <td>Jail Inmate</td>\n",
       "      <td>Married</td>\n",
       "      <td>31</td>\n",
       "      <td>0</td>\n",
       "    </tr>\n",
       "    <tr>\n",
       "      <th>1</th>\n",
       "      <td>Male</td>\n",
       "      <td>African-American</td>\n",
       "      <td>Pretrial</td>\n",
       "      <td>Jail Inmate</td>\n",
       "      <td>Single</td>\n",
       "      <td>21</td>\n",
       "      <td>1</td>\n",
       "    </tr>\n",
       "    <tr>\n",
       "      <th>3</th>\n",
       "      <td>Female</td>\n",
       "      <td>African-American</td>\n",
       "      <td>Pretrial</td>\n",
       "      <td>Jail Inmate</td>\n",
       "      <td>Single</td>\n",
       "      <td>30</td>\n",
       "      <td>0</td>\n",
       "    </tr>\n",
       "  </tbody>\n",
       "</table>\n",
       "</div>"
      ],
      "text/plain": [
       "   gender         ethnicity legal_status custody_status marital_status  age  \\\n",
       "0    Male         Caucasian     Pretrial    Jail Inmate        Married   31   \n",
       "1    Male  African-American     Pretrial    Jail Inmate         Single   21   \n",
       "3  Female  African-American     Pretrial    Jail Inmate         Single   30   \n",
       "\n",
       "   priors_crimes_count  \n",
       "0                    0  \n",
       "1                    1  \n",
       "3                    0  "
      ]
     },
     "execution_count": 5,
     "metadata": {},
     "output_type": "execute_result"
    }
   ],
   "source": [
    "target_names = 'recidivism_probability'\n",
    "columns = [col for col in df.columns if col != target_names]\n",
    "X = df[columns].copy()\n",
    "labels = df[target_names].copy()\n",
    "y = np.where(labels == 'Low', 0, 1)\n",
    "print(\"Classes: {0}\".format(np.unique(labels)))\n",
    "X.head(3)"
   ]
  },
  {
   "cell_type": "markdown",
   "metadata": {},
   "source": [
    "\n",
    "# Train a ML model"
   ]
  },
  {
   "cell_type": "code",
   "execution_count": 6,
   "metadata": {
    "inputHidden": false,
    "outputHidden": false
   },
   "outputs": [
    {
     "name": "stdout",
     "output_type": "stream",
     "text": [
      "0:\tlearn: 0.4642593\ttest: 0.4567796\tbest: 0.4567796 (0)\ttotal: 58.3ms\tremaining: 11.6s\n",
      "20:\tlearn: 0.3708433\ttest: 0.3890843\tbest: 0.3890843 (20)\ttotal: 208ms\tremaining: 1.77s\n",
      "40:\tlearn: 0.3393934\ttest: 0.3795197\tbest: 0.3793465 (36)\ttotal: 377ms\tremaining: 1.46s\n",
      "60:\tlearn: 0.3238395\ttest: 0.3798016\tbest: 0.3765597 (54)\ttotal: 509ms\tremaining: 1.16s\n",
      "80:\tlearn: 0.3088234\ttest: 0.3846077\tbest: 0.3765597 (54)\ttotal: 630ms\tremaining: 926ms\n",
      "100:\tlearn: 0.3002132\ttest: 0.3852011\tbest: 0.3765597 (54)\ttotal: 800ms\tremaining: 784ms\n",
      "120:\tlearn: 0.2900827\ttest: 0.3868944\tbest: 0.3765597 (54)\ttotal: 926ms\tremaining: 605ms\n",
      "140:\tlearn: 0.2783800\ttest: 0.3916980\tbest: 0.3765597 (54)\ttotal: 1.06s\tremaining: 443ms\n",
      "160:\tlearn: 0.2689697\ttest: 0.3942314\tbest: 0.3765597 (54)\ttotal: 1.19s\tremaining: 288ms\n",
      "180:\tlearn: 0.2609107\ttest: 0.3952044\tbest: 0.3765597 (54)\ttotal: 1.3s\tremaining: 136ms\n",
      "199:\tlearn: 0.2514048\ttest: 0.3948909\tbest: 0.3765597 (54)\ttotal: 1.42s\tremaining: 0us\n",
      "\n",
      "bestTest = 0.3765596588\n",
      "bestIteration = 54\n",
      "\n",
      "Shrink model to first 55 iterations.\n",
      "Test Accuracy: 0.82\n"
     ]
    }
   ],
   "source": [
    "cat_features = ['gender', 'ethnicity', 'legal_status', 'custody_status', 'marital_status']\n",
    "cat_features_index = [i for i, col in enumerate(X.columns) if col in cat_features]\n",
    "X_train, X_test, y_train, y_test = train_test_split(X, y,\n",
    "                                                    test_size=0.33,\n",
    "                                                    random_state=42)\n",
    "X_train, X_val, y_train, y_val = train_test_split(X_train, y_train,\n",
    "                                                  test_size=0.33,\n",
    "                                                  random_state=42)\n",
    "test_data = catboost_pool = Pool(X_test, y_test,\n",
    "                                 cat_features=cat_features_index)\n",
    "val_data = catboost_pool = Pool(X_val, y_val,\n",
    "                                cat_features=cat_features_index)\n",
    "\n",
    "model = CatBoostClassifier(iterations=200,\n",
    "                           depth=5,\n",
    "                           learning_rate=1,\n",
    "                           loss_function='Logloss',\n",
    "                           verbose=20)\n",
    "# train the model\n",
    "model.fit(X_train, y_train,\n",
    "          cat_features=cat_features_index,\n",
    "          eval_set=val_data)\n",
    "# make the prediction using the resulting model\n",
    "preds_class = model.predict(test_data)\n",
    "preds_proba = model.predict_proba(test_data)\n",
    "print(\"Test Accuracy: {0:.2}\".format(np.mean(preds_class == y_test)))"
   ]
  },
  {
   "cell_type": "markdown",
   "metadata": {},
   "source": [
    "# Define the game"
   ]
  },
  {
   "cell_type": "code",
   "execution_count": 7,
   "metadata": {
    "inputHidden": false,
    "outputHidden": false
   },
   "outputs": [
    {
     "data": {
      "text/plain": [
       "(7, 126)"
      ]
     },
     "execution_count": 7,
     "metadata": {},
     "output_type": "execute_result"
    }
   ],
   "source": [
    "d = X_train.shape[1]\n",
    "n = 2**d - 2\n",
    "d, n"
   ]
  },
  {
   "cell_type": "code",
   "execution_count": 8,
   "metadata": {},
   "outputs": [],
   "source": [
    "fc = lambda x: int(model.predict(x))"
   ]
  },
  {
   "cell_type": "code",
   "execution_count": 9,
   "metadata": {},
   "outputs": [],
   "source": [
    "fc = lambda x: model.predict_proba(x)[1]"
   ]
  },
  {
   "cell_type": "markdown",
   "metadata": {},
   "source": [
    "### Pick an individual x to explain"
   ]
  },
  {
   "cell_type": "code",
   "execution_count": 28,
   "metadata": {},
   "outputs": [
    {
     "name": "stdout",
     "output_type": "stream",
     "text": [
      "gender                             Male\n",
      "ethnicity              African-American\n",
      "legal_status                   Pretrial\n",
      "custody_status              Jail Inmate\n",
      "marital_status                   Single\n",
      "age                                  27\n",
      "priors_crimes_count                   7\n",
      "Name: 2534, dtype: object\n",
      "\n",
      "Prediction for x: 1\n"
     ]
    }
   ],
   "source": [
    "x = X_test.iloc[np.random.choice(len(X_test), size=1)[0],:]\n",
    "x_class = int(model.predict(x.values))\n",
    "print(x)\n",
    "print()\n",
    "print(\"Prediction for x: {0:.0f}\".format(x_class))"
   ]
  },
  {
   "cell_type": "markdown",
   "metadata": {},
   "source": [
    "### Single reference belonging to the opposite class (according to the model)"
   ]
  },
  {
   "cell_type": "code",
   "execution_count": 38,
   "metadata": {},
   "outputs": [
    {
     "name": "stdout",
     "output_type": "stream",
     "text": [
      "gender                             Male\n",
      "ethnicity              African-American\n",
      "legal_status                   Pretrial\n",
      "custody_status              Jail Inmate\n",
      "marital_status                Separated\n",
      "age                                  57\n",
      "priors_crimes_count                   3\n",
      "Name: 5261, dtype: object\n",
      "\n",
      "Prediction for this reference: 0\n"
     ]
    }
   ],
   "source": [
    "X_opposite_class = X_train[model.predict(X_train) != x_class].copy()\n",
    "reference = X_opposite_class.iloc[np.random.choice(len(X_opposite_class), size=1)[0],:]\n",
    "ref_class = int(model.predict(reference.values))\n",
    "print(reference)\n",
    "print()\n",
    "print(\"Prediction for this reference: {0:.0f}\".format(ref_class))"
   ]
  },
  {
   "cell_type": "markdown",
   "metadata": {},
   "source": [
    "#### Exact Shapley Values"
   ]
  },
  {
   "cell_type": "code",
   "execution_count": 39,
   "metadata": {
    "inputHidden": false,
    "outputHidden": false
   },
   "outputs": [
    {
     "name": "stderr",
     "output_type": "stream",
     "text": [
      "100%|██████████| 7/7 [00:00<00:00,  8.60it/s]\n"
     ]
    }
   ],
   "source": [
    "true_shap = ShapleyValues(x=x, fc=fc, ref=reference)"
   ]
  },
  {
   "cell_type": "code",
   "execution_count": 40,
   "metadata": {},
   "outputs": [
    {
     "data": {
      "text/plain": [
       "gender                 0.000000\n",
       "ethnicity              0.000000\n",
       "legal_status           0.000000\n",
       "custody_status         0.000000\n",
       "marital_status         0.072143\n",
       "age                   -0.069797\n",
       "priors_crimes_count    0.675228\n",
       "dtype: float64"
      ]
     },
     "execution_count": 40,
     "metadata": {},
     "output_type": "execute_result"
    }
   ],
   "source": [
    "true_shap"
   ]
  },
  {
   "cell_type": "markdown",
   "metadata": {},
   "source": [
    "#### Approximation methods"
   ]
  },
  {
   "cell_type": "markdown",
   "metadata": {},
   "source": [
    "##### Monte Carlo "
   ]
  },
  {
   "cell_type": "code",
   "execution_count": 31,
   "metadata": {
    "inputHidden": false,
    "outputHidden": false
   },
   "outputs": [
    {
     "name": "stderr",
     "output_type": "stream",
     "text": [
      "  2%|▏         | 21/1000 [00:00<00:04, 204.91it/s]"
     ]
    },
    {
     "name": "stdout",
     "output_type": "stream",
     "text": [
      "new dimension 3\n"
     ]
    },
    {
     "name": "stderr",
     "output_type": "stream",
     "text": [
      "100%|██████████| 1000/1000 [00:04<00:00, 247.07it/s]\n"
     ]
    },
    {
     "data": {
      "text/plain": [
       "gender                 0.000000\n",
       "ethnicity             -0.258632\n",
       "legal_status           0.000000\n",
       "custody_status         0.000000\n",
       "marital_status         0.000000\n",
       "age                   -0.168504\n",
       "priors_crimes_count   -0.236588\n",
       "dtype: float64"
      ]
     },
     "execution_count": 31,
     "metadata": {},
     "output_type": "execute_result"
    }
   ],
   "source": [
    "mc_shap = MonteCarloShapley(x=x, fc=fc, ref=reference, n_iter=1000)\n",
    "mc_shap"
   ]
  },
  {
   "cell_type": "markdown",
   "metadata": {},
   "source": [
    "##### SGD"
   ]
  },
  {
   "cell_type": "code",
   "execution_count": 32,
   "metadata": {
    "inputHidden": false,
    "outputHidden": false
   },
   "outputs": [
    {
     "name": "stderr",
     "output_type": "stream",
     "text": [
      "100%|██████████| 5000/5000 [00:04<00:00, 1029.02it/s]\n"
     ]
    },
    {
     "data": {
      "text/plain": [
       "gender                 0.000231\n",
       "ethnicity             -0.263698\n",
       "legal_status          -0.004411\n",
       "custody_status         0.004429\n",
       "marital_status         0.000039\n",
       "age                   -0.174944\n",
       "priors_crimes_count   -0.225370\n",
       "dtype: float64"
      ]
     },
     "execution_count": 32,
     "metadata": {},
     "output_type": "execute_result"
    }
   ],
   "source": [
    "sgd_est = SGDshapley(d, C=y.max())\n",
    "sgd_shap = sgd_est.sgd(x=x, fc=fc, r=reference, n_iter=5000, step=.1, step_type=\"sqrt\")\n",
    "sgd_shap"
   ]
  },
  {
   "cell_type": "markdown",
   "metadata": {},
   "source": [
    "#### Plot "
   ]
  },
  {
   "cell_type": "code",
   "execution_count": 41,
   "metadata": {},
   "outputs": [
    {
     "data": {
      "image/png": "[encoded data removed]",
      "text/plain": [
       "<Figure size 864x504 with 1 Axes>"
      ]
     },
     "metadata": {},
     "output_type": "display_data"
    }
   ],
   "source": [
    "plot_shapley(x=x, fc=fc, ref=reference, shapley_values=true_shap, n_attributes=6)"
   ]
  },
  {
   "cell_type": "markdown",
   "metadata": {},
   "source": [
    "### Several references "
   ]
  },
  {
   "cell_type": "code",
   "execution_count": 42,
   "metadata": {},
   "outputs": [
    {
     "data": {
      "text/html": [
       "<div>\n",
       "<style scoped>\n",
       "    .dataframe tbody tr th:only-of-type {\n",
       "        vertical-align: middle;\n",
       "    }\n",
       "\n",
       "    .dataframe tbody tr th {\n",
       "        vertical-align: top;\n",
       "    }\n",
       "\n",
       "    .dataframe thead th {\n",
       "        text-align: right;\n",
       "    }\n",
       "</style>\n",
       "<table border=\"1\" class=\"dataframe\">\n",
       "  <thead>\n",
       "    <tr style=\"text-align: right;\">\n",
       "      <th></th>\n",
       "      <th>gender</th>\n",
       "      <th>ethnicity</th>\n",
       "      <th>legal_status</th>\n",
       "      <th>custody_status</th>\n",
       "      <th>marital_status</th>\n",
       "      <th>age</th>\n",
       "      <th>priors_crimes_count</th>\n",
       "    </tr>\n",
       "  </thead>\n",
       "  <tbody>\n",
       "    <tr>\n",
       "      <th>10008</th>\n",
       "      <td>Male</td>\n",
       "      <td>African-American</td>\n",
       "      <td>Post Sentence</td>\n",
       "      <td>Probation</td>\n",
       "      <td>Married</td>\n",
       "      <td>49</td>\n",
       "      <td>1</td>\n",
       "    </tr>\n",
       "    <tr>\n",
       "      <th>16135</th>\n",
       "      <td>Male</td>\n",
       "      <td>Caucasian</td>\n",
       "      <td>Pretrial</td>\n",
       "      <td>Pretrial Defendant</td>\n",
       "      <td>Married</td>\n",
       "      <td>48</td>\n",
       "      <td>0</td>\n",
       "    </tr>\n",
       "    <tr>\n",
       "      <th>20974</th>\n",
       "      <td>Male</td>\n",
       "      <td>Caucasian</td>\n",
       "      <td>Pretrial</td>\n",
       "      <td>Jail Inmate</td>\n",
       "      <td>Single</td>\n",
       "      <td>45</td>\n",
       "      <td>0</td>\n",
       "    </tr>\n",
       "    <tr>\n",
       "      <th>15915</th>\n",
       "      <td>Male</td>\n",
       "      <td>Other</td>\n",
       "      <td>Pretrial</td>\n",
       "      <td>Jail Inmate</td>\n",
       "      <td>Married</td>\n",
       "      <td>51</td>\n",
       "      <td>0</td>\n",
       "    </tr>\n",
       "    <tr>\n",
       "      <th>11750</th>\n",
       "      <td>Male</td>\n",
       "      <td>Other</td>\n",
       "      <td>Pretrial</td>\n",
       "      <td>Jail Inmate</td>\n",
       "      <td>Married</td>\n",
       "      <td>37</td>\n",
       "      <td>6</td>\n",
       "    </tr>\n",
       "  </tbody>\n",
       "</table>\n",
       "</div>"
      ],
      "text/plain": [
       "      gender         ethnicity   legal_status      custody_status  \\\n",
       "10008   Male  African-American  Post Sentence           Probation   \n",
       "16135   Male         Caucasian       Pretrial  Pretrial Defendant   \n",
       "20974   Male         Caucasian       Pretrial         Jail Inmate   \n",
       "15915   Male             Other       Pretrial         Jail Inmate   \n",
       "11750   Male             Other       Pretrial         Jail Inmate   \n",
       "\n",
       "      marital_status  age  priors_crimes_count  \n",
       "10008        Married   49                    1  \n",
       "16135        Married   48                    0  \n",
       "20974         Single   45                    0  \n",
       "15915        Married   51                    0  \n",
       "11750        Married   37                    6  "
      ]
     },
     "execution_count": 42,
     "metadata": {},
     "output_type": "execute_result"
    }
   ],
   "source": [
    "n_ref = 100\n",
    "idx_ref = np.random.choice(X_opposite_class.shape[0], size=n_ref, replace=False).flatten()\n",
    "references = X_opposite_class.iloc[idx_ref]\n",
    "references.head(5)"
   ]
  },
  {
   "cell_type": "markdown",
   "metadata": {},
   "source": [
    "#### Approximation methods"
   ]
  },
  {
   "cell_type": "markdown",
   "metadata": {},
   "source": [
    "##### Monte Carlo "
   ]
  },
  {
   "cell_type": "code",
   "execution_count": 43,
   "metadata": {
    "inputHidden": false,
    "outputHidden": false
   },
   "outputs": [
    {
     "name": "stderr",
     "output_type": "stream",
     "text": [
      "100%|██████████| 1000/1000 [00:06<00:00, 149.26it/s]\n"
     ]
    },
    {
     "data": {
      "text/plain": [
       "gender                -0.000008\n",
       "ethnicity              0.030301\n",
       "legal_status          -0.002389\n",
       "custody_status         0.024498\n",
       "marital_status         0.010041\n",
       "age                    0.186266\n",
       "priors_crimes_count    0.420497\n",
       "dtype: float64"
      ]
     },
     "execution_count": 43,
     "metadata": {},
     "output_type": "execute_result"
    }
   ],
   "source": [
    "mc_shaps = MonteCarloShapley(x=x, fc=fc, ref=references, n_iter=1000)\n",
    "mc_shaps"
   ]
  },
  {
   "cell_type": "markdown",
   "metadata": {},
   "source": [
    "#### Plots"
   ]
  },
  {
   "cell_type": "code",
   "execution_count": 44,
   "metadata": {},
   "outputs": [
    {
     "data": {
      "image/png": "[encoded data removed]",
      "text/plain": [
       "<Figure size 864x504 with 1 Axes>"
      ]
     },
     "metadata": {},
     "output_type": "display_data"
    }
   ],
   "source": [
    "plot_shapley(x=x, fc=fc, ref=references, shapley_values=mc_shaps, n_attributes=10)"
   ]
  },
  {
   "cell_type": "markdown",
   "metadata": {},
   "source": [
    "# Comparison with several references "
   ]
  },
  {
   "cell_type": "code",
   "execution_count": 14,
   "metadata": {},
   "outputs": [
    {
     "data": {
      "text/html": [
       "<div>\n",
       "<style scoped>\n",
       "    .dataframe tbody tr th:only-of-type {\n",
       "        vertical-align: middle;\n",
       "    }\n",
       "\n",
       "    .dataframe tbody tr th {\n",
       "        vertical-align: top;\n",
       "    }\n",
       "\n",
       "    .dataframe thead th {\n",
       "        text-align: right;\n",
       "    }\n",
       "</style>\n",
       "<table border=\"1\" class=\"dataframe\">\n",
       "  <thead>\n",
       "    <tr style=\"text-align: right;\">\n",
       "      <th></th>\n",
       "      <th>gender</th>\n",
       "      <th>ethnicity</th>\n",
       "      <th>legal_status</th>\n",
       "      <th>custody_status</th>\n",
       "      <th>marital_status</th>\n",
       "      <th>age</th>\n",
       "      <th>priors_crimes_count</th>\n",
       "    </tr>\n",
       "  </thead>\n",
       "  <tbody>\n",
       "    <tr>\n",
       "      <th>609</th>\n",
       "      <td>Female</td>\n",
       "      <td>African-American</td>\n",
       "      <td>Pretrial</td>\n",
       "      <td>Pretrial Defendant</td>\n",
       "      <td>Single</td>\n",
       "      <td>25</td>\n",
       "      <td>2</td>\n",
       "    </tr>\n",
       "    <tr>\n",
       "      <th>11603</th>\n",
       "      <td>Female</td>\n",
       "      <td>Caucasian</td>\n",
       "      <td>Pretrial</td>\n",
       "      <td>Jail Inmate</td>\n",
       "      <td>Single</td>\n",
       "      <td>43</td>\n",
       "      <td>0</td>\n",
       "    </tr>\n",
       "    <tr>\n",
       "      <th>2979</th>\n",
       "      <td>Male</td>\n",
       "      <td>African-American</td>\n",
       "      <td>Pretrial</td>\n",
       "      <td>Jail Inmate</td>\n",
       "      <td>Single</td>\n",
       "      <td>39</td>\n",
       "      <td>1</td>\n",
       "    </tr>\n",
       "    <tr>\n",
       "      <th>7780</th>\n",
       "      <td>Male</td>\n",
       "      <td>African-American</td>\n",
       "      <td>Pretrial</td>\n",
       "      <td>Jail Inmate</td>\n",
       "      <td>Single</td>\n",
       "      <td>33</td>\n",
       "      <td>1</td>\n",
       "    </tr>\n",
       "    <tr>\n",
       "      <th>14335</th>\n",
       "      <td>Male</td>\n",
       "      <td>African-American</td>\n",
       "      <td>Pretrial</td>\n",
       "      <td>Jail Inmate</td>\n",
       "      <td>Single</td>\n",
       "      <td>34</td>\n",
       "      <td>2</td>\n",
       "    </tr>\n",
       "  </tbody>\n",
       "</table>\n",
       "</div>"
      ],
      "text/plain": [
       "       gender         ethnicity legal_status      custody_status  \\\n",
       "609    Female  African-American     Pretrial  Pretrial Defendant   \n",
       "11603  Female         Caucasian     Pretrial         Jail Inmate   \n",
       "2979     Male  African-American     Pretrial         Jail Inmate   \n",
       "7780     Male  African-American     Pretrial         Jail Inmate   \n",
       "14335    Male  African-American     Pretrial         Jail Inmate   \n",
       "\n",
       "      marital_status  age  priors_crimes_count  \n",
       "609           Single   25                    2  \n",
       "11603         Single   43                    0  \n",
       "2979          Single   39                    1  \n",
       "7780          Single   33                    1  \n",
       "14335         Single   34                    2  "
      ]
     },
     "execution_count": 14,
     "metadata": {},
     "output_type": "execute_result"
    }
   ],
   "source": [
    "pred_train = model.predict(X_train)\n",
    "idx_ref = np.argwhere(pred_train != x_class).flatten()\n",
    "pool_ref = X_train.iloc[idx_ref[:100]]\n",
    "pool_ref.head(5)"
   ]
  },
  {
   "cell_type": "code",
   "execution_count": 15,
   "metadata": {
    "scrolled": true
   },
   "outputs": [
    {
     "name": "stderr",
     "output_type": "stream",
     "text": [
      "100%|██████████| 7/7 [00:00<00:00, 12.29it/s]\n",
      "100%|██████████| 7/7 [00:00<00:00, 15.51it/s]\n",
      "100%|██████████| 7/7 [00:00<00:00, 12.90it/s]\n",
      "100%|██████████| 7/7 [00:00<00:00, 12.54it/s]\n",
      "100%|██████████| 7/7 [00:00<00:00, 15.31it/s]\n",
      "100%|██████████| 7/7 [00:00<00:00, 11.86it/s]\n",
      "100%|██████████| 7/7 [00:00<00:00, 13.27it/s]\n",
      "100%|██████████| 7/7 [00:00<00:00, 15.90it/s]\n",
      "100%|██████████| 7/7 [00:00<00:00, 14.83it/s]\n",
      "100%|██████████| 7/7 [00:00<00:00, 12.47it/s]\n",
      "100%|██████████| 7/7 [00:00<00:00, 16.25it/s]\n",
      "100%|██████████| 7/7 [00:00<00:00, 15.05it/s]\n",
      "100%|██████████| 7/7 [00:00<00:00, 15.05it/s]\n",
      "100%|██████████| 7/7 [00:00<00:00, 16.77it/s]\n",
      "100%|██████████| 7/7 [00:00<00:00, 16.85it/s]\n",
      "100%|██████████| 7/7 [00:00<00:00, 14.95it/s]\n",
      "100%|██████████| 7/7 [00:00<00:00, 16.52it/s]\n",
      "100%|██████████| 7/7 [00:00<00:00, 17.57it/s]\n",
      "100%|██████████| 7/7 [00:00<00:00, 16.84it/s]\n",
      "100%|██████████| 7/7 [00:00<00:00, 16.46it/s]\n",
      "100%|██████████| 7/7 [00:00<00:00, 16.74it/s]\n",
      "100%|██████████| 7/7 [00:00<00:00, 16.49it/s]\n",
      "100%|██████████| 7/7 [00:00<00:00, 14.56it/s]\n",
      "100%|██████████| 7/7 [00:00<00:00, 16.20it/s]\n",
      "100%|██████████| 7/7 [00:00<00:00, 16.76it/s]\n",
      "100%|██████████| 7/7 [00:00<00:00, 17.07it/s]\n",
      "100%|██████████| 7/7 [00:00<00:00, 15.50it/s]\n",
      "100%|██████████| 7/7 [00:00<00:00, 19.08it/s]\n",
      "100%|██████████| 7/7 [00:00<00:00, 16.61it/s]\n",
      "100%|██████████| 7/7 [00:00<00:00, 11.91it/s]\n",
      "100%|██████████| 7/7 [00:00<00:00, 13.04it/s]\n",
      "100%|██████████| 7/7 [00:00<00:00, 12.08it/s]\n",
      "100%|██████████| 7/7 [00:00<00:00, 14.80it/s]\n",
      "100%|██████████| 7/7 [00:00<00:00, 16.67it/s]\n",
      "100%|██████████| 7/7 [00:00<00:00, 16.07it/s]\n",
      "100%|██████████| 7/7 [00:00<00:00, 15.93it/s]\n",
      "100%|██████████| 7/7 [00:00<00:00, 16.63it/s]\n",
      "100%|██████████| 7/7 [00:00<00:00, 15.61it/s]\n",
      "100%|██████████| 7/7 [00:00<00:00, 15.61it/s]\n",
      "100%|██████████| 7/7 [00:00<00:00, 17.22it/s]\n",
      "100%|██████████| 7/7 [00:00<00:00, 13.08it/s]\n",
      "100%|██████████| 7/7 [00:00<00:00, 11.91it/s]\n",
      "100%|██████████| 7/7 [00:00<00:00, 15.60it/s]\n",
      "100%|██████████| 7/7 [00:00<00:00, 16.84it/s]\n",
      "100%|██████████| 7/7 [00:00<00:00, 16.00it/s]\n",
      "100%|██████████| 7/7 [00:00<00:00, 15.82it/s]\n",
      "100%|██████████| 7/7 [00:00<00:00, 16.72it/s]\n",
      "100%|██████████| 7/7 [00:00<00:00, 16.08it/s]\n",
      "100%|██████████| 7/7 [00:00<00:00, 15.69it/s]\n",
      "100%|██████████| 7/7 [00:00<00:00, 15.78it/s]\n",
      "100%|██████████| 7/7 [00:00<00:00, 17.64it/s]\n",
      "100%|██████████| 7/7 [00:00<00:00, 16.29it/s]\n",
      "100%|██████████| 7/7 [00:00<00:00, 15.72it/s]\n",
      "100%|██████████| 7/7 [00:00<00:00, 15.86it/s]\n",
      "100%|██████████| 7/7 [00:00<00:00, 16.52it/s]\n",
      "100%|██████████| 7/7 [00:00<00:00, 16.28it/s]\n",
      "100%|██████████| 7/7 [00:00<00:00, 16.51it/s]\n",
      "100%|██████████| 7/7 [00:00<00:00, 12.86it/s]\n",
      "100%|██████████| 7/7 [00:00<00:00, 14.38it/s]\n",
      "100%|██████████| 7/7 [00:00<00:00, 16.06it/s]\n",
      "100%|██████████| 7/7 [00:00<00:00, 12.32it/s]\n",
      "100%|██████████| 7/7 [00:00<00:00, 13.25it/s]\n",
      "100%|██████████| 7/7 [00:00<00:00, 11.38it/s]\n",
      "100%|██████████| 7/7 [00:00<00:00, 13.28it/s]\n",
      "100%|██████████| 7/7 [00:00<00:00, 13.28it/s]\n",
      "100%|██████████| 7/7 [00:00<00:00, 14.57it/s]\n",
      "100%|██████████| 7/7 [00:00<00:00, 13.67it/s]\n",
      "100%|██████████| 7/7 [00:00<00:00, 15.13it/s]\n",
      "100%|██████████| 7/7 [00:00<00:00, 16.25it/s]\n",
      "100%|██████████| 7/7 [00:00<00:00, 16.82it/s]\n",
      "100%|██████████| 7/7 [00:00<00:00, 12.71it/s]\n",
      "100%|██████████| 7/7 [00:00<00:00, 12.78it/s]\n",
      "100%|██████████| 7/7 [00:00<00:00, 13.41it/s]\n",
      "100%|██████████| 7/7 [00:00<00:00, 13.94it/s]\n",
      "100%|██████████| 7/7 [00:00<00:00, 15.17it/s]\n",
      "100%|██████████| 7/7 [00:00<00:00, 14.94it/s]\n",
      "100%|██████████| 7/7 [00:00<00:00, 12.56it/s]\n",
      "100%|██████████| 7/7 [00:00<00:00, 12.90it/s]\n",
      "100%|██████████| 7/7 [00:00<00:00, 14.70it/s]\n",
      "100%|██████████| 7/7 [00:00<00:00, 14.12it/s]\n",
      "100%|██████████| 7/7 [00:00<00:00, 11.85it/s]\n",
      "100%|██████████| 7/7 [00:00<00:00, 15.69it/s]\n",
      "100%|██████████| 7/7 [00:00<00:00, 14.98it/s]\n",
      "100%|██████████| 7/7 [00:00<00:00, 14.15it/s]\n",
      "100%|██████████| 7/7 [00:00<00:00, 14.01it/s]\n",
      "100%|██████████| 7/7 [00:00<00:00, 12.78it/s]\n",
      "100%|██████████| 7/7 [00:00<00:00, 14.13it/s]\n",
      "100%|██████████| 7/7 [00:00<00:00, 12.99it/s]\n",
      "100%|██████████| 7/7 [00:00<00:00, 12.94it/s]\n",
      "100%|██████████| 7/7 [00:00<00:00, 12.34it/s]\n",
      "100%|██████████| 7/7 [00:00<00:00, 13.60it/s]\n",
      "100%|██████████| 7/7 [00:00<00:00, 13.84it/s]\n",
      "100%|██████████| 7/7 [00:00<00:00, 14.04it/s]\n",
      "100%|██████████| 7/7 [00:00<00:00, 13.00it/s]\n",
      "100%|██████████| 7/7 [00:00<00:00, 13.77it/s]\n",
      "100%|██████████| 7/7 [00:00<00:00, 13.78it/s]\n",
      "100%|██████████| 7/7 [00:00<00:00, 13.72it/s]\n",
      "100%|██████████| 7/7 [00:00<00:00, 13.61it/s]\n",
      "100%|██████████| 7/7 [00:00<00:00, 14.91it/s]\n",
      "100%|██████████| 7/7 [00:00<00:00, 14.90it/s]\n"
     ]
    }
   ],
   "source": [
    "n_ref = len(pool_ref)\n",
    "x_attributes = [feature + \" = \" + str(val) for feature, val in x.iteritems()]\n",
    "pool_shapley = pd.DataFrame(np.zeros((n_ref, d+1)), columns=[\"ref_pred\"] + x_attributes)\n",
    "for i in range(n_ref):\n",
    "    r = pool_ref.iloc[i]\n",
    "    ref_pred = fc_class(r.values)\n",
    "    pool_shapley.iloc[i,0] = ref_pred\n",
    "    true_shap = ShapleyValues(x=x, fc=fc_class, r=r)\n",
    "    pool_shapley.iloc[i,1:] = true_shap.values"
   ]
  },
  {
   "cell_type": "code",
   "execution_count": 16,
   "metadata": {},
   "outputs": [
    {
     "data": {
      "text/plain": [
       "ref_pred                               0.000000\n",
       "gender = Male                         -0.002333\n",
       "ethnicity = Hispanic                   0.022167\n",
       "legal_status = Pretrial               -0.002000\n",
       "custody_status = Pretrial Defendant    0.025667\n",
       "marital_status = Single                0.135333\n",
       "age = 19                               0.801333\n",
       "priors_crimes_count = 1                0.019833\n",
       "dtype: float64"
      ]
     },
     "execution_count": 16,
     "metadata": {},
     "output_type": "execute_result"
    }
   ],
   "source": [
    "mean_pool_shap = pool_shapley.mean(axis=0)\n",
    "mean_pool_shap"
   ]
  },
  {
   "cell_type": "code",
   "execution_count": 17,
   "metadata": {},
   "outputs": [
    {
     "data": {
      "text/plain": [
       "0.9999999999999996"
      ]
     },
     "execution_count": 17,
     "metadata": {},
     "output_type": "execute_result"
    }
   ],
   "source": [
    "np.sum(mean_pool_shap)"
   ]
  },
  {
   "cell_type": "code",
   "execution_count": 18,
   "metadata": {},
   "outputs": [
    {
     "data": {
      "image/png": "[encoded data removed]",
      "text/plain": [
       "<Figure size 864x504 with 1 Axes>"
      ]
     },
     "metadata": {
      "needs_background": "light"
     },
     "output_type": "display_data"
    }
   ],
   "source": [
    "plt.figure(figsize=(12,7))\n",
    "ax = sns.boxplot(data=pool_shapley, orient=\"h\", palette=\"Set2\")\n",
    "plt.show()"
   ]
  },
  {
   "cell_type": "code",
   "execution_count": null,
   "metadata": {},
   "outputs": [],
   "source": []
  },
  {
   "cell_type": "code",
   "execution_count": null,
   "metadata": {},
   "outputs": [],
   "source": []
  },
  {
   "cell_type": "code",
   "execution_count": null,
   "metadata": {},
   "outputs": [],
   "source": []
  }
 ],
 "metadata": {
  "kernelspec": {
   "display_name": "Python 3",
   "language": "python",
   "name": "python3"
  },
  "language_info": {
   "codemirror_mode": {
    "name": "ipython",
    "version": 3
   },
   "file_extension": ".py",
   "mimetype": "text/x-python",
   "name": "python",
   "nbconvert_exporter": "python",
   "pygments_lexer": "ipython3",
   "version": "3.7.3"
  },
  "toc-autonumbering": false,
  "toc-showcode": false,
  "toc-showmarkdowntxt": true
 },
 "nbformat": 4,
 "nbformat_minor": 4
}
