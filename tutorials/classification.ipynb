{
 "cells": [
  {
   "cell_type": "code",
   "execution_count": 55,
   "metadata": {
    "inputHidden": false,
    "outputHidden": false
   },
   "outputs": [
    {
     "name": "stdout",
     "output_type": "stream",
     "text": [
      "The autoreload extension is already loaded. To reload it, use:\n",
      "  %reload_ext autoreload\n"
     ]
    }
   ],
   "source": [
    "import numpy as np\n",
    "import pandas as pd\n",
    "import matplotlib.pyplot as plt\n",
    "%matplotlib inline\n",
    "import seaborn as sns\n",
    "\n",
    "from catboost import CatBoostClassifier, Pool\n",
    "from sklearn.model_selection import train_test_split\n",
    "\n",
    "from shapkit_nbdev.shapley_values import ShapleyValues\n",
    "from shapkit_nbdev.inspector import inspector\n",
    "from shapkit_nbdev.monte_carlo_shapley import MonteCarloShapley\n",
    "from shapkit_nbdev.sgd_shapley import SGDshapley\n",
    "\n",
    "%load_ext autoreload\n",
    "%autoreload 2"
   ]
  },
  {
   "cell_type": "markdown",
   "metadata": {},
   "source": [
    "# Load dataset"
   ]
  },
  {
   "cell_type": "code",
   "execution_count": 2,
   "metadata": {
    "inputHidden": false,
    "outputHidden": false
   },
   "outputs": [
    {
     "data": {
      "text/html": [
       "<div>\n",
       "<style scoped>\n",
       "    .dataframe tbody tr th:only-of-type {\n",
       "        vertical-align: middle;\n",
       "    }\n",
       "\n",
       "    .dataframe tbody tr th {\n",
       "        vertical-align: top;\n",
       "    }\n",
       "\n",
       "    .dataframe thead th {\n",
       "        text-align: right;\n",
       "    }\n",
       "</style>\n",
       "<table border=\"1\" class=\"dataframe\">\n",
       "  <thead>\n",
       "    <tr style=\"text-align: right;\">\n",
       "      <th></th>\n",
       "      <th>gender</th>\n",
       "      <th>ethnicity</th>\n",
       "      <th>legal_status</th>\n",
       "      <th>custody_status</th>\n",
       "      <th>marital_status</th>\n",
       "      <th>recidivism_probability</th>\n",
       "      <th>age</th>\n",
       "      <th>priors_crimes_count</th>\n",
       "    </tr>\n",
       "  </thead>\n",
       "  <tbody>\n",
       "    <tr>\n",
       "      <th>0</th>\n",
       "      <td>Male</td>\n",
       "      <td>Caucasian</td>\n",
       "      <td>Pretrial</td>\n",
       "      <td>Jail Inmate</td>\n",
       "      <td>Married</td>\n",
       "      <td>Low</td>\n",
       "      <td>31</td>\n",
       "      <td>0</td>\n",
       "    </tr>\n",
       "    <tr>\n",
       "      <th>1</th>\n",
       "      <td>Male</td>\n",
       "      <td>African-American</td>\n",
       "      <td>Pretrial</td>\n",
       "      <td>Jail Inmate</td>\n",
       "      <td>Single</td>\n",
       "      <td>High</td>\n",
       "      <td>21</td>\n",
       "      <td>1</td>\n",
       "    </tr>\n",
       "    <tr>\n",
       "      <th>3</th>\n",
       "      <td>Female</td>\n",
       "      <td>African-American</td>\n",
       "      <td>Pretrial</td>\n",
       "      <td>Jail Inmate</td>\n",
       "      <td>Single</td>\n",
       "      <td>Low</td>\n",
       "      <td>30</td>\n",
       "      <td>0</td>\n",
       "    </tr>\n",
       "    <tr>\n",
       "      <th>4</th>\n",
       "      <td>Male</td>\n",
       "      <td>Hispanic</td>\n",
       "      <td>Pretrial</td>\n",
       "      <td>Jail Inmate</td>\n",
       "      <td>Single</td>\n",
       "      <td>High</td>\n",
       "      <td>32</td>\n",
       "      <td>20</td>\n",
       "    </tr>\n",
       "    <tr>\n",
       "      <th>5</th>\n",
       "      <td>Female</td>\n",
       "      <td>Caucasian</td>\n",
       "      <td>Pretrial</td>\n",
       "      <td>Jail Inmate</td>\n",
       "      <td>Single</td>\n",
       "      <td>Low</td>\n",
       "      <td>49</td>\n",
       "      <td>0</td>\n",
       "    </tr>\n",
       "  </tbody>\n",
       "</table>\n",
       "</div>"
      ],
      "text/plain": [
       "   gender         ethnicity legal_status custody_status marital_status  \\\n",
       "0    Male         Caucasian     Pretrial    Jail Inmate        Married   \n",
       "1    Male  African-American     Pretrial    Jail Inmate         Single   \n",
       "3  Female  African-American     Pretrial    Jail Inmate         Single   \n",
       "4    Male          Hispanic     Pretrial    Jail Inmate         Single   \n",
       "5  Female         Caucasian     Pretrial    Jail Inmate         Single   \n",
       "\n",
       "  recidivism_probability  age  priors_crimes_count  \n",
       "0                    Low   31                    0  \n",
       "1                   High   21                    1  \n",
       "3                    Low   30                    0  \n",
       "4                   High   32                   20  \n",
       "5                    Low   49                    0  "
      ]
     },
     "execution_count": 2,
     "metadata": {},
     "output_type": "execute_result"
    }
   ],
   "source": [
    "df = pd.read_csv(\"/home/sgrah/Documents/xAI/sophia_summit/compas_dataset/compas.csv\")\n",
    "df.age = df.age.astype(\"int\")\n",
    "df.priors_count = df.priors_count.astype(\"int\")\n",
    "df.columns = ['gender', 'ethnicity', 'legal_status', 'custody_status', 'marital_status',\n",
    "              'recidivism_probability', 'age', 'priors_crimes_count']\n",
    "df = df[df.recidivism_probability.isin(['Low', 'High'])]\n",
    "df.head(5)"
   ]
  },
  {
   "cell_type": "code",
   "execution_count": 4,
   "metadata": {
    "inputHidden": false,
    "outputHidden": false
   },
   "outputs": [
    {
     "name": "stdout",
     "output_type": "stream",
     "text": [
      "Classes: ['High' 'Low']\n"
     ]
    },
    {
     "data": {
      "text/html": [
       "<div>\n",
       "<style scoped>\n",
       "    .dataframe tbody tr th:only-of-type {\n",
       "        vertical-align: middle;\n",
       "    }\n",
       "\n",
       "    .dataframe tbody tr th {\n",
       "        vertical-align: top;\n",
       "    }\n",
       "\n",
       "    .dataframe thead th {\n",
       "        text-align: right;\n",
       "    }\n",
       "</style>\n",
       "<table border=\"1\" class=\"dataframe\">\n",
       "  <thead>\n",
       "    <tr style=\"text-align: right;\">\n",
       "      <th></th>\n",
       "      <th>gender</th>\n",
       "      <th>ethnicity</th>\n",
       "      <th>legal_status</th>\n",
       "      <th>custody_status</th>\n",
       "      <th>marital_status</th>\n",
       "      <th>age</th>\n",
       "      <th>priors_crimes_count</th>\n",
       "    </tr>\n",
       "  </thead>\n",
       "  <tbody>\n",
       "    <tr>\n",
       "      <th>0</th>\n",
       "      <td>Male</td>\n",
       "      <td>Caucasian</td>\n",
       "      <td>Pretrial</td>\n",
       "      <td>Jail Inmate</td>\n",
       "      <td>Married</td>\n",
       "      <td>31</td>\n",
       "      <td>0</td>\n",
       "    </tr>\n",
       "    <tr>\n",
       "      <th>1</th>\n",
       "      <td>Male</td>\n",
       "      <td>African-American</td>\n",
       "      <td>Pretrial</td>\n",
       "      <td>Jail Inmate</td>\n",
       "      <td>Single</td>\n",
       "      <td>21</td>\n",
       "      <td>1</td>\n",
       "    </tr>\n",
       "    <tr>\n",
       "      <th>3</th>\n",
       "      <td>Female</td>\n",
       "      <td>African-American</td>\n",
       "      <td>Pretrial</td>\n",
       "      <td>Jail Inmate</td>\n",
       "      <td>Single</td>\n",
       "      <td>30</td>\n",
       "      <td>0</td>\n",
       "    </tr>\n",
       "  </tbody>\n",
       "</table>\n",
       "</div>"
      ],
      "text/plain": [
       "   gender         ethnicity legal_status custody_status marital_status  age  \\\n",
       "0    Male         Caucasian     Pretrial    Jail Inmate        Married   31   \n",
       "1    Male  African-American     Pretrial    Jail Inmate         Single   21   \n",
       "3  Female  African-American     Pretrial    Jail Inmate         Single   30   \n",
       "\n",
       "   priors_crimes_count  \n",
       "0                    0  \n",
       "1                    1  \n",
       "3                    0  "
      ]
     },
     "execution_count": 4,
     "metadata": {},
     "output_type": "execute_result"
    }
   ],
   "source": [
    "target_names = 'recidivism_probability'\n",
    "columns = [col for col in df.columns if col != target_names]\n",
    "X = df[columns].copy()\n",
    "labels = df[target_names].copy()\n",
    "y = np.where(labels == 'Low', 0, 1)\n",
    "print(\"Classes: {0}\".format(np.unique(labels)))\n",
    "X.head(3)"
   ]
  },
  {
   "cell_type": "markdown",
   "metadata": {},
   "source": [
    "\n",
    "# Train a ML model"
   ]
  },
  {
   "cell_type": "code",
   "execution_count": 5,
   "metadata": {
    "inputHidden": false,
    "outputHidden": false
   },
   "outputs": [
    {
     "name": "stdout",
     "output_type": "stream",
     "text": [
      "0:\tlearn: 0.4642593\ttest: 0.4567796\tbest: 0.4567796 (0)\ttotal: 89.5ms\tremaining: 17.8s\n",
      "20:\tlearn: 0.3708433\ttest: 0.3890843\tbest: 0.3890843 (20)\ttotal: 263ms\tremaining: 2.24s\n",
      "40:\tlearn: 0.3393934\ttest: 0.3795197\tbest: 0.3793465 (36)\ttotal: 413ms\tremaining: 1.6s\n",
      "60:\tlearn: 0.3238395\ttest: 0.3798016\tbest: 0.3765597 (54)\ttotal: 540ms\tremaining: 1.23s\n",
      "80:\tlearn: 0.3088234\ttest: 0.3846077\tbest: 0.3765597 (54)\ttotal: 667ms\tremaining: 980ms\n",
      "100:\tlearn: 0.3002132\ttest: 0.3852011\tbest: 0.3765597 (54)\ttotal: 783ms\tremaining: 767ms\n",
      "120:\tlearn: 0.2900827\ttest: 0.3868944\tbest: 0.3765597 (54)\ttotal: 1.01s\tremaining: 661ms\n",
      "140:\tlearn: 0.2783800\ttest: 0.3916980\tbest: 0.3765597 (54)\ttotal: 1.17s\tremaining: 488ms\n",
      "160:\tlearn: 0.2689697\ttest: 0.3942314\tbest: 0.3765597 (54)\ttotal: 1.31s\tremaining: 317ms\n",
      "180:\tlearn: 0.2609107\ttest: 0.3952044\tbest: 0.3765597 (54)\ttotal: 1.42s\tremaining: 150ms\n",
      "199:\tlearn: 0.2514048\ttest: 0.3948909\tbest: 0.3765597 (54)\ttotal: 1.54s\tremaining: 0us\n",
      "\n",
      "bestTest = 0.3765596588\n",
      "bestIteration = 54\n",
      "\n",
      "Shrink model to first 55 iterations.\n",
      "Test Accuracy: 0.82\n"
     ]
    }
   ],
   "source": [
    "cat_features = ['gender', 'ethnicity', 'legal_status', 'custody_status', 'marital_status']\n",
    "cat_features_index = [i for i, col in enumerate(X.columns) if col in cat_features]\n",
    "X_train, X_test, y_train, y_test = train_test_split(X, y,\n",
    "                                                    test_size=0.33,\n",
    "                                                    random_state=42)\n",
    "X_train, X_val, y_train, y_val = train_test_split(X_train, y_train,\n",
    "                                                  test_size=0.33,\n",
    "                                                  random_state=42)\n",
    "test_data = catboost_pool = Pool(X_test, y_test,\n",
    "                                 cat_features=cat_features_index)\n",
    "val_data = catboost_pool = Pool(X_val, y_val,\n",
    "                                cat_features=cat_features_index)\n",
    "\n",
    "model = CatBoostClassifier(iterations=200,\n",
    "                           depth=5,\n",
    "                           learning_rate=1,\n",
    "                           loss_function='Logloss',\n",
    "                           verbose=20)\n",
    "# train the model\n",
    "model.fit(X_train, y_train,\n",
    "          cat_features=cat_features_index,\n",
    "          eval_set=val_data)\n",
    "# make the prediction using the resulting model\n",
    "preds_class = model.predict(test_data)\n",
    "preds_proba = model.predict_proba(test_data)\n",
    "print(\"Test Accuracy: {0:.2}\".format(np.mean(preds_class == y_test)))"
   ]
  },
  {
   "cell_type": "markdown",
   "metadata": {},
   "source": [
    "# Define the game"
   ]
  },
  {
   "cell_type": "code",
   "execution_count": 91,
   "metadata": {
    "inputHidden": false,
    "outputHidden": false
   },
   "outputs": [
    {
     "data": {
      "text/plain": [
       "(7, 126)"
      ]
     },
     "execution_count": 91,
     "metadata": {},
     "output_type": "execute_result"
    }
   ],
   "source": [
    "d = X_train.shape[1]\n",
    "n = 2**d - 2\n",
    "d, n"
   ]
  },
  {
   "cell_type": "code",
   "execution_count": 92,
   "metadata": {},
   "outputs": [],
   "source": [
    "fc = lambda x: int(model.predict(x))"
   ]
  },
  {
   "cell_type": "code",
   "execution_count": 93,
   "metadata": {},
   "outputs": [],
   "source": [
    "r_class, x_class = 0, 0\n",
    "while x_class == r_class:\n",
    "    idx_r, idx_x = np.random.choice(np.arange(len(X_test)), size=2, replace=False)\n",
    "    r = X_test.iloc[idx_r,:]\n",
    "    x = X_test.iloc[idx_x,:]\n",
    "    r_class = fc(r.values)\n",
    "    x_class = fc(x.values)\n",
    "fc_class = lambda x: 1 if int(fc(x)) == int(x_class) else 0"
   ]
  },
  {
   "cell_type": "code",
   "execution_count": 94,
   "metadata": {},
   "outputs": [
    {
     "name": "stdout",
     "output_type": "stream",
     "text": [
      "gender                             Male\n",
      "ethnicity              African-American\n",
      "legal_status                   Pretrial\n",
      "custody_status              Jail Inmate\n",
      "marital_status                 Divorced\n",
      "age                                  32\n",
      "priors_crimes_count                   1\n",
      "Name: 2531, dtype: object\n",
      "\n",
      "Class Prediction for r: 0\n",
      "Real class for r: 0\n"
     ]
    }
   ],
   "source": [
    "print(r)\n",
    "print()\n",
    "print(\"Class Prediction for r: {0:.0f}\".format(model.predict(r.values)))\n",
    "print(\"Real class for r: {0:.0f}\".format(y_test[idx_r]))"
   ]
  },
  {
   "cell_type": "code",
   "execution_count": 95,
   "metadata": {},
   "outputs": [
    {
     "name": "stdout",
     "output_type": "stream",
     "text": [
      "gender                              Male\n",
      "ethnicity               African-American\n",
      "legal_status                    Pretrial\n",
      "custody_status               Jail Inmate\n",
      "marital_status         Significant Other\n",
      "age                                   30\n",
      "priors_crimes_count                   11\n",
      "Name: 17868, dtype: object\n",
      "\n",
      "Class Prediction for x: 1\n",
      "Real class for x: 1\n"
     ]
    }
   ],
   "source": [
    "print(x)\n",
    "print()\n",
    "print(\"Class Prediction for x: {0:.0f}\".format(model.predict(x.values)))\n",
    "print(\"Real class for x: {0:.0f}\".format(y_test[idx_x]))"
   ]
  },
  {
   "cell_type": "markdown",
   "metadata": {},
   "source": [
    "# Exact Shapley Values"
   ]
  },
  {
   "cell_type": "code",
   "execution_count": 96,
   "metadata": {
    "inputHidden": false,
    "outputHidden": false
   },
   "outputs": [
    {
     "name": "stderr",
     "output_type": "stream",
     "text": [
      "100%|██████████| 7/7 [00:00<00:00, 11.68it/s]\n"
     ]
    }
   ],
   "source": [
    "true_shap = ShapleyValues(x=x, fc=fc_class, r=r)"
   ]
  },
  {
   "cell_type": "code",
   "execution_count": 97,
   "metadata": {},
   "outputs": [
    {
     "data": {
      "text/plain": [
       "gender                 0.000000\n",
       "ethnicity              0.000000\n",
       "legal_status           0.000000\n",
       "custody_status         0.000000\n",
       "marital_status         0.333333\n",
       "age                   -0.166667\n",
       "priors_crimes_count    0.833333\n",
       "dtype: float64"
      ]
     },
     "execution_count": 97,
     "metadata": {},
     "output_type": "execute_result"
    }
   ],
   "source": [
    "true_shap"
   ]
  },
  {
   "cell_type": "markdown",
   "metadata": {},
   "source": [
    "# Approximation methods"
   ]
  },
  {
   "cell_type": "markdown",
   "metadata": {},
   "source": [
    "## Monte Carlo "
   ]
  },
  {
   "cell_type": "code",
   "execution_count": 98,
   "metadata": {
    "inputHidden": false,
    "outputHidden": false
   },
   "outputs": [
    {
     "name": "stderr",
     "output_type": "stream",
     "text": [
      "100%|██████████| 100/100 [00:00<00:00, 161.67it/s]\n"
     ]
    },
    {
     "data": {
      "text/plain": [
       "gender                 0.00\n",
       "ethnicity              0.00\n",
       "legal_status           0.00\n",
       "custody_status         0.00\n",
       "marital_status         0.38\n",
       "age                   -0.24\n",
       "priors_crimes_count    0.86\n",
       "dtype: float64"
      ]
     },
     "execution_count": 98,
     "metadata": {},
     "output_type": "execute_result"
    }
   ],
   "source": [
    "mc_shap = MonteCarloShapley(x=x, fc=fc_class, r=r, n_iter=100)\n",
    "mc_shap"
   ]
  },
  {
   "cell_type": "markdown",
   "metadata": {},
   "source": [
    "## SGD"
   ]
  },
  {
   "cell_type": "code",
   "execution_count": 99,
   "metadata": {
    "inputHidden": false,
    "outputHidden": false
   },
   "outputs": [
    {
     "name": "stderr",
     "output_type": "stream",
     "text": [
      "100%|██████████| 1000/1000 [00:01<00:00, 965.87it/s]\n"
     ]
    },
    {
     "data": {
      "text/plain": [
       "gender                 0.008110\n",
       "ethnicity              0.042822\n",
       "legal_status           0.026258\n",
       "custody_status        -0.012271\n",
       "marital_status         0.303875\n",
       "age                   -0.143291\n",
       "priors_crimes_count    0.774497\n",
       "dtype: float64"
      ]
     },
     "execution_count": 99,
     "metadata": {},
     "output_type": "execute_result"
    }
   ],
   "source": [
    "sgd_est = SGDshapley(d, C=y.max())\n",
    "sgd_shap = sgd_est.sgd(x=x, fc=fc_class, r=r, n_iter=1000, step=.1, step_type=\"sqrt\")\n",
    "sgd_shap"
   ]
  },
  {
   "cell_type": "markdown",
   "metadata": {},
   "source": [
    "# Comparison with several references "
   ]
  },
  {
   "cell_type": "code",
   "execution_count": 115,
   "metadata": {},
   "outputs": [
    {
     "data": {
      "text/html": [
       "<div>\n",
       "<style scoped>\n",
       "    .dataframe tbody tr th:only-of-type {\n",
       "        vertical-align: middle;\n",
       "    }\n",
       "\n",
       "    .dataframe tbody tr th {\n",
       "        vertical-align: top;\n",
       "    }\n",
       "\n",
       "    .dataframe thead th {\n",
       "        text-align: right;\n",
       "    }\n",
       "</style>\n",
       "<table border=\"1\" class=\"dataframe\">\n",
       "  <thead>\n",
       "    <tr style=\"text-align: right;\">\n",
       "      <th></th>\n",
       "      <th>gender</th>\n",
       "      <th>ethnicity</th>\n",
       "      <th>legal_status</th>\n",
       "      <th>custody_status</th>\n",
       "      <th>marital_status</th>\n",
       "      <th>age</th>\n",
       "      <th>priors_crimes_count</th>\n",
       "    </tr>\n",
       "  </thead>\n",
       "  <tbody>\n",
       "    <tr>\n",
       "      <th>609</th>\n",
       "      <td>Female</td>\n",
       "      <td>African-American</td>\n",
       "      <td>Pretrial</td>\n",
       "      <td>Pretrial Defendant</td>\n",
       "      <td>Single</td>\n",
       "      <td>25</td>\n",
       "      <td>2</td>\n",
       "    </tr>\n",
       "    <tr>\n",
       "      <th>11603</th>\n",
       "      <td>Female</td>\n",
       "      <td>Caucasian</td>\n",
       "      <td>Pretrial</td>\n",
       "      <td>Jail Inmate</td>\n",
       "      <td>Single</td>\n",
       "      <td>43</td>\n",
       "      <td>0</td>\n",
       "    </tr>\n",
       "    <tr>\n",
       "      <th>2979</th>\n",
       "      <td>Male</td>\n",
       "      <td>African-American</td>\n",
       "      <td>Pretrial</td>\n",
       "      <td>Jail Inmate</td>\n",
       "      <td>Single</td>\n",
       "      <td>39</td>\n",
       "      <td>1</td>\n",
       "    </tr>\n",
       "    <tr>\n",
       "      <th>7780</th>\n",
       "      <td>Male</td>\n",
       "      <td>African-American</td>\n",
       "      <td>Pretrial</td>\n",
       "      <td>Jail Inmate</td>\n",
       "      <td>Single</td>\n",
       "      <td>33</td>\n",
       "      <td>1</td>\n",
       "    </tr>\n",
       "    <tr>\n",
       "      <th>14335</th>\n",
       "      <td>Male</td>\n",
       "      <td>African-American</td>\n",
       "      <td>Pretrial</td>\n",
       "      <td>Jail Inmate</td>\n",
       "      <td>Single</td>\n",
       "      <td>34</td>\n",
       "      <td>2</td>\n",
       "    </tr>\n",
       "  </tbody>\n",
       "</table>\n",
       "</div>"
      ],
      "text/plain": [
       "       gender         ethnicity legal_status      custody_status  \\\n",
       "609    Female  African-American     Pretrial  Pretrial Defendant   \n",
       "11603  Female         Caucasian     Pretrial         Jail Inmate   \n",
       "2979     Male  African-American     Pretrial         Jail Inmate   \n",
       "7780     Male  African-American     Pretrial         Jail Inmate   \n",
       "14335    Male  African-American     Pretrial         Jail Inmate   \n",
       "\n",
       "      marital_status  age  priors_crimes_count  \n",
       "609           Single   25                    2  \n",
       "11603         Single   43                    0  \n",
       "2979          Single   39                    1  \n",
       "7780          Single   33                    1  \n",
       "14335         Single   34                    2  "
      ]
     },
     "execution_count": 115,
     "metadata": {},
     "output_type": "execute_result"
    }
   ],
   "source": [
    "pred_train = model.predict(X_train)\n",
    "idx_ref = np.argwhere(pred_train != x_class).flatten()\n",
    "pool_ref = X_train.iloc[idx_ref[:100]]\n",
    "pool_ref.head(5)"
   ]
  },
  {
   "cell_type": "code",
   "execution_count": 116,
   "metadata": {
    "scrolled": true
   },
   "outputs": [
    {
     "name": "stderr",
     "output_type": "stream",
     "text": [
      "100%|██████████| 7/7 [00:00<00:00, 12.14it/s]\n",
      "100%|██████████| 7/7 [00:00<00:00, 12.92it/s]\n",
      "100%|██████████| 7/7 [00:00<00:00, 12.88it/s]\n",
      "100%|██████████| 7/7 [00:00<00:00, 13.05it/s]\n",
      "100%|██████████| 7/7 [00:00<00:00, 13.26it/s]\n",
      "100%|██████████| 7/7 [00:00<00:00, 11.23it/s]\n",
      "100%|██████████| 7/7 [00:00<00:00, 12.66it/s]\n",
      "100%|██████████| 7/7 [00:00<00:00, 11.12it/s]\n",
      "100%|██████████| 7/7 [00:00<00:00, 14.04it/s]\n",
      "100%|██████████| 7/7 [00:00<00:00, 12.97it/s]\n",
      "100%|██████████| 7/7 [00:00<00:00, 14.23it/s]\n",
      "100%|██████████| 7/7 [00:00<00:00, 11.85it/s]\n",
      "100%|██████████| 7/7 [00:00<00:00, 12.85it/s]\n",
      "100%|██████████| 7/7 [00:00<00:00, 11.85it/s]\n",
      "100%|██████████| 7/7 [00:00<00:00, 15.84it/s]\n",
      "100%|██████████| 7/7 [00:00<00:00, 13.17it/s]\n",
      "100%|██████████| 7/7 [00:00<00:00, 13.83it/s]\n",
      "100%|██████████| 7/7 [00:00<00:00, 13.41it/s]\n",
      "100%|██████████| 7/7 [00:00<00:00, 12.74it/s]\n",
      "100%|██████████| 7/7 [00:00<00:00, 14.13it/s]\n",
      "100%|██████████| 7/7 [00:00<00:00, 14.15it/s]\n",
      "100%|██████████| 7/7 [00:00<00:00, 12.83it/s]\n",
      "100%|██████████| 7/7 [00:00<00:00, 13.97it/s]\n",
      "100%|██████████| 7/7 [00:00<00:00, 13.16it/s]\n",
      "100%|██████████| 7/7 [00:00<00:00, 13.13it/s]\n",
      "100%|██████████| 7/7 [00:00<00:00, 13.98it/s]\n",
      "100%|██████████| 7/7 [00:00<00:00, 13.08it/s]\n",
      "100%|██████████| 7/7 [00:00<00:00, 14.29it/s]\n",
      "100%|██████████| 7/7 [00:00<00:00, 14.31it/s]\n",
      "100%|██████████| 7/7 [00:00<00:00, 14.56it/s]\n",
      "100%|██████████| 7/7 [00:00<00:00, 13.00it/s]\n",
      "100%|██████████| 7/7 [00:00<00:00, 12.95it/s]\n",
      "100%|██████████| 7/7 [00:00<00:00, 13.75it/s]\n",
      "100%|██████████| 7/7 [00:00<00:00, 13.52it/s]\n",
      "100%|██████████| 7/7 [00:00<00:00, 13.79it/s]\n",
      "100%|██████████| 7/7 [00:00<00:00, 14.07it/s]\n",
      "100%|██████████| 7/7 [00:00<00:00, 13.32it/s]\n",
      "100%|██████████| 7/7 [00:00<00:00, 13.98it/s]\n",
      "100%|██████████| 7/7 [00:00<00:00, 14.30it/s]\n",
      "100%|██████████| 7/7 [00:00<00:00, 13.34it/s]\n",
      "100%|██████████| 7/7 [00:00<00:00, 13.91it/s]\n",
      "100%|██████████| 7/7 [00:00<00:00, 13.40it/s]\n",
      "100%|██████████| 7/7 [00:00<00:00, 12.80it/s]\n",
      "100%|██████████| 7/7 [00:00<00:00, 13.89it/s]\n",
      "100%|██████████| 7/7 [00:00<00:00, 14.73it/s]\n",
      "100%|██████████| 7/7 [00:00<00:00, 13.25it/s]\n",
      "100%|██████████| 7/7 [00:00<00:00, 14.12it/s]\n",
      "100%|██████████| 7/7 [00:00<00:00, 13.58it/s]\n",
      "100%|██████████| 7/7 [00:00<00:00, 13.06it/s]\n",
      "100%|██████████| 7/7 [00:00<00:00, 13.45it/s]\n",
      "100%|██████████| 7/7 [00:00<00:00, 14.20it/s]\n",
      "100%|██████████| 7/7 [00:00<00:00, 12.86it/s]\n",
      "100%|██████████| 7/7 [00:00<00:00, 12.57it/s]\n",
      "100%|██████████| 7/7 [00:00<00:00, 11.91it/s]\n",
      "100%|██████████| 7/7 [00:00<00:00, 14.07it/s]\n",
      "100%|██████████| 7/7 [00:00<00:00, 13.70it/s]\n",
      "100%|██████████| 7/7 [00:00<00:00, 12.77it/s]\n",
      "100%|██████████| 7/7 [00:00<00:00, 13.73it/s]\n",
      "100%|██████████| 7/7 [00:00<00:00, 13.67it/s]\n",
      "100%|██████████| 7/7 [00:00<00:00, 11.94it/s]\n",
      "100%|██████████| 7/7 [00:00<00:00, 14.11it/s]\n",
      "100%|██████████| 7/7 [00:00<00:00, 13.63it/s]\n",
      "100%|██████████| 7/7 [00:00<00:00, 13.58it/s]\n",
      "100%|██████████| 7/7 [00:00<00:00, 14.10it/s]\n",
      "100%|██████████| 7/7 [00:00<00:00, 14.09it/s]\n",
      "100%|██████████| 7/7 [00:00<00:00, 12.03it/s]\n",
      "100%|██████████| 7/7 [00:00<00:00, 14.49it/s]\n",
      "100%|██████████| 7/7 [00:00<00:00, 14.02it/s]\n",
      "100%|██████████| 7/7 [00:00<00:00, 15.08it/s]\n",
      "100%|██████████| 7/7 [00:00<00:00, 13.24it/s]\n",
      "100%|██████████| 7/7 [00:00<00:00, 13.97it/s]\n",
      "100%|██████████| 7/7 [00:00<00:00, 13.77it/s]\n",
      "100%|██████████| 7/7 [00:00<00:00, 13.56it/s]\n",
      "100%|██████████| 7/7 [00:00<00:00, 13.33it/s]\n",
      "100%|██████████| 7/7 [00:00<00:00, 13.19it/s]\n",
      "100%|██████████| 7/7 [00:00<00:00, 14.09it/s]\n",
      "100%|██████████| 7/7 [00:00<00:00, 13.95it/s]\n",
      "100%|██████████| 7/7 [00:00<00:00, 12.88it/s]\n",
      "100%|██████████| 7/7 [00:00<00:00, 13.25it/s]\n",
      "100%|██████████| 7/7 [00:00<00:00, 13.86it/s]\n",
      "100%|██████████| 7/7 [00:00<00:00, 13.68it/s]\n",
      "100%|██████████| 7/7 [00:00<00:00, 13.76it/s]\n",
      "100%|██████████| 7/7 [00:00<00:00, 13.97it/s]\n",
      "100%|██████████| 7/7 [00:00<00:00, 13.27it/s]\n",
      "100%|██████████| 7/7 [00:00<00:00, 13.76it/s]\n",
      "100%|██████████| 7/7 [00:00<00:00, 15.53it/s]\n",
      "100%|██████████| 7/7 [00:00<00:00, 13.27it/s]\n",
      "100%|██████████| 7/7 [00:00<00:00, 14.11it/s]\n",
      "100%|██████████| 7/7 [00:00<00:00, 13.77it/s]\n",
      "100%|██████████| 7/7 [00:00<00:00, 13.64it/s]\n",
      "100%|██████████| 7/7 [00:00<00:00, 13.13it/s]\n",
      "100%|██████████| 7/7 [00:00<00:00, 13.85it/s]\n",
      "100%|██████████| 7/7 [00:00<00:00, 10.44it/s]\n",
      "100%|██████████| 7/7 [00:00<00:00, 10.55it/s]\n",
      "100%|██████████| 7/7 [00:00<00:00, 11.84it/s]\n",
      "100%|██████████| 7/7 [00:00<00:00, 13.86it/s]\n",
      "100%|██████████| 7/7 [00:00<00:00, 12.90it/s]\n",
      "100%|██████████| 7/7 [00:00<00:00, 11.18it/s]\n",
      "100%|██████████| 7/7 [00:00<00:00, 12.43it/s]\n",
      "100%|██████████| 7/7 [00:00<00:00, 12.39it/s]\n"
     ]
    }
   ],
   "source": [
    "n_ref = len(pool_ref)\n",
    "x_attributes = [feature + \" = \" + str(val) for feature, val in x.iteritems()]\n",
    "pool_shapley = pd.DataFrame(np.zeros((n_ref, d+1)), columns=[\"ref_pred\"] + x_attributes)\n",
    "for i in range(n_ref):\n",
    "    r = pool_ref.iloc[i]\n",
    "    ref_pred = fc_class(r.values)\n",
    "    pool_shapley.iloc[i,0] = ref_pred\n",
    "    true_shap = ShapleyValues(x=x, fc=fc_class, r=r)\n",
    "    pool_shapley.iloc[i,1:] = true_shap.values"
   ]
  },
  {
   "cell_type": "code",
   "execution_count": 117,
   "metadata": {},
   "outputs": [
    {
     "data": {
      "text/plain": [
       "ref_pred                              0.000000\n",
       "gender = Male                        -0.001167\n",
       "ethnicity = African-American          0.047667\n",
       "legal_status = Pretrial               0.004333\n",
       "custody_status = Jail Inmate          0.018333\n",
       "marital_status = Significant Other    0.090833\n",
       "age = 30                              0.023167\n",
       "priors_crimes_count = 11              0.816833\n",
       "dtype: float64"
      ]
     },
     "execution_count": 117,
     "metadata": {},
     "output_type": "execute_result"
    }
   ],
   "source": [
    "mean_pool_shap = pool_shapley.mean(axis=0)\n",
    "mean_pool_shap"
   ]
  },
  {
   "cell_type": "code",
   "execution_count": 118,
   "metadata": {},
   "outputs": [
    {
     "data": {
      "text/plain": [
       "0.9999999999999996"
      ]
     },
     "execution_count": 118,
     "metadata": {},
     "output_type": "execute_result"
    }
   ],
   "source": [
    "np.sum(mean_pool_shap)"
   ]
  },
  {
   "cell_type": "code",
   "execution_count": 119,
   "metadata": {},
   "outputs": [
    {
     "data": {
      "image/png": "[encoded data removed]",
      "text/plain": [
       "<Figure size 864x504 with 1 Axes>"
      ]
     },
     "metadata": {
      "needs_background": "light"
     },
     "output_type": "display_data"
    }
   ],
   "source": [
    "plt.figure(figsize=(12,7))\n",
    "ax = sns.boxplot(data=pool_shapley, orient=\"h\", palette=\"Set2\")\n",
    "plt.show()"
   ]
  },
  {
   "cell_type": "code",
   "execution_count": null,
   "metadata": {},
   "outputs": [],
   "source": []
  },
  {
   "cell_type": "code",
   "execution_count": null,
   "metadata": {},
   "outputs": [],
   "source": []
  },
  {
   "cell_type": "code",
   "execution_count": null,
   "metadata": {},
   "outputs": [],
   "source": []
  }
 ],
 "metadata": {
  "kernelspec": {
   "display_name": "Python 3",
   "language": "python",
   "name": "python3"
  },
  "language_info": {
   "codemirror_mode": {
    "name": "ipython",
    "version": 3
   },
   "file_extension": ".py",
   "mimetype": "text/x-python",
   "name": "python",
   "nbconvert_exporter": "python",
   "pygments_lexer": "ipython3",
   "version": "3.7.3"
  },
  "toc-autonumbering": false,
  "toc-showcode": false,
  "toc-showmarkdowntxt": true
 },
 "nbformat": 4,
 "nbformat_minor": 4
}
