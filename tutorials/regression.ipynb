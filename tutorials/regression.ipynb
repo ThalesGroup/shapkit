{
 "cells": [
  {
   "cell_type": "code",
   "execution_count": 1,
   "metadata": {
    "inputHidden": false,
    "outputHidden": false
   },
   "outputs": [],
   "source": [
    "import numpy as np\n",
    "import pandas as pd\n",
    "import matplotlib.pyplot as plt\n",
    "%matplotlib inline\n",
    "import seaborn as sns\n",
    "\n",
    "from sklearn.model_selection import train_test_split\n",
    "\n",
    "from shapkit.shapley_values import ShapleyValues\n",
    "from shapkit.inspector import inspector\n",
    "from shapkit.monte_carlo_shapley import MonteCarloShapley, MonteCarloShapleyBatch\n",
    "from shapkit.sgd_shapley import SGDshapley\n",
    "from shapkit.plots import plot_shapley\n",
    "\n",
    "%load_ext autoreload\n",
    "%autoreload 2"
   ]
  },
  {
   "cell_type": "code",
   "execution_count": 2,
   "metadata": {},
   "outputs": [],
   "source": [
    "try:\n",
    "    from catboost import CatBoostRegressor, Pool\n",
    "except:\n",
    "    ! pip install catboost "
   ]
  },
  {
   "cell_type": "markdown",
   "metadata": {},
   "source": [
    "# Load dataset"
   ]
  },
  {
   "cell_type": "code",
   "execution_count": 3,
   "metadata": {
    "inputHidden": false,
    "outputHidden": false
   },
   "outputs": [
    {
     "data": {
      "text/html": [
       "<div>\n",
       "<style scoped>\n",
       "    .dataframe tbody tr th:only-of-type {\n",
       "        vertical-align: middle;\n",
       "    }\n",
       "\n",
       "    .dataframe tbody tr th {\n",
       "        vertical-align: top;\n",
       "    }\n",
       "\n",
       "    .dataframe thead th {\n",
       "        text-align: right;\n",
       "    }\n",
       "</style>\n",
       "<table border=\"1\" class=\"dataframe\">\n",
       "  <thead>\n",
       "    <tr style=\"text-align: right;\">\n",
       "      <th></th>\n",
       "      <th>season</th>\n",
       "      <th>mnth</th>\n",
       "      <th>hr</th>\n",
       "      <th>holiday</th>\n",
       "      <th>weekday</th>\n",
       "      <th>workingday</th>\n",
       "      <th>weathersit</th>\n",
       "      <th>temp</th>\n",
       "      <th>atemp</th>\n",
       "      <th>hum</th>\n",
       "      <th>windspeed</th>\n",
       "      <th>casual</th>\n",
       "      <th>registered</th>\n",
       "      <th>cnt</th>\n",
       "    </tr>\n",
       "  </thead>\n",
       "  <tbody>\n",
       "    <tr>\n",
       "      <th>0</th>\n",
       "      <td>1</td>\n",
       "      <td>1</td>\n",
       "      <td>0</td>\n",
       "      <td>0</td>\n",
       "      <td>6</td>\n",
       "      <td>0</td>\n",
       "      <td>1</td>\n",
       "      <td>0.24</td>\n",
       "      <td>0.2879</td>\n",
       "      <td>0.81</td>\n",
       "      <td>0.0</td>\n",
       "      <td>3</td>\n",
       "      <td>13</td>\n",
       "      <td>16</td>\n",
       "    </tr>\n",
       "    <tr>\n",
       "      <th>1</th>\n",
       "      <td>1</td>\n",
       "      <td>1</td>\n",
       "      <td>1</td>\n",
       "      <td>0</td>\n",
       "      <td>6</td>\n",
       "      <td>0</td>\n",
       "      <td>1</td>\n",
       "      <td>0.22</td>\n",
       "      <td>0.2727</td>\n",
       "      <td>0.80</td>\n",
       "      <td>0.0</td>\n",
       "      <td>8</td>\n",
       "      <td>32</td>\n",
       "      <td>40</td>\n",
       "    </tr>\n",
       "    <tr>\n",
       "      <th>2</th>\n",
       "      <td>1</td>\n",
       "      <td>1</td>\n",
       "      <td>2</td>\n",
       "      <td>0</td>\n",
       "      <td>6</td>\n",
       "      <td>0</td>\n",
       "      <td>1</td>\n",
       "      <td>0.22</td>\n",
       "      <td>0.2727</td>\n",
       "      <td>0.80</td>\n",
       "      <td>0.0</td>\n",
       "      <td>5</td>\n",
       "      <td>27</td>\n",
       "      <td>32</td>\n",
       "    </tr>\n",
       "  </tbody>\n",
       "</table>\n",
       "</div>"
      ],
      "text/plain": [
       "  season mnth hr holiday weekday workingday weathersit  temp   atemp   hum  \\\n",
       "0      1    1  0       0       6          0          1  0.24  0.2879  0.81   \n",
       "1      1    1  1       0       6          0          1  0.22  0.2727  0.80   \n",
       "2      1    1  2       0       6          0          1  0.22  0.2727  0.80   \n",
       "\n",
       "   windspeed  casual  registered  cnt  \n",
       "0        0.0       3          13   16  \n",
       "1        0.0       8          32   40  \n",
       "2        0.0       5          27   32  "
      ]
     },
     "execution_count": 3,
     "metadata": {},
     "output_type": "execute_result"
    }
   ],
   "source": [
    "df = pd.read_csv(\"../dataset/bike/hour.csv\")\n",
    "df = df.drop(columns=[\"instant\", \"dteday\", \"yr\"])\n",
    "cat_features = [\"season\", \"mnth\", \"hr\", \"holiday\", \"weekday\", \"workingday\", \"weathersit\"]\n",
    "df[cat_features] = df[cat_features].astype(\"str\")\n",
    "df.head(3)"
   ]
  },
  {
   "cell_type": "code",
   "execution_count": 4,
   "metadata": {
    "inputHidden": false,
    "outputHidden": false
   },
   "outputs": [],
   "source": [
    "target_names = 'cnt'\n",
    "columns = [col for col in df.columns if col != target_names]\n",
    "X = df[columns].copy()\n",
    "y = df[target_names].copy()"
   ]
  },
  {
   "cell_type": "code",
   "execution_count": 5,
   "metadata": {
    "inputHidden": false,
    "outputHidden": false
   },
   "outputs": [
    {
     "data": {
      "text/plain": [
       "(13, 8190)"
      ]
     },
     "execution_count": 5,
     "metadata": {},
     "output_type": "execute_result"
    }
   ],
   "source": [
    "d = X.shape[1]\n",
    "n = 2**d - 2\n",
    "d, n"
   ]
  },
  {
   "cell_type": "markdown",
   "metadata": {},
   "source": [
    "\n",
    "# Train a ML model"
   ]
  },
  {
   "cell_type": "code",
   "execution_count": 6,
   "metadata": {
    "inputHidden": false,
    "outputHidden": false
   },
   "outputs": [
    {
     "name": "stdout",
     "output_type": "stream",
     "text": [
      "0:\tlearn: 72.0079582\ttest: 68.8890183\tbest: 68.8890183 (0)\ttotal: 52.9ms\tremaining: 52.9s\n",
      "100:\tlearn: 3.3868955\ttest: 4.0279568\tbest: 3.9496225 (95)\ttotal: 399ms\tremaining: 3.55s\n",
      "200:\tlearn: 2.2990130\ttest: 3.3573326\tbest: 3.3573326 (200)\ttotal: 594ms\tremaining: 2.36s\n",
      "300:\tlearn: 1.8800424\ttest: 3.2616370\tbest: 3.2345658 (291)\ttotal: 857ms\tremaining: 1.99s\n",
      "400:\tlearn: 1.6002957\ttest: 3.1736670\tbest: 3.1580785 (393)\ttotal: 1.17s\tremaining: 1.74s\n",
      "500:\tlearn: 1.4201456\ttest: 3.1613384\tbest: 3.1245929 (474)\ttotal: 1.64s\tremaining: 1.63s\n",
      "600:\tlearn: 1.2939205\ttest: 3.1592655\tbest: 3.1245929 (474)\ttotal: 1.93s\tremaining: 1.28s\n",
      "700:\tlearn: 1.1926415\ttest: 3.1446594\tbest: 3.1245929 (474)\ttotal: 2.4s\tremaining: 1.02s\n",
      "800:\tlearn: 1.0794685\ttest: 3.1767016\tbest: 3.1245929 (474)\ttotal: 2.61s\tremaining: 649ms\n",
      "900:\tlearn: 1.0107002\ttest: 3.1520059\tbest: 3.1245929 (474)\ttotal: 2.88s\tremaining: 317ms\n",
      "999:\tlearn: 0.9582450\ttest: 3.1601631\tbest: 3.1245929 (474)\ttotal: 3.12s\tremaining: 0us\n",
      "\n",
      "bestTest = 3.124592859\n",
      "bestIteration = 474\n",
      "\n",
      "Shrink model to first 475 iterations.\n",
      "Test RMSE: 3.0\n"
     ]
    }
   ],
   "source": [
    "cat_features_index = [i for i, col in enumerate(X.columns) if col in cat_features]\n",
    "X_train, X_test, y_train, y_test = train_test_split(X, y,\n",
    "                                                    test_size=0.33,\n",
    "                                                    random_state=42)\n",
    "X_train, X_val, y_train, y_val = train_test_split(X_train, y_train,\n",
    "                                                  test_size=0.33,\n",
    "                                                  random_state=42)\n",
    "test_data = catboost_pool = Pool(X_test, y_test,\n",
    "                                 cat_features=cat_features_index)\n",
    "val_data = catboost_pool = Pool(X_val, y_val,\n",
    "                                cat_features=cat_features_index)\n",
    "model = CatBoostRegressor(iterations=1000, depth=3,\n",
    "                           learning_rate=1,\n",
    "                           loss_function='RMSE',\n",
    "                           verbose=100)\n",
    "# train the model\n",
    "model.fit(X_train, y_train,\n",
    "          cat_features=cat_features_index,\n",
    "          eval_set=val_data)\n",
    "\n",
    "# make the prediction using the resulting model\n",
    "preds = model.predict(test_data)\n",
    "rmse = np.sqrt(np.mean((preds - y_test)**2))\n",
    "print(\"Test RMSE: {0:.2}\".format(rmse))"
   ]
  },
  {
   "cell_type": "markdown",
   "metadata": {},
   "source": [
    "# Define the reward function"
   ]
  },
  {
   "cell_type": "code",
   "execution_count": 7,
   "metadata": {},
   "outputs": [],
   "source": [
    "fc = lambda x: model.predict(x)"
   ]
  },
  {
   "cell_type": "markdown",
   "metadata": {},
   "source": [
    "# Pick an individual x to explain"
   ]
  },
  {
   "cell_type": "code",
   "execution_count": 8,
   "metadata": {},
   "outputs": [
    {
     "name": "stdout",
     "output_type": "stream",
     "text": [
      "season             4\n",
      "mnth              10\n",
      "hr                 0\n",
      "holiday            0\n",
      "weekday            0\n",
      "workingday         0\n",
      "weathersit         1\n",
      "temp            0.44\n",
      "atemp         0.4394\n",
      "hum             0.54\n",
      "windspeed     0.1642\n",
      "casual            35\n",
      "registered       119\n",
      "Name: 15691, dtype: object\n",
      "\n",
      "Prediction for x: 153\n"
     ]
    }
   ],
   "source": [
    "x = X_test.iloc[np.random.choice(len(X_test), size=1)[0],:]\n",
    "print(x)\n",
    "print()\n",
    "print(\"Prediction for x: {0:.0f}\".format(model.predict(x.values)))"
   ]
  },
  {
   "cell_type": "markdown",
   "metadata": {},
   "source": [
    "# Single reference"
   ]
  },
  {
   "cell_type": "code",
   "execution_count": 9,
   "metadata": {},
   "outputs": [
    {
     "name": "stdout",
     "output_type": "stream",
     "text": [
      "season             2\n",
      "mnth               5\n",
      "hr                 5\n",
      "holiday            0\n",
      "weekday            4\n",
      "workingday         1\n",
      "weathersit         2\n",
      "temp             0.6\n",
      "atemp         0.5455\n",
      "hum             0.88\n",
      "windspeed     0.0896\n",
      "casual             2\n",
      "registered        25\n",
      "Name: 3391, dtype: object\n",
      "\n",
      "Prediction for this reference: 27\n"
     ]
    }
   ],
   "source": [
    "reference = X_train.iloc[np.random.choice(len(X_train), size=1)[0],:]\n",
    "print(reference)\n",
    "print()\n",
    "print(\"Prediction for this reference: {0:.0f}\".format(model.predict(reference.values)))"
   ]
  },
  {
   "cell_type": "markdown",
   "metadata": {},
   "source": [
    "# Exact Shapley Values"
   ]
  },
  {
   "cell_type": "code",
   "execution_count": 10,
   "metadata": {
    "inputHidden": false,
    "outputHidden": false
   },
   "outputs": [
    {
     "name": "stderr",
     "output_type": "stream",
     "text": [
      "100%|██████████| 13/13 [01:00<00:00,  4.65s/it]\n"
     ]
    }
   ],
   "source": [
    "true_shap = ShapleyValues(x=x, fc=fc, ref=reference)"
   ]
  },
  {
   "cell_type": "code",
   "execution_count": 11,
   "metadata": {},
   "outputs": [
    {
     "data": {
      "text/plain": [
       "season        -0.005888\n",
       "mnth           0.147131\n",
       "hr             0.000000\n",
       "holiday        0.000000\n",
       "weekday        0.097870\n",
       "workingday     0.000000\n",
       "weathersit     0.119126\n",
       "temp           0.162239\n",
       "atemp         -0.024950\n",
       "hum            0.076893\n",
       "windspeed     -0.045468\n",
       "casual        32.400420\n",
       "registered    93.625255\n",
       "dtype: float64"
      ]
     },
     "execution_count": 11,
     "metadata": {},
     "output_type": "execute_result"
    }
   ],
   "source": [
    "true_shap"
   ]
  },
  {
   "cell_type": "markdown",
   "metadata": {},
   "source": [
    "# Approximation methods"
   ]
  },
  {
   "cell_type": "markdown",
   "metadata": {},
   "source": [
    "## Monte Carlo "
   ]
  },
  {
   "cell_type": "code",
   "execution_count": 12,
   "metadata": {
    "inputHidden": false,
    "outputHidden": false
   },
   "outputs": [
    {
     "name": "stderr",
     "output_type": "stream",
     "text": [
      "  0%|          | 4/1000 [00:00<00:25, 39.08it/s]"
     ]
    },
    {
     "name": "stdout",
     "output_type": "stream",
     "text": [
      "new dimension 12\n"
     ]
    },
    {
     "name": "stderr",
     "output_type": "stream",
     "text": [
      "100%|██████████| 1000/1000 [00:18<00:00, 55.29it/s]\n"
     ]
    },
    {
     "data": {
      "text/plain": [
       "season        -0.004953\n",
       "mnth           0.146485\n",
       "hr             0.000000\n",
       "holiday        0.000000\n",
       "weekday        0.099323\n",
       "workingday     0.000000\n",
       "weathersit     0.118566\n",
       "temp           0.162532\n",
       "atemp         -0.025269\n",
       "hum            0.075032\n",
       "windspeed     -0.045468\n",
       "casual        32.405684\n",
       "registered    93.620693\n",
       "dtype: float64"
      ]
     },
     "execution_count": 12,
     "metadata": {},
     "output_type": "execute_result"
    }
   ],
   "source": [
    "mc_shap = MonteCarloShapley(x=x, fc=fc, ref=reference, n_iter=1000)\n",
    "mc_shap"
   ]
  },
  {
   "cell_type": "code",
   "execution_count": 13,
   "metadata": {},
   "outputs": [
    {
     "name": "stdout",
     "output_type": "stream",
     "text": [
      "CPU times: user 88 ms, sys: 7.86 ms, total: 95.9 ms\n",
      "Wall time: 68.2 ms\n"
     ]
    },
    {
     "data": {
      "text/plain": [
       "season        -0.018034\n",
       "mnth           0.159961\n",
       "hr             0.000000\n",
       "holiday        0.000000\n",
       "weekday        0.095219\n",
       "workingday     0.000000\n",
       "weathersit     0.118292\n",
       "temp           0.162891\n",
       "atemp         -0.025109\n",
       "hum            0.081028\n",
       "windspeed     -0.045468\n",
       "casual        32.401495\n",
       "registered    93.622352\n",
       "dtype: float64"
      ]
     },
     "execution_count": 13,
     "metadata": {},
     "output_type": "execute_result"
    }
   ],
   "source": [
    "%%time\n",
    "mc_shap_batch = MonteCarloShapleyBatch(x=x, fc=model.predict, ref=reference, n_iter=1000)\n",
    "mc_shap_batch"
   ]
  },
  {
   "cell_type": "markdown",
   "metadata": {},
   "source": [
    "## SGD"
   ]
  },
  {
   "cell_type": "code",
   "execution_count": 14,
   "metadata": {
    "inputHidden": false,
    "outputHidden": false
   },
   "outputs": [
    {
     "name": "stderr",
     "output_type": "stream",
     "text": [
      "100%|██████████| 5000/5000 [00:05<00:00, 959.94it/s] \n"
     ]
    },
    {
     "data": {
      "text/plain": [
       "season         0.202144\n",
       "mnth           0.513966\n",
       "hr             0.082878\n",
       "holiday        0.984934\n",
       "weekday       -0.176972\n",
       "workingday     0.470543\n",
       "weathersit     0.467657\n",
       "temp           0.100849\n",
       "atemp         -0.645047\n",
       "hum           -0.041214\n",
       "windspeed      0.099726\n",
       "casual        31.768089\n",
       "registered    92.725075\n",
       "dtype: float64"
      ]
     },
     "execution_count": 14,
     "metadata": {},
     "output_type": "execute_result"
    }
   ],
   "source": [
    "sgd_est = SGDshapley(d, C=y.max())\n",
    "sgd_shap = sgd_est.sgd(x=x, fc=fc, ref=reference, n_iter=5000, step=.1, step_type=\"sqrt\")\n",
    "sgd_shap"
   ]
  },
  {
   "cell_type": "markdown",
   "metadata": {},
   "source": [
    "# Plot "
   ]
  },
  {
   "cell_type": "code",
   "execution_count": 15,
   "metadata": {},
   "outputs": [
    {
     "name": "stderr",
     "output_type": "stream",
     "text": [
      "/home/sgrah/Documents/shapkit/tutorials/shapkit/plots.py:104: UserWarning: FixedFormatter should only be used together with FixedLocator\n",
      "  fig.get_axes()[0].set_xticklabels(xticks_label)\n"
     ]
    },
    {
     "data": {
      "image/png": "[encoded data removed]",
      "text/plain": [
       "<Figure size 864x504 with 1 Axes>"
      ]
     },
     "metadata": {},
     "output_type": "display_data"
    }
   ],
   "source": [
    "plot_shapley(x=x, fc=fc, ref=reference, shapley_values=true_shap, n_attributes=5)"
   ]
  },
  {
   "cell_type": "markdown",
   "metadata": {},
   "source": [
    "# Several references "
   ]
  },
  {
   "cell_type": "code",
   "execution_count": 16,
   "metadata": {},
   "outputs": [
    {
     "data": {
      "text/html": [
       "<div>\n",
       "<style scoped>\n",
       "    .dataframe tbody tr th:only-of-type {\n",
       "        vertical-align: middle;\n",
       "    }\n",
       "\n",
       "    .dataframe tbody tr th {\n",
       "        vertical-align: top;\n",
       "    }\n",
       "\n",
       "    .dataframe thead th {\n",
       "        text-align: right;\n",
       "    }\n",
       "</style>\n",
       "<table border=\"1\" class=\"dataframe\">\n",
       "  <thead>\n",
       "    <tr style=\"text-align: right;\">\n",
       "      <th></th>\n",
       "      <th>season</th>\n",
       "      <th>mnth</th>\n",
       "      <th>hr</th>\n",
       "      <th>holiday</th>\n",
       "      <th>weekday</th>\n",
       "      <th>workingday</th>\n",
       "      <th>weathersit</th>\n",
       "      <th>temp</th>\n",
       "      <th>atemp</th>\n",
       "      <th>hum</th>\n",
       "      <th>windspeed</th>\n",
       "      <th>casual</th>\n",
       "      <th>registered</th>\n",
       "    </tr>\n",
       "  </thead>\n",
       "  <tbody>\n",
       "    <tr>\n",
       "      <th>2135</th>\n",
       "      <td>2</td>\n",
       "      <td>4</td>\n",
       "      <td>20</td>\n",
       "      <td>0</td>\n",
       "      <td>0</td>\n",
       "      <td>0</td>\n",
       "      <td>3</td>\n",
       "      <td>0.42</td>\n",
       "      <td>0.4242</td>\n",
       "      <td>0.41</td>\n",
       "      <td>0.2239</td>\n",
       "      <td>24</td>\n",
       "      <td>55</td>\n",
       "    </tr>\n",
       "    <tr>\n",
       "      <th>5167</th>\n",
       "      <td>3</td>\n",
       "      <td>8</td>\n",
       "      <td>5</td>\n",
       "      <td>0</td>\n",
       "      <td>1</td>\n",
       "      <td>1</td>\n",
       "      <td>1</td>\n",
       "      <td>0.70</td>\n",
       "      <td>0.6667</td>\n",
       "      <td>0.79</td>\n",
       "      <td>0.0896</td>\n",
       "      <td>1</td>\n",
       "      <td>14</td>\n",
       "    </tr>\n",
       "    <tr>\n",
       "      <th>11454</th>\n",
       "      <td>2</td>\n",
       "      <td>4</td>\n",
       "      <td>11</td>\n",
       "      <td>0</td>\n",
       "      <td>5</td>\n",
       "      <td>1</td>\n",
       "      <td>1</td>\n",
       "      <td>0.44</td>\n",
       "      <td>0.4394</td>\n",
       "      <td>0.38</td>\n",
       "      <td>0.3284</td>\n",
       "      <td>47</td>\n",
       "      <td>186</td>\n",
       "    </tr>\n",
       "    <tr>\n",
       "      <th>13446</th>\n",
       "      <td>3</td>\n",
       "      <td>7</td>\n",
       "      <td>11</td>\n",
       "      <td>0</td>\n",
       "      <td>4</td>\n",
       "      <td>1</td>\n",
       "      <td>1</td>\n",
       "      <td>0.80</td>\n",
       "      <td>0.7576</td>\n",
       "      <td>0.55</td>\n",
       "      <td>0.1045</td>\n",
       "      <td>54</td>\n",
       "      <td>162</td>\n",
       "    </tr>\n",
       "    <tr>\n",
       "      <th>8389</th>\n",
       "      <td>1</td>\n",
       "      <td>12</td>\n",
       "      <td>5</td>\n",
       "      <td>0</td>\n",
       "      <td>3</td>\n",
       "      <td>1</td>\n",
       "      <td>2</td>\n",
       "      <td>0.38</td>\n",
       "      <td>0.3939</td>\n",
       "      <td>0.82</td>\n",
       "      <td>0.1045</td>\n",
       "      <td>0</td>\n",
       "      <td>28</td>\n",
       "    </tr>\n",
       "  </tbody>\n",
       "</table>\n",
       "</div>"
      ],
      "text/plain": [
       "      season mnth  hr holiday weekday workingday weathersit  temp   atemp  \\\n",
       "2135       2    4  20       0       0          0          3  0.42  0.4242   \n",
       "5167       3    8   5       0       1          1          1  0.70  0.6667   \n",
       "11454      2    4  11       0       5          1          1  0.44  0.4394   \n",
       "13446      3    7  11       0       4          1          1  0.80  0.7576   \n",
       "8389       1   12   5       0       3          1          2  0.38  0.3939   \n",
       "\n",
       "        hum  windspeed  casual  registered  \n",
       "2135   0.41     0.2239      24          55  \n",
       "5167   0.79     0.0896       1          14  \n",
       "11454  0.38     0.3284      47         186  \n",
       "13446  0.55     0.1045      54         162  \n",
       "8389   0.82     0.1045       0          28  "
      ]
     },
     "execution_count": 16,
     "metadata": {},
     "output_type": "execute_result"
    }
   ],
   "source": [
    "n_ref = 100\n",
    "idx_ref = np.random.choice(X_train.shape[0], size=n_ref, replace=False).flatten()\n",
    "references = X_train.iloc[idx_ref]\n",
    "references.head(5)"
   ]
  },
  {
   "cell_type": "markdown",
   "metadata": {},
   "source": [
    "# Approximation methods"
   ]
  },
  {
   "cell_type": "markdown",
   "metadata": {},
   "source": [
    "## Monte Carlo "
   ]
  },
  {
   "cell_type": "code",
   "execution_count": 17,
   "metadata": {
    "inputHidden": false,
    "outputHidden": false
   },
   "outputs": [
    {
     "name": "stderr",
     "output_type": "stream",
     "text": [
      "100%|██████████| 10000/10000 [02:05<00:00, 79.86it/s]\n"
     ]
    },
    {
     "data": {
      "text/plain": [
       "season         0.000433\n",
       "mnth           0.036114\n",
       "hr            -0.202104\n",
       "holiday        0.000000\n",
       "weekday        0.042281\n",
       "workingday     0.000000\n",
       "weathersit     0.054615\n",
       "temp           0.282092\n",
       "atemp          0.140863\n",
       "hum            0.073168\n",
       "windspeed      0.017134\n",
       "casual        -1.869281\n",
       "registered   -66.599025\n",
       "dtype: float64"
      ]
     },
     "execution_count": 17,
     "metadata": {},
     "output_type": "execute_result"
    }
   ],
   "source": [
    "mc_shaps = MonteCarloShapley(x=x, fc=fc, ref=references, n_iter=10000)\n",
    "mc_shaps"
   ]
  },
  {
   "cell_type": "code",
   "execution_count": 22,
   "metadata": {},
   "outputs": [
    {
     "name": "stdout",
     "output_type": "stream",
     "text": [
      "CPU times: user 1.83 s, sys: 0 ns, total: 1.83 s\n",
      "Wall time: 1.65 s\n"
     ]
    },
    {
     "data": {
      "text/plain": [
       "season        -0.012637\n",
       "mnth           0.028360\n",
       "hr            -0.191162\n",
       "holiday        0.000000\n",
       "weekday        0.047520\n",
       "workingday     0.000000\n",
       "weathersit     0.052974\n",
       "temp           0.287205\n",
       "atemp          0.135246\n",
       "hum            0.071949\n",
       "windspeed      0.029875\n",
       "casual        -2.011853\n",
       "registered   -70.590805\n",
       "dtype: float64"
      ]
     },
     "execution_count": 22,
     "metadata": {},
     "output_type": "execute_result"
    }
   ],
   "source": [
    "%%time\n",
    "mc_shaps_batch = MonteCarloShapleyBatch(x=x, fc=model.predict, ref=references, n_iter=10000)\n",
    "mc_shaps_batch"
   ]
  },
  {
   "cell_type": "markdown",
   "metadata": {},
   "source": [
    "# Plots"
   ]
  },
  {
   "cell_type": "code",
   "execution_count": 23,
   "metadata": {},
   "outputs": [
    {
     "name": "stderr",
     "output_type": "stream",
     "text": [
      "/home/sgrah/Documents/shapkit/tutorials/shapkit/plots.py:104: UserWarning: FixedFormatter should only be used together with FixedLocator\n",
      "  fig.get_axes()[0].set_xticklabels(xticks_label)\n"
     ]
    },
    {
     "data": {
      "image/png": "[encoded data removed]",
      "text/plain": [
       "<Figure size 864x504 with 1 Axes>"
      ]
     },
     "metadata": {},
     "output_type": "display_data"
    }
   ],
   "source": [
    "plot_shapley(x=x, fc=fc, ref=references, shapley_values=mc_shaps_batch, n_attributes=10)"
   ]
  },
  {
   "cell_type": "code",
   "execution_count": null,
   "metadata": {},
   "outputs": [],
   "source": []
  }
 ],
 "metadata": {
  "kernelspec": {
   "display_name": "Python 3",
   "language": "python",
   "name": "python3"
  },
  "language_info": {
   "codemirror_mode": {
    "name": "ipython",
    "version": 3
   },
   "file_extension": ".py",
   "mimetype": "text/x-python",
   "name": "python",
   "nbconvert_exporter": "python",
   "pygments_lexer": "ipython3",
   "version": "3.7.3"
  }
 },
 "nbformat": 4,
 "nbformat_minor": 4
}
