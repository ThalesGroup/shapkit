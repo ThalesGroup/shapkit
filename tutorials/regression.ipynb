{
 "cells": [
  {
   "cell_type": "code",
   "execution_count": 1,
   "metadata": {
    "inputHidden": false,
    "outputHidden": false
   },
   "outputs": [],
   "source": [
    "import numpy as np\n",
    "import pandas as pd\n",
    "import matplotlib.pyplot as plt\n",
    "%matplotlib inline\n",
    "import seaborn as sns\n",
    "\n",
    "from sklearn.model_selection import train_test_split\n",
    "\n",
    "from shapkit.shapley_values import ShapleyValues\n",
    "from shapkit.inspector import inspector\n",
    "from shapkit.monte_carlo_shapley import MonteCarloShapley\n",
    "from shapkit.sgd_shapley import SGDshapley\n",
    "from shapkit.plots import plot_shapley\n",
    "\n",
    "%load_ext autoreload\n",
    "%autoreload 2"
   ]
  },
  {
   "cell_type": "code",
   "execution_count": 2,
   "metadata": {},
   "outputs": [],
   "source": [
    "try:\n",
    "    from catboost import CatBoostRegressor, Pool\n",
    "except:\n",
    "    ! pip install catboost "
   ]
  },
  {
   "cell_type": "markdown",
   "metadata": {},
   "source": [
    "# Load dataset"
   ]
  },
  {
   "cell_type": "code",
   "execution_count": 3,
   "metadata": {
    "inputHidden": false,
    "outputHidden": false
   },
   "outputs": [
    {
     "data": {
      "text/html": [
       "<div>\n",
       "<style scoped>\n",
       "    .dataframe tbody tr th:only-of-type {\n",
       "        vertical-align: middle;\n",
       "    }\n",
       "\n",
       "    .dataframe tbody tr th {\n",
       "        vertical-align: top;\n",
       "    }\n",
       "\n",
       "    .dataframe thead th {\n",
       "        text-align: right;\n",
       "    }\n",
       "</style>\n",
       "<table border=\"1\" class=\"dataframe\">\n",
       "  <thead>\n",
       "    <tr style=\"text-align: right;\">\n",
       "      <th></th>\n",
       "      <th>season</th>\n",
       "      <th>mnth</th>\n",
       "      <th>hr</th>\n",
       "      <th>holiday</th>\n",
       "      <th>weekday</th>\n",
       "      <th>workingday</th>\n",
       "      <th>weathersit</th>\n",
       "      <th>temp</th>\n",
       "      <th>atemp</th>\n",
       "      <th>hum</th>\n",
       "      <th>windspeed</th>\n",
       "      <th>casual</th>\n",
       "      <th>registered</th>\n",
       "      <th>cnt</th>\n",
       "    </tr>\n",
       "  </thead>\n",
       "  <tbody>\n",
       "    <tr>\n",
       "      <th>0</th>\n",
       "      <td>1</td>\n",
       "      <td>1</td>\n",
       "      <td>0</td>\n",
       "      <td>0</td>\n",
       "      <td>6</td>\n",
       "      <td>0</td>\n",
       "      <td>1</td>\n",
       "      <td>0.24</td>\n",
       "      <td>0.2879</td>\n",
       "      <td>0.81</td>\n",
       "      <td>0.0</td>\n",
       "      <td>3</td>\n",
       "      <td>13</td>\n",
       "      <td>16</td>\n",
       "    </tr>\n",
       "    <tr>\n",
       "      <th>1</th>\n",
       "      <td>1</td>\n",
       "      <td>1</td>\n",
       "      <td>1</td>\n",
       "      <td>0</td>\n",
       "      <td>6</td>\n",
       "      <td>0</td>\n",
       "      <td>1</td>\n",
       "      <td>0.22</td>\n",
       "      <td>0.2727</td>\n",
       "      <td>0.80</td>\n",
       "      <td>0.0</td>\n",
       "      <td>8</td>\n",
       "      <td>32</td>\n",
       "      <td>40</td>\n",
       "    </tr>\n",
       "    <tr>\n",
       "      <th>2</th>\n",
       "      <td>1</td>\n",
       "      <td>1</td>\n",
       "      <td>2</td>\n",
       "      <td>0</td>\n",
       "      <td>6</td>\n",
       "      <td>0</td>\n",
       "      <td>1</td>\n",
       "      <td>0.22</td>\n",
       "      <td>0.2727</td>\n",
       "      <td>0.80</td>\n",
       "      <td>0.0</td>\n",
       "      <td>5</td>\n",
       "      <td>27</td>\n",
       "      <td>32</td>\n",
       "    </tr>\n",
       "  </tbody>\n",
       "</table>\n",
       "</div>"
      ],
      "text/plain": [
       "  season mnth hr holiday weekday workingday weathersit  temp   atemp   hum  \\\n",
       "0      1    1  0       0       6          0          1  0.24  0.2879  0.81   \n",
       "1      1    1  1       0       6          0          1  0.22  0.2727  0.80   \n",
       "2      1    1  2       0       6          0          1  0.22  0.2727  0.80   \n",
       "\n",
       "   windspeed  casual  registered  cnt  \n",
       "0        0.0       3          13   16  \n",
       "1        0.0       8          32   40  \n",
       "2        0.0       5          27   32  "
      ]
     },
     "execution_count": 3,
     "metadata": {},
     "output_type": "execute_result"
    }
   ],
   "source": [
    "df = pd.read_csv(\"../dataset/bike/hour.csv\")\n",
    "df = df.drop(columns=[\"instant\", \"dteday\", \"yr\"])\n",
    "cat_features = [\"season\", \"mnth\", \"hr\", \"holiday\", \"weekday\", \"workingday\", \"weathersit\"]\n",
    "df[cat_features] = df[cat_features].astype(\"str\")\n",
    "df.head(3)"
   ]
  },
  {
   "cell_type": "code",
   "execution_count": 4,
   "metadata": {
    "inputHidden": false,
    "outputHidden": false
   },
   "outputs": [],
   "source": [
    "target_names = 'cnt'\n",
    "columns = [col for col in df.columns if col != target_names]\n",
    "X = df[columns].copy()\n",
    "y = df[target_names].copy()"
   ]
  },
  {
   "cell_type": "code",
   "execution_count": 5,
   "metadata": {
    "inputHidden": false,
    "outputHidden": false
   },
   "outputs": [
    {
     "data": {
      "text/plain": [
       "(13, 8190)"
      ]
     },
     "execution_count": 5,
     "metadata": {},
     "output_type": "execute_result"
    }
   ],
   "source": [
    "d = X.shape[1]\n",
    "n = 2**d - 2\n",
    "d, n"
   ]
  },
  {
   "cell_type": "markdown",
   "metadata": {},
   "source": [
    "\n",
    "# Train a ML model"
   ]
  },
  {
   "cell_type": "code",
   "execution_count": 6,
   "metadata": {
    "inputHidden": false,
    "outputHidden": false
   },
   "outputs": [
    {
     "name": "stdout",
     "output_type": "stream",
     "text": [
      "0:\tlearn: 72.0079582\ttest: 68.8890183\tbest: 68.8890183 (0)\ttotal: 73.7ms\tremaining: 1m 13s\n",
      "100:\tlearn: 3.3868955\ttest: 4.0279568\tbest: 3.9496225 (95)\ttotal: 1.29s\tremaining: 11.5s\n",
      "200:\tlearn: 2.2990130\ttest: 3.3573326\tbest: 3.3573326 (200)\ttotal: 2.5s\tremaining: 9.94s\n",
      "300:\tlearn: 1.8800424\ttest: 3.2616370\tbest: 3.2345658 (291)\ttotal: 3.68s\tremaining: 8.54s\n",
      "400:\tlearn: 1.6002957\ttest: 3.1736670\tbest: 3.1580785 (393)\ttotal: 4.8s\tremaining: 7.18s\n",
      "500:\tlearn: 1.4201456\ttest: 3.1613384\tbest: 3.1245929 (474)\ttotal: 5.89s\tremaining: 5.87s\n",
      "600:\tlearn: 1.2939205\ttest: 3.1592655\tbest: 3.1245929 (474)\ttotal: 6.84s\tremaining: 4.54s\n",
      "700:\tlearn: 1.1926415\ttest: 3.1446594\tbest: 3.1245929 (474)\ttotal: 7.82s\tremaining: 3.33s\n",
      "800:\tlearn: 1.0794685\ttest: 3.1767016\tbest: 3.1245929 (474)\ttotal: 8.84s\tremaining: 2.2s\n",
      "900:\tlearn: 1.0107002\ttest: 3.1520059\tbest: 3.1245929 (474)\ttotal: 10.1s\tremaining: 1.11s\n",
      "999:\tlearn: 0.9582450\ttest: 3.1601631\tbest: 3.1245929 (474)\ttotal: 11.4s\tremaining: 0us\n",
      "\n",
      "bestTest = 3.124592859\n",
      "bestIteration = 474\n",
      "\n",
      "Shrink model to first 475 iterations.\n",
      "Test RMSE: 3.0\n"
     ]
    }
   ],
   "source": [
    "cat_features_index = [i for i, col in enumerate(X.columns) if col in cat_features]\n",
    "X_train, X_test, y_train, y_test = train_test_split(X, y,\n",
    "                                                    test_size=0.33,\n",
    "                                                    random_state=42)\n",
    "X_train, X_val, y_train, y_val = train_test_split(X_train, y_train,\n",
    "                                                  test_size=0.33,\n",
    "                                                  random_state=42)\n",
    "test_data = catboost_pool = Pool(X_test, y_test,\n",
    "                                 cat_features=cat_features_index)\n",
    "val_data = catboost_pool = Pool(X_val, y_val,\n",
    "                                cat_features=cat_features_index)\n",
    "model = CatBoostRegressor(iterations=1000, depth=3,\n",
    "                           learning_rate=1,\n",
    "                           loss_function='RMSE',\n",
    "                           verbose=100)\n",
    "# train the model\n",
    "model.fit(X_train, y_train,\n",
    "          cat_features=cat_features_index,\n",
    "          eval_set=val_data)\n",
    "\n",
    "# make the prediction using the resulting model\n",
    "preds = model.predict(test_data)\n",
    "rmse = np.sqrt(np.mean((preds - y_test)**2))\n",
    "print(\"Test RMSE: {0:.2}\".format(rmse))"
   ]
  },
  {
   "cell_type": "markdown",
   "metadata": {},
   "source": [
    "# Define the reward function"
   ]
  },
  {
   "cell_type": "code",
   "execution_count": 7,
   "metadata": {},
   "outputs": [],
   "source": [
    "fc = lambda x: model.predict(x)"
   ]
  },
  {
   "cell_type": "markdown",
   "metadata": {},
   "source": [
    "# Pick an individual x to explain"
   ]
  },
  {
   "cell_type": "code",
   "execution_count": 8,
   "metadata": {},
   "outputs": [
    {
     "name": "stdout",
     "output_type": "stream",
     "text": [
      "season             2\n",
      "mnth               6\n",
      "hr                17\n",
      "holiday            0\n",
      "weekday            4\n",
      "workingday         1\n",
      "weathersit         1\n",
      "temp             0.9\n",
      "atemp         0.8182\n",
      "hum             0.37\n",
      "windspeed     0.2537\n",
      "casual            54\n",
      "registered       355\n",
      "Name: 3739, dtype: object\n",
      "\n",
      "Prediction for x: 406\n"
     ]
    }
   ],
   "source": [
    "x = X_test.iloc[np.random.choice(len(X_test), size=1)[0],:]\n",
    "print(x)\n",
    "print()\n",
    "print(\"Prediction for x: {0:.0f}\".format(model.predict(x.values)))"
   ]
  },
  {
   "cell_type": "markdown",
   "metadata": {},
   "source": [
    "# Single reference"
   ]
  },
  {
   "cell_type": "code",
   "execution_count": 9,
   "metadata": {},
   "outputs": [
    {
     "name": "stdout",
     "output_type": "stream",
     "text": [
      "season             4\n",
      "mnth               9\n",
      "hr                 2\n",
      "holiday            0\n",
      "weekday            5\n",
      "workingday         1\n",
      "weathersit         3\n",
      "temp             0.6\n",
      "atemp         0.5455\n",
      "hum             0.88\n",
      "windspeed     0.2985\n",
      "casual             1\n",
      "registered         9\n",
      "Name: 15141, dtype: object\n",
      "\n",
      "Prediction for this reference: 10\n"
     ]
    }
   ],
   "source": [
    "reference = X_train.iloc[np.random.choice(len(X_train), size=1)[0],:]\n",
    "print(reference)\n",
    "print()\n",
    "print(\"Prediction for this reference: {0:.0f}\".format(model.predict(reference.values)))"
   ]
  },
  {
   "cell_type": "markdown",
   "metadata": {},
   "source": [
    "# Exact Shapley Values"
   ]
  },
  {
   "cell_type": "code",
   "execution_count": 10,
   "metadata": {
    "inputHidden": false,
    "outputHidden": false
   },
   "outputs": [
    {
     "name": "stderr",
     "output_type": "stream",
     "text": [
      "100%|██████████| 13/13 [01:52<00:00,  8.63s/it]\n"
     ]
    }
   ],
   "source": [
    "true_shap = ShapleyValues(x=x, fc=fc, ref=reference)"
   ]
  },
  {
   "cell_type": "code",
   "execution_count": 11,
   "metadata": {},
   "outputs": [
    {
     "data": {
      "text/plain": [
       "season         -0.075781\n",
       "mnth            0.266232\n",
       "hr              0.536660\n",
       "holiday         0.000000\n",
       "weekday        -0.534814\n",
       "workingday      0.000000\n",
       "weathersit     -0.154479\n",
       "temp           -0.481732\n",
       "atemp           1.202777\n",
       "hum            -0.471824\n",
       "windspeed      -0.101771\n",
       "casual         53.680650\n",
       "registered    341.897188\n",
       "dtype: float64"
      ]
     },
     "execution_count": 11,
     "metadata": {},
     "output_type": "execute_result"
    }
   ],
   "source": [
    "true_shap"
   ]
  },
  {
   "cell_type": "markdown",
   "metadata": {},
   "source": [
    "# Approximation methods"
   ]
  },
  {
   "cell_type": "markdown",
   "metadata": {},
   "source": [
    "## Monte Carlo "
   ]
  },
  {
   "cell_type": "code",
   "execution_count": 12,
   "metadata": {
    "inputHidden": false,
    "outputHidden": false
   },
   "outputs": [
    {
     "name": "stderr",
     "output_type": "stream",
     "text": [
      "  1%|          | 6/1000 [00:00<00:17, 57.60it/s]"
     ]
    },
    {
     "name": "stdout",
     "output_type": "stream",
     "text": [
      "new dimension 11\n"
     ]
    },
    {
     "name": "stderr",
     "output_type": "stream",
     "text": [
      "100%|██████████| 1000/1000 [00:13<00:00, 76.12it/s]\n"
     ]
    },
    {
     "data": {
      "text/plain": [
       "season         -0.099420\n",
       "mnth            0.261289\n",
       "hr              0.546706\n",
       "holiday         0.000000\n",
       "weekday        -0.541990\n",
       "workingday      0.000000\n",
       "weathersit     -0.152011\n",
       "temp           -0.471143\n",
       "atemp           1.232937\n",
       "hum            -0.451269\n",
       "windspeed      -0.101771\n",
       "casual         53.682976\n",
       "registered    341.856801\n",
       "dtype: float64"
      ]
     },
     "execution_count": 12,
     "metadata": {},
     "output_type": "execute_result"
    }
   ],
   "source": [
    "mc_shap = MonteCarloShapley(x=x, fc=fc, ref=reference, n_iter=1000)\n",
    "mc_shap"
   ]
  },
  {
   "cell_type": "markdown",
   "metadata": {},
   "source": [
    "## SGD"
   ]
  },
  {
   "cell_type": "code",
   "execution_count": 13,
   "metadata": {
    "inputHidden": false,
    "outputHidden": false
   },
   "outputs": [
    {
     "name": "stderr",
     "output_type": "stream",
     "text": [
      "100%|██████████| 5000/5000 [00:04<00:00, 1084.89it/s]\n"
     ]
    },
    {
     "data": {
      "text/plain": [
       "season          0.845042\n",
       "mnth           -1.484094\n",
       "hr              0.994556\n",
       "holiday         0.305818\n",
       "weekday        -0.201076\n",
       "workingday      0.732353\n",
       "weathersit     -0.004385\n",
       "temp            1.093825\n",
       "atemp           2.171227\n",
       "hum             0.379495\n",
       "windspeed       0.550705\n",
       "casual         55.144499\n",
       "registered    335.235140\n",
       "dtype: float64"
      ]
     },
     "execution_count": 13,
     "metadata": {},
     "output_type": "execute_result"
    }
   ],
   "source": [
    "sgd_est = SGDshapley(d, C=y.max())\n",
    "sgd_shap = sgd_est.sgd(x=x, fc=fc, ref=reference, n_iter=5000, step=.1, step_type=\"sqrt\")\n",
    "sgd_shap"
   ]
  },
  {
   "cell_type": "markdown",
   "metadata": {},
   "source": [
    "# Plot "
   ]
  },
  {
   "cell_type": "code",
   "execution_count": 14,
   "metadata": {},
   "outputs": [
    {
     "data": {
      "image/png": "[encoded data removed]",
      "text/plain": [
       "<Figure size 864x504 with 1 Axes>"
      ]
     },
     "metadata": {
      "needs_background": "light"
     },
     "output_type": "display_data"
    }
   ],
   "source": [
    "plot_shapley(x=x, fc=fc, ref=reference, shapley_values=true_shap, n_attributes=5)"
   ]
  },
  {
   "cell_type": "markdown",
   "metadata": {},
   "source": [
    "# Several references "
   ]
  },
  {
   "cell_type": "code",
   "execution_count": 15,
   "metadata": {},
   "outputs": [
    {
     "data": {
      "text/html": [
       "<div>\n",
       "<style scoped>\n",
       "    .dataframe tbody tr th:only-of-type {\n",
       "        vertical-align: middle;\n",
       "    }\n",
       "\n",
       "    .dataframe tbody tr th {\n",
       "        vertical-align: top;\n",
       "    }\n",
       "\n",
       "    .dataframe thead th {\n",
       "        text-align: right;\n",
       "    }\n",
       "</style>\n",
       "<table border=\"1\" class=\"dataframe\">\n",
       "  <thead>\n",
       "    <tr style=\"text-align: right;\">\n",
       "      <th></th>\n",
       "      <th>season</th>\n",
       "      <th>mnth</th>\n",
       "      <th>hr</th>\n",
       "      <th>holiday</th>\n",
       "      <th>weekday</th>\n",
       "      <th>workingday</th>\n",
       "      <th>weathersit</th>\n",
       "      <th>temp</th>\n",
       "      <th>atemp</th>\n",
       "      <th>hum</th>\n",
       "      <th>windspeed</th>\n",
       "      <th>casual</th>\n",
       "      <th>registered</th>\n",
       "    </tr>\n",
       "  </thead>\n",
       "  <tbody>\n",
       "    <tr>\n",
       "      <th>4940</th>\n",
       "      <td>3</td>\n",
       "      <td>7</td>\n",
       "      <td>18</td>\n",
       "      <td>0</td>\n",
       "      <td>5</td>\n",
       "      <td>1</td>\n",
       "      <td>1</td>\n",
       "      <td>0.92</td>\n",
       "      <td>0.8636</td>\n",
       "      <td>0.37</td>\n",
       "      <td>0.3284</td>\n",
       "      <td>49</td>\n",
       "      <td>313</td>\n",
       "    </tr>\n",
       "    <tr>\n",
       "      <th>2317</th>\n",
       "      <td>2</td>\n",
       "      <td>4</td>\n",
       "      <td>11</td>\n",
       "      <td>0</td>\n",
       "      <td>1</td>\n",
       "      <td>1</td>\n",
       "      <td>2</td>\n",
       "      <td>0.60</td>\n",
       "      <td>0.5909</td>\n",
       "      <td>0.73</td>\n",
       "      <td>0.2985</td>\n",
       "      <td>45</td>\n",
       "      <td>59</td>\n",
       "    </tr>\n",
       "    <tr>\n",
       "      <th>12567</th>\n",
       "      <td>2</td>\n",
       "      <td>6</td>\n",
       "      <td>20</td>\n",
       "      <td>0</td>\n",
       "      <td>2</td>\n",
       "      <td>1</td>\n",
       "      <td>1</td>\n",
       "      <td>0.68</td>\n",
       "      <td>0.6364</td>\n",
       "      <td>0.83</td>\n",
       "      <td>0.1940</td>\n",
       "      <td>36</td>\n",
       "      <td>350</td>\n",
       "    </tr>\n",
       "    <tr>\n",
       "      <th>9513</th>\n",
       "      <td>1</td>\n",
       "      <td>2</td>\n",
       "      <td>8</td>\n",
       "      <td>0</td>\n",
       "      <td>1</td>\n",
       "      <td>1</td>\n",
       "      <td>1</td>\n",
       "      <td>0.16</td>\n",
       "      <td>0.1818</td>\n",
       "      <td>0.86</td>\n",
       "      <td>0.1343</td>\n",
       "      <td>10</td>\n",
       "      <td>434</td>\n",
       "    </tr>\n",
       "    <tr>\n",
       "      <th>3899</th>\n",
       "      <td>2</td>\n",
       "      <td>6</td>\n",
       "      <td>9</td>\n",
       "      <td>0</td>\n",
       "      <td>4</td>\n",
       "      <td>1</td>\n",
       "      <td>2</td>\n",
       "      <td>0.62</td>\n",
       "      <td>0.6061</td>\n",
       "      <td>0.65</td>\n",
       "      <td>0.1940</td>\n",
       "      <td>29</td>\n",
       "      <td>232</td>\n",
       "    </tr>\n",
       "  </tbody>\n",
       "</table>\n",
       "</div>"
      ],
      "text/plain": [
       "      season mnth  hr holiday weekday workingday weathersit  temp   atemp  \\\n",
       "4940       3    7  18       0       5          1          1  0.92  0.8636   \n",
       "2317       2    4  11       0       1          1          2  0.60  0.5909   \n",
       "12567      2    6  20       0       2          1          1  0.68  0.6364   \n",
       "9513       1    2   8       0       1          1          1  0.16  0.1818   \n",
       "3899       2    6   9       0       4          1          2  0.62  0.6061   \n",
       "\n",
       "        hum  windspeed  casual  registered  \n",
       "4940   0.37     0.3284      49         313  \n",
       "2317   0.73     0.2985      45          59  \n",
       "12567  0.83     0.1940      36         350  \n",
       "9513   0.86     0.1343      10         434  \n",
       "3899   0.65     0.1940      29         232  "
      ]
     },
     "execution_count": 15,
     "metadata": {},
     "output_type": "execute_result"
    }
   ],
   "source": [
    "n_ref = 100\n",
    "idx_ref = np.random.choice(X_train.shape[0], size=n_ref, replace=False).flatten()\n",
    "references = X_train.iloc[idx_ref]\n",
    "references.head(5)"
   ]
  },
  {
   "cell_type": "markdown",
   "metadata": {},
   "source": [
    "# Approximation methods"
   ]
  },
  {
   "cell_type": "markdown",
   "metadata": {},
   "source": [
    "## Monte Carlo "
   ]
  },
  {
   "cell_type": "code",
   "execution_count": 16,
   "metadata": {
    "inputHidden": false,
    "outputHidden": false
   },
   "outputs": [
    {
     "name": "stderr",
     "output_type": "stream",
     "text": [
      "100%|██████████| 10000/10000 [01:59<00:00, 83.91it/s]\n"
     ]
    },
    {
     "data": {
      "text/plain": [
       "season         -0.141238\n",
       "mnth            0.305030\n",
       "hr              0.385498\n",
       "holiday        -0.000457\n",
       "weekday        -0.050993\n",
       "workingday      0.000000\n",
       "weathersit     -0.025006\n",
       "temp           -0.492004\n",
       "atemp           0.983451\n",
       "hum            -0.509046\n",
       "windspeed      -0.198035\n",
       "casual         20.524242\n",
       "registered    184.994383\n",
       "dtype: float64"
      ]
     },
     "execution_count": 16,
     "metadata": {},
     "output_type": "execute_result"
    }
   ],
   "source": [
    "mc_shaps = MonteCarloShapley(x=x, fc=fc, ref=references, n_iter=10000)\n",
    "mc_shaps"
   ]
  },
  {
   "cell_type": "markdown",
   "metadata": {},
   "source": [
    "# Plots"
   ]
  },
  {
   "cell_type": "code",
   "execution_count": 17,
   "metadata": {},
   "outputs": [
    {
     "data": {
      "image/png": "[encoded data removed]",
      "text/plain": [
       "<Figure size 864x504 with 1 Axes>"
      ]
     },
     "metadata": {
      "needs_background": "light"
     },
     "output_type": "display_data"
    }
   ],
   "source": [
    "plot_shapley(x=x, fc=fc, ref=references, shapley_values=mc_shaps, n_attributes=10)"
   ]
  }
 ],
 "metadata": {
  "kernelspec": {
   "display_name": "Python 3",
   "language": "python",
   "name": "python3"
  },
  "language_info": {
   "codemirror_mode": {
    "name": "ipython",
    "version": 3
   },
   "file_extension": ".py",
   "mimetype": "text/x-python",
   "name": "python",
   "nbconvert_exporter": "python",
   "pygments_lexer": "ipython3",
   "version": "3.7.3"
  }
 },
 "nbformat": 4,
 "nbformat_minor": 4
}
