{
 "cells": [
  {
   "cell_type": "code",
   "execution_count": 1,
   "metadata": {
    "inputHidden": false,
    "outputHidden": false
   },
   "outputs": [],
   "source": [
    "import numpy as np\n",
    "import pandas as pd\n",
    "import matplotlib.pyplot as plt\n",
    "%matplotlib inline\n",
    "\n",
    "from sklearn.datasets import fetch_20newsgroups\n",
    "from sklearn.naive_bayes import MultinomialNB\n",
    "from sklearn import metrics\n",
    "from sklearn.feature_extraction.text import CountVectorizer\n",
    "from sklearn.feature_extraction.text import TfidfTransformer\n",
    "from sklearn.pipeline import Pipeline\n",
    "\n",
    "from shapkit.shapley_values import ShapleyValues\n",
    "from shapkit.inspector import inspector\n",
    "from shapkit.monte_carlo_shapley import MonteCarloShapley\n",
    "from shapkit.sgd_shapley import SGDshapley\n",
    "\n",
    "%load_ext autoreload\n",
    "%autoreload 2"
   ]
  },
  {
   "cell_type": "markdown",
   "metadata": {},
   "source": [
    "# Load dataset"
   ]
  },
  {
   "cell_type": "code",
   "execution_count": 2,
   "metadata": {},
   "outputs": [
    {
     "name": "stdout",
     "output_type": "stream",
     "text": [
      "Loading 20 newsgroups dataset for categories:\n",
      "['rec.autos', 'sci.med']\n",
      "1188 documents\n",
      "2 categories\n",
      "\n"
     ]
    }
   ],
   "source": [
    "categories = [\n",
    "    'rec.autos',\n",
    "    'sci.med',\n",
    "]\n",
    "\n",
    "# Uncomment the following to do the analysis on all the categories\n",
    "#categories = None\n",
    "\n",
    "print(\"Loading 20 newsgroups dataset for categories:\")\n",
    "print(categories)\n",
    "\n",
    "newsgroups_train = fetch_20newsgroups(subset='train', categories=categories, remove=('headers', 'footers', 'quotes'))\n",
    "print(\"%d documents\" % len(newsgroups_train.filenames))\n",
    "print(\"%d categories\" % len(newsgroups_train.target_names))\n",
    "print()"
   ]
  },
  {
   "cell_type": "code",
   "execution_count": 3,
   "metadata": {},
   "outputs": [
    {
     "data": {
      "text/html": [
       "<div>\n",
       "<style scoped>\n",
       "    .dataframe tbody tr th:only-of-type {\n",
       "        vertical-align: middle;\n",
       "    }\n",
       "\n",
       "    .dataframe tbody tr th {\n",
       "        vertical-align: top;\n",
       "    }\n",
       "\n",
       "    .dataframe thead th {\n",
       "        text-align: right;\n",
       "    }\n",
       "</style>\n",
       "<table border=\"1\" class=\"dataframe\">\n",
       "  <thead>\n",
       "    <tr style=\"text-align: right;\">\n",
       "      <th></th>\n",
       "      <th>00</th>\n",
       "      <th>000</th>\n",
       "      <th>0000</th>\n",
       "      <th>00014</th>\n",
       "      <th>000mi</th>\n",
       "      <th>000miles</th>\n",
       "      <th>0010</th>\n",
       "      <th>0033</th>\n",
       "      <th>004021809</th>\n",
       "      <th>00500</th>\n",
       "      <th>...</th>\n",
       "      <th>zimmerman</th>\n",
       "      <th>zinc</th>\n",
       "      <th>zip</th>\n",
       "      <th>zoloft</th>\n",
       "      <th>zonal</th>\n",
       "      <th>zooid</th>\n",
       "      <th>zubkoff</th>\n",
       "      <th>zx</th>\n",
       "      <th>zz</th>\n",
       "      <th>zzz</th>\n",
       "    </tr>\n",
       "  </thead>\n",
       "  <tbody>\n",
       "    <tr>\n",
       "      <th>0</th>\n",
       "      <td>0</td>\n",
       "      <td>0</td>\n",
       "      <td>0</td>\n",
       "      <td>0</td>\n",
       "      <td>0</td>\n",
       "      <td>0</td>\n",
       "      <td>0</td>\n",
       "      <td>0</td>\n",
       "      <td>0</td>\n",
       "      <td>0</td>\n",
       "      <td>...</td>\n",
       "      <td>0</td>\n",
       "      <td>0</td>\n",
       "      <td>0</td>\n",
       "      <td>0</td>\n",
       "      <td>0</td>\n",
       "      <td>0</td>\n",
       "      <td>0</td>\n",
       "      <td>0</td>\n",
       "      <td>0</td>\n",
       "      <td>0</td>\n",
       "    </tr>\n",
       "    <tr>\n",
       "      <th>1</th>\n",
       "      <td>0</td>\n",
       "      <td>0</td>\n",
       "      <td>0</td>\n",
       "      <td>0</td>\n",
       "      <td>0</td>\n",
       "      <td>0</td>\n",
       "      <td>0</td>\n",
       "      <td>0</td>\n",
       "      <td>0</td>\n",
       "      <td>0</td>\n",
       "      <td>...</td>\n",
       "      <td>0</td>\n",
       "      <td>0</td>\n",
       "      <td>0</td>\n",
       "      <td>0</td>\n",
       "      <td>0</td>\n",
       "      <td>0</td>\n",
       "      <td>0</td>\n",
       "      <td>0</td>\n",
       "      <td>0</td>\n",
       "      <td>0</td>\n",
       "    </tr>\n",
       "    <tr>\n",
       "      <th>2</th>\n",
       "      <td>0</td>\n",
       "      <td>0</td>\n",
       "      <td>0</td>\n",
       "      <td>0</td>\n",
       "      <td>0</td>\n",
       "      <td>0</td>\n",
       "      <td>0</td>\n",
       "      <td>0</td>\n",
       "      <td>0</td>\n",
       "      <td>0</td>\n",
       "      <td>...</td>\n",
       "      <td>0</td>\n",
       "      <td>0</td>\n",
       "      <td>0</td>\n",
       "      <td>0</td>\n",
       "      <td>0</td>\n",
       "      <td>0</td>\n",
       "      <td>0</td>\n",
       "      <td>0</td>\n",
       "      <td>0</td>\n",
       "      <td>0</td>\n",
       "    </tr>\n",
       "  </tbody>\n",
       "</table>\n",
       "<p>3 rows × 17863 columns</p>\n",
       "</div>"
      ],
      "text/plain": [
       "   00  000  0000  00014  000mi  000miles  0010  0033  004021809  00500  ...  \\\n",
       "0   0    0     0      0      0         0     0     0          0      0  ...   \n",
       "1   0    0     0      0      0         0     0     0          0      0  ...   \n",
       "2   0    0     0      0      0         0     0     0          0      0  ...   \n",
       "\n",
       "   zimmerman  zinc  zip  zoloft  zonal  zooid  zubkoff  zx  zz  zzz  \n",
       "0          0     0    0       0      0      0        0   0   0    0  \n",
       "1          0     0    0       0      0      0        0   0   0    0  \n",
       "2          0     0    0       0      0      0        0   0   0    0  \n",
       "\n",
       "[3 rows x 17863 columns]"
      ]
     },
     "execution_count": 3,
     "metadata": {},
     "output_type": "execute_result"
    }
   ],
   "source": [
    "count_vect = CountVectorizer()\n",
    "X_train = np.array(count_vect.fit_transform(newsgroups_train.data).todense())\n",
    "word_columns = ['']*len(count_vect.vocabulary_)\n",
    "for word, idx in count_vect.vocabulary_.items():\n",
    "    word_columns[idx] = word\n",
    "X_train = pd.DataFrame(X_train, columns=word_columns)\n",
    "y_train = newsgroups_train.target\n",
    "X_train.head(3)"
   ]
  },
  {
   "cell_type": "code",
   "execution_count": 4,
   "metadata": {},
   "outputs": [],
   "source": [
    "newsgroups_test = fetch_20newsgroups(subset='test', categories=categories, remove=('headers', 'footers', 'quotes'))\n",
    "X_test = np.array(count_vect.transform(newsgroups_test.data).todense())\n",
    "X_test = pd.DataFrame(X_test, columns=word_columns)\n",
    "y_test = newsgroups_test.target"
   ]
  },
  {
   "cell_type": "markdown",
   "metadata": {},
   "source": [
    "\n",
    "# Train a ML model"
   ]
  },
  {
   "cell_type": "code",
   "execution_count": 5,
   "metadata": {},
   "outputs": [
    {
     "data": {
      "text/plain": [
       "0.9418658088235294"
      ]
     },
     "execution_count": 5,
     "metadata": {},
     "output_type": "execute_result"
    }
   ],
   "source": [
    "pipeline = Pipeline([\n",
    "    ('tfidf', TfidfTransformer()),\n",
    "    ('clf', MultinomialNB(alpha=.01)),\n",
    "])\n",
    "pipeline.fit(X_train, y_train)\n",
    "\n",
    "pred = pipeline.predict(X_test)\n",
    "metrics.f1_score(y_test, pred, average='macro')"
   ]
  },
  {
   "cell_type": "markdown",
   "metadata": {},
   "source": [
    "# Define the game"
   ]
  },
  {
   "cell_type": "code",
   "execution_count": 6,
   "metadata": {
    "inputHidden": false,
    "outputHidden": false
   },
   "outputs": [],
   "source": [
    "d = X_train.shape[1]\n",
    "n = 2**d - 2"
   ]
  },
  {
   "cell_type": "code",
   "execution_count": 7,
   "metadata": {},
   "outputs": [],
   "source": [
    "fc = lambda x: int(pipeline.predict(x.reshape(1,-1)))"
   ]
  },
  {
   "cell_type": "code",
   "execution_count": 8,
   "metadata": {},
   "outputs": [],
   "source": [
    "r_class, x_class = 0, 0\n",
    "while x_class == r_class:\n",
    "    idx_r, idx_x = np.random.choice(np.arange(len(X_test)), size=2, replace=False)\n",
    "    r = X_test.iloc[idx_r,:]\n",
    "    x = X_test.iloc[idx_x,:]\n",
    "    r_class = fc(r.values)\n",
    "    x_class = fc(x.values)\n",
    "fc_class = lambda x: 1 if int(fc(x)) == int(x_class) else 0"
   ]
  },
  {
   "cell_type": "code",
   "execution_count": 9,
   "metadata": {},
   "outputs": [
    {
     "name": "stdout",
     "output_type": "stream",
     "text": [
      "00         0\n",
      "000        0\n",
      "0000       0\n",
      "00014      0\n",
      "000mi      0\n",
      "          ..\n",
      "zooid      0\n",
      "zubkoff    0\n",
      "zx         0\n",
      "zz         0\n",
      "zzz        0\n",
      "Name: 79, Length: 17863, dtype: int64\n",
      "\n",
      "Class Prediction for r: rec.autos\n",
      "Real class for r: rec.autos\n",
      "\n",
      "RAW TEXT\n"
     ]
    },
    {
     "data": {
      "text/plain": [
       "\"\\nI am the original owner of the seats and the original poster. \\nI take VERY serious offence in your statement. \\nI see a lot of computers advertized on the net, and my friend just had been\\nreleived of his machine = all the net-computer ads are for stolen computers?\\nWhere did you learn logic?\\n\\nAs for the seats, they were replaced by a much harder (literally) Celica GTS\\nseats due to my back problem. That is why I had to reuse the MR2 brackets\\nand that's why the MR2 seats I sell are attached to Celica brackets.\""
      ]
     },
     "execution_count": 9,
     "metadata": {},
     "output_type": "execute_result"
    }
   ],
   "source": [
    "print(r)\n",
    "print()\n",
    "print(\"Class Prediction for r: {0}\".format(newsgroups_train.target_names[fc(r.values)]))\n",
    "print(\"Real class for r: {0}\".format(newsgroups_train.target_names[y_test[idx_r]]))\n",
    "print()\n",
    "print(\"RAW TEXT\")\n",
    "newsgroups_test.data[idx_r]"
   ]
  },
  {
   "cell_type": "code",
   "execution_count": 10,
   "metadata": {},
   "outputs": [
    {
     "name": "stdout",
     "output_type": "stream",
     "text": [
      "00         0\n",
      "000        0\n",
      "0000       0\n",
      "00014      0\n",
      "000mi      0\n",
      "          ..\n",
      "zooid      0\n",
      "zubkoff    0\n",
      "zx         0\n",
      "zz         0\n",
      "zzz        0\n",
      "Name: 659, Length: 17863, dtype: int64\n",
      "\n",
      "Class Prediction for x: sci.med\n",
      "Real class for x: sci.med\n",
      "RAW TEXT\n"
     ]
    },
    {
     "data": {
      "text/plain": [
       "'hi all, Ive applied for the class of 93 at quite a number of schools (20)\\nand have gotten 13 rejects, 4 interviews and 3 no responses.\\nAny one know when the heck these people send out their acceptance letters?\\nAccording to the med school admissions book theyre supposed to send out\\nthe number of their class in acceptances by mid March. Whats going on... I\\nam losing my sanity checking my mailbox every day.\\n\\nAlso does anyone have some useful alternatives in case i dont get in, i\\nkind of looked into Chiropractic and Podiatry but they really dont\\ninterest me. Thanks.\\n'"
      ]
     },
     "execution_count": 10,
     "metadata": {},
     "output_type": "execute_result"
    }
   ],
   "source": [
    "print(x)\n",
    "print()\n",
    "print(\"Class Prediction for x: {0}\".format(newsgroups_train.target_names[fc(x.values)]))\n",
    "print(\"Real class for x: {0}\".format(newsgroups_train.target_names[y_test[idx_x]]))\n",
    "print(\"RAW TEXT\")\n",
    "newsgroups_test.data[idx_x]"
   ]
  },
  {
   "cell_type": "markdown",
   "metadata": {},
   "source": [
    "# Approximation methods"
   ]
  },
  {
   "cell_type": "markdown",
   "metadata": {},
   "source": [
    "## Monte Carlo "
   ]
  },
  {
   "cell_type": "code",
   "execution_count": 11,
   "metadata": {
    "inputHidden": false,
    "outputHidden": false
   },
   "outputs": [
    {
     "name": "stderr",
     "output_type": "stream",
     "text": [
      "  0%|          | 0/100 [00:00<?, ?it/s]"
     ]
    },
    {
     "name": "stdout",
     "output_type": "stream",
     "text": [
      "new dimension 111\n"
     ]
    },
    {
     "name": "stderr",
     "output_type": "stream",
     "text": [
      "100%|██████████| 100/100 [00:56<00:00,  1.77it/s]\n"
     ]
    },
    {
     "data": {
      "text/plain": [
       "00         0.0\n",
       "000        0.0\n",
       "0000       0.0\n",
       "00014      0.0\n",
       "000mi      0.0\n",
       "          ... \n",
       "zooid      0.0\n",
       "zubkoff    0.0\n",
       "zx         0.0\n",
       "zz         0.0\n",
       "zzz        0.0\n",
       "Length: 17863, dtype: float64"
      ]
     },
     "execution_count": 11,
     "metadata": {},
     "output_type": "execute_result"
    }
   ],
   "source": [
    "mc_shap = MonteCarloShapley(x=x, fc=fc_class, ref=r, n_iter=100)\n",
    "mc_shap"
   ]
  },
  {
   "cell_type": "code",
   "execution_count": 12,
   "metadata": {},
   "outputs": [
    {
     "data": {
      "text/plain": [
       "seats           0.33\n",
       "mr2             0.27\n",
       "celica          0.13\n",
       "podiatry        0.09\n",
       "sell            0.09\n",
       "stolen          0.08\n",
       "med             0.07\n",
       "losing          0.07\n",
       "replaced        0.06\n",
       "chiropractic    0.06\n",
       "march           0.06\n",
       "acceptance      0.05\n",
       "statement       0.05\n",
       "owner           0.04\n",
       "schools         0.04\n",
       "gotten          0.03\n",
       "admissions      0.02\n",
       "applied         0.02\n",
       "interest        0.01\n",
       "back            0.01\n",
       "letters         0.01\n",
       "13              0.01\n",
       "alternatives    0.01\n",
       "lot             0.01\n",
       "case            0.01\n",
       "rejects         0.01\n",
       "school          0.01\n",
       "book            0.01\n",
       "any            -0.01\n",
       "also           -0.01\n",
       "checking       -0.01\n",
       "literally      -0.01\n",
       "due            -0.01\n",
       "going          -0.01\n",
       "net            -0.01\n",
       "out            -0.01\n",
       "send           -0.01\n",
       "class          -0.02\n",
       "poster         -0.02\n",
       "93             -0.02\n",
       "attached       -0.03\n",
       "reuse          -0.04\n",
       "logic          -0.07\n",
       "mid            -0.07\n",
       "whats          -0.07\n",
       "computers      -0.10\n",
       "dont           -0.13\n",
       "dtype: float64"
      ]
     },
     "execution_count": 12,
     "metadata": {},
     "output_type": "execute_result"
    }
   ],
   "source": [
    "mc_shap[mc_shap != 0].sort_values(ascending=False)"
   ]
  },
  {
   "cell_type": "code",
   "execution_count": 13,
   "metadata": {},
   "outputs": [
    {
     "data": {
      "text/plain": [
       "seats = 0           0.33\n",
       "mr2 = 0             0.27\n",
       "celica = 0          0.13\n",
       "podiatry = 1        0.09\n",
       "sell = 0            0.09\n",
       "stolen = 0          0.08\n",
       "med = 1             0.07\n",
       "losing = 1          0.07\n",
       "replaced = 0        0.06\n",
       "chiropractic = 1    0.06\n",
       "march = 1           0.06\n",
       "acceptance = 1      0.05\n",
       "statement = 0       0.05\n",
       "owner = 0           0.04\n",
       "schools = 1         0.04\n",
       "gotten = 1          0.03\n",
       "admissions = 1      0.02\n",
       "applied = 1         0.02\n",
       "interest = 1        0.01\n",
       "back = 0            0.01\n",
       "letters = 1         0.01\n",
       "13 = 1              0.01\n",
       "alternatives = 1    0.01\n",
       "lot = 0             0.01\n",
       "case = 1            0.01\n",
       "rejects = 1         0.01\n",
       "school = 1          0.01\n",
       "book = 1            0.01\n",
       "any = 1            -0.01\n",
       "also = 1           -0.01\n",
       "checking = 1       -0.01\n",
       "literally = 0      -0.01\n",
       "due = 0            -0.01\n",
       "going = 1          -0.01\n",
       "net = 0            -0.01\n",
       "out = 2            -0.01\n",
       "send = 2           -0.01\n",
       "class = 2          -0.02\n",
       "poster = 0         -0.02\n",
       "93 = 1             -0.02\n",
       "attached = 0       -0.03\n",
       "reuse = 0          -0.04\n",
       "logic = 0          -0.07\n",
       "mid = 1            -0.07\n",
       "whats = 1          -0.07\n",
       "computers = 0      -0.10\n",
       "dont = 2           -0.13\n",
       "dtype: float64"
      ]
     },
     "execution_count": 13,
     "metadata": {},
     "output_type": "execute_result"
    }
   ],
   "source": [
    "x_attributes = []\n",
    "for index, val in x[mc_shap.index].iteritems():\n",
    "    x_attributes.append(index + \" = \"+str(val))\n",
    "\n",
    "mc_shap_attr = pd.Series(mc_shap.values, index=x_attributes)\n",
    "mc_shap_attr[mc_shap_attr != 0].sort_values(ascending=False)"
   ]
  },
  {
   "cell_type": "code",
   "execution_count": null,
   "metadata": {},
   "outputs": [],
   "source": []
  }
 ],
 "metadata": {
  "kernelspec": {
   "display_name": "Python 3",
   "language": "python",
   "name": "python3"
  },
  "language_info": {
   "codemirror_mode": {
    "name": "ipython",
    "version": 3
   },
   "file_extension": ".py",
   "mimetype": "text/x-python",
   "name": "python",
   "nbconvert_exporter": "python",
   "pygments_lexer": "ipython3",
   "version": "3.7.3"
  }
 },
 "nbformat": 4,
 "nbformat_minor": 4
}
