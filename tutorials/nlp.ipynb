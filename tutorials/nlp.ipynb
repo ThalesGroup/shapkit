{
 "cells": [
  {
   "cell_type": "code",
   "execution_count": 1,
   "metadata": {
    "inputHidden": false,
    "outputHidden": false
   },
   "outputs": [],
   "source": [
    "import numpy as np\n",
    "import pandas as pd\n",
    "import matplotlib.pyplot as plt\n",
    "%matplotlib inline\n",
    "\n",
    "from sklearn.datasets import fetch_20newsgroups\n",
    "from sklearn.naive_bayes import MultinomialNB\n",
    "from sklearn import metrics\n",
    "from sklearn.feature_extraction.text import CountVectorizer\n",
    "from sklearn.feature_extraction.text import TfidfTransformer\n",
    "from sklearn.pipeline import Pipeline\n",
    "\n",
    "from shapkit_nbdev.shapley_values import ShapleyValues\n",
    "from shapkit_nbdev.inspector import inspector\n",
    "from shapkit_nbdev.monte_carlo_shapley import MonteCarloShapley\n",
    "from shapkit_nbdev.sgd_shapley import SGDshapley\n",
    "\n",
    "%load_ext autoreload\n",
    "%autoreload 2"
   ]
  },
  {
   "cell_type": "markdown",
   "metadata": {},
   "source": [
    "# Load dataset"
   ]
  },
  {
   "cell_type": "code",
   "execution_count": 2,
   "metadata": {},
   "outputs": [
    {
     "name": "stdout",
     "output_type": "stream",
     "text": [
      "Loading 20 newsgroups dataset for categories:\n",
      "['rec.autos', 'sci.med']\n",
      "1188 documents\n",
      "2 categories\n",
      "\n"
     ]
    }
   ],
   "source": [
    "categories = [\n",
    "    'rec.autos',\n",
    "    'sci.med',\n",
    "]\n",
    "\n",
    "# Uncomment the following to do the analysis on all the categories\n",
    "#categories = None\n",
    "\n",
    "print(\"Loading 20 newsgroups dataset for categories:\")\n",
    "print(categories)\n",
    "\n",
    "newsgroups_train = fetch_20newsgroups(subset='train', categories=categories, remove=('headers', 'footers', 'quotes'))\n",
    "print(\"%d documents\" % len(newsgroups_train.filenames))\n",
    "print(\"%d categories\" % len(newsgroups_train.target_names))\n",
    "print()"
   ]
  },
  {
   "cell_type": "code",
   "execution_count": 3,
   "metadata": {},
   "outputs": [
    {
     "data": {
      "text/html": [
       "<div>\n",
       "<style scoped>\n",
       "    .dataframe tbody tr th:only-of-type {\n",
       "        vertical-align: middle;\n",
       "    }\n",
       "\n",
       "    .dataframe tbody tr th {\n",
       "        vertical-align: top;\n",
       "    }\n",
       "\n",
       "    .dataframe thead th {\n",
       "        text-align: right;\n",
       "    }\n",
       "</style>\n",
       "<table border=\"1\" class=\"dataframe\">\n",
       "  <thead>\n",
       "    <tr style=\"text-align: right;\">\n",
       "      <th></th>\n",
       "      <th>00</th>\n",
       "      <th>000</th>\n",
       "      <th>0000</th>\n",
       "      <th>00014</th>\n",
       "      <th>000mi</th>\n",
       "      <th>000miles</th>\n",
       "      <th>0010</th>\n",
       "      <th>0033</th>\n",
       "      <th>004021809</th>\n",
       "      <th>00500</th>\n",
       "      <th>...</th>\n",
       "      <th>zimmerman</th>\n",
       "      <th>zinc</th>\n",
       "      <th>zip</th>\n",
       "      <th>zoloft</th>\n",
       "      <th>zonal</th>\n",
       "      <th>zooid</th>\n",
       "      <th>zubkoff</th>\n",
       "      <th>zx</th>\n",
       "      <th>zz</th>\n",
       "      <th>zzz</th>\n",
       "    </tr>\n",
       "  </thead>\n",
       "  <tbody>\n",
       "    <tr>\n",
       "      <th>0</th>\n",
       "      <td>0</td>\n",
       "      <td>0</td>\n",
       "      <td>0</td>\n",
       "      <td>0</td>\n",
       "      <td>0</td>\n",
       "      <td>0</td>\n",
       "      <td>0</td>\n",
       "      <td>0</td>\n",
       "      <td>0</td>\n",
       "      <td>0</td>\n",
       "      <td>...</td>\n",
       "      <td>0</td>\n",
       "      <td>0</td>\n",
       "      <td>0</td>\n",
       "      <td>0</td>\n",
       "      <td>0</td>\n",
       "      <td>0</td>\n",
       "      <td>0</td>\n",
       "      <td>0</td>\n",
       "      <td>0</td>\n",
       "      <td>0</td>\n",
       "    </tr>\n",
       "    <tr>\n",
       "      <th>1</th>\n",
       "      <td>0</td>\n",
       "      <td>0</td>\n",
       "      <td>0</td>\n",
       "      <td>0</td>\n",
       "      <td>0</td>\n",
       "      <td>0</td>\n",
       "      <td>0</td>\n",
       "      <td>0</td>\n",
       "      <td>0</td>\n",
       "      <td>0</td>\n",
       "      <td>...</td>\n",
       "      <td>0</td>\n",
       "      <td>0</td>\n",
       "      <td>0</td>\n",
       "      <td>0</td>\n",
       "      <td>0</td>\n",
       "      <td>0</td>\n",
       "      <td>0</td>\n",
       "      <td>0</td>\n",
       "      <td>0</td>\n",
       "      <td>0</td>\n",
       "    </tr>\n",
       "    <tr>\n",
       "      <th>2</th>\n",
       "      <td>0</td>\n",
       "      <td>0</td>\n",
       "      <td>0</td>\n",
       "      <td>0</td>\n",
       "      <td>0</td>\n",
       "      <td>0</td>\n",
       "      <td>0</td>\n",
       "      <td>0</td>\n",
       "      <td>0</td>\n",
       "      <td>0</td>\n",
       "      <td>...</td>\n",
       "      <td>0</td>\n",
       "      <td>0</td>\n",
       "      <td>0</td>\n",
       "      <td>0</td>\n",
       "      <td>0</td>\n",
       "      <td>0</td>\n",
       "      <td>0</td>\n",
       "      <td>0</td>\n",
       "      <td>0</td>\n",
       "      <td>0</td>\n",
       "    </tr>\n",
       "  </tbody>\n",
       "</table>\n",
       "<p>3 rows × 17863 columns</p>\n",
       "</div>"
      ],
      "text/plain": [
       "   00  000  0000  00014  000mi  000miles  0010  0033  004021809  00500  ...  \\\n",
       "0   0    0     0      0      0         0     0     0          0      0  ...   \n",
       "1   0    0     0      0      0         0     0     0          0      0  ...   \n",
       "2   0    0     0      0      0         0     0     0          0      0  ...   \n",
       "\n",
       "   zimmerman  zinc  zip  zoloft  zonal  zooid  zubkoff  zx  zz  zzz  \n",
       "0          0     0    0       0      0      0        0   0   0    0  \n",
       "1          0     0    0       0      0      0        0   0   0    0  \n",
       "2          0     0    0       0      0      0        0   0   0    0  \n",
       "\n",
       "[3 rows x 17863 columns]"
      ]
     },
     "execution_count": 3,
     "metadata": {},
     "output_type": "execute_result"
    }
   ],
   "source": [
    "count_vect = CountVectorizer()\n",
    "X_train = np.array(count_vect.fit_transform(newsgroups_train.data).todense())\n",
    "word_columns = ['']*len(count_vect.vocabulary_)\n",
    "for word, idx in count_vect.vocabulary_.items():\n",
    "    word_columns[idx] = word\n",
    "X_train = pd.DataFrame(X_train, columns=word_columns)\n",
    "y_train = newsgroups_train.target\n",
    "X_train.head(3)"
   ]
  },
  {
   "cell_type": "code",
   "execution_count": 4,
   "metadata": {},
   "outputs": [],
   "source": [
    "newsgroups_test = fetch_20newsgroups(subset='test', categories=categories, remove=('headers', 'footers', 'quotes'))\n",
    "X_test = np.array(count_vect.transform(newsgroups_test.data).todense())\n",
    "X_test = pd.DataFrame(X_test, columns=word_columns)\n",
    "y_test = newsgroups_test.target"
   ]
  },
  {
   "cell_type": "markdown",
   "metadata": {},
   "source": [
    "\n",
    "# Train a ML model"
   ]
  },
  {
   "cell_type": "code",
   "execution_count": 5,
   "metadata": {},
   "outputs": [
    {
     "data": {
      "text/plain": [
       "0.9418658088235294"
      ]
     },
     "execution_count": 5,
     "metadata": {},
     "output_type": "execute_result"
    }
   ],
   "source": [
    "pipeline = Pipeline([\n",
    "    ('tfidf', TfidfTransformer()),\n",
    "    ('clf', MultinomialNB(alpha=.01)),\n",
    "])\n",
    "pipeline.fit(X_train, y_train)\n",
    "\n",
    "pred = pipeline.predict(X_test)\n",
    "metrics.f1_score(y_test, pred, average='macro')"
   ]
  },
  {
   "cell_type": "markdown",
   "metadata": {},
   "source": [
    "# Define the game"
   ]
  },
  {
   "cell_type": "code",
   "execution_count": 7,
   "metadata": {
    "inputHidden": false,
    "outputHidden": false
   },
   "outputs": [],
   "source": [
    "d = X_train.shape[1]\n",
    "n = 2**d - 2"
   ]
  },
  {
   "cell_type": "code",
   "execution_count": 8,
   "metadata": {},
   "outputs": [],
   "source": [
    "fc = lambda x: int(pipeline.predict(x.reshape(1,-1)))"
   ]
  },
  {
   "cell_type": "code",
   "execution_count": 9,
   "metadata": {},
   "outputs": [],
   "source": [
    "r_class, x_class = 0, 0\n",
    "while x_class == r_class:\n",
    "    idx_r, idx_x = np.random.choice(np.arange(len(X_test)), size=2, replace=False)\n",
    "    r = X_test.iloc[idx_r,:]\n",
    "    x = X_test.iloc[idx_x,:]\n",
    "    r_class = fc(r.values)\n",
    "    x_class = fc(x.values)\n",
    "fc_class = lambda x: 1 if int(fc(x)) == int(x_class) else 0"
   ]
  },
  {
   "cell_type": "code",
   "execution_count": 10,
   "metadata": {},
   "outputs": [
    {
     "name": "stdout",
     "output_type": "stream",
     "text": [
      "00         0\n",
      "000        0\n",
      "0000       0\n",
      "00014      0\n",
      "000mi      0\n",
      "          ..\n",
      "zooid      0\n",
      "zubkoff    0\n",
      "zx         0\n",
      "zz         0\n",
      "zzz        0\n",
      "Name: 286, Length: 17863, dtype: int64\n",
      "\n",
      "Class Prediction for r: sci.med\n",
      "Real class for r: sci.med\n",
      "\n",
      "RAW TEXT\n"
     ]
    },
    {
     "data": {
      "text/plain": [
       "':>Sounds to me like someone was pulling your leg.  There is only one way for\\n:>pregnancy to occur: intercourse.  These days however there is also\\n:>artificial insemination and implantation techniques, but we\\'re speaking of\\n:>\"natural\" acts here.  It is possible for pregnancy to occur if semen is\\n:>deposited just outside of the vagina (i.e. coitus interruptus), but that\\'s\\n:>about at far as you can get.  Through clothes -- no way.  Better go talk\\n:>to your biology teacher.\\n:\\n: what is the likely hood of conception if sperm is deposited just outside\\n:the vagina?  ie.  __% chance.\\n: -------------------------------------------------------------------------\\n\\nHmmm.... I really don\\'t know.  Probably quite low overall.  Why don\\'t we\\nget a couple hundred willing couples together and find out ;->\\n'"
      ]
     },
     "execution_count": 10,
     "metadata": {},
     "output_type": "execute_result"
    }
   ],
   "source": [
    "print(r)\n",
    "print()\n",
    "print(\"Class Prediction for r: {0}\".format(newsgroups_train.target_names[fc(r.values)]))\n",
    "print(\"Real class for r: {0}\".format(newsgroups_train.target_names[y_test[idx_r]]))\n",
    "print()\n",
    "print(\"RAW TEXT\")\n",
    "newsgroups_test.data[idx_r]"
   ]
  },
  {
   "cell_type": "code",
   "execution_count": 11,
   "metadata": {},
   "outputs": [
    {
     "name": "stdout",
     "output_type": "stream",
     "text": [
      "00         0\n",
      "000        0\n",
      "0000       0\n",
      "00014      0\n",
      "000mi      0\n",
      "          ..\n",
      "zooid      0\n",
      "zubkoff    0\n",
      "zx         0\n",
      "zz         0\n",
      "zzz        0\n",
      "Name: 680, Length: 17863, dtype: int64\n",
      "\n",
      "Class Prediction for x: rec.autos\n",
      "Real class for x: rec.autos\n",
      "RAW TEXT\n"
     ]
    },
    {
     "data": {
      "text/plain": [
       "'Is it ok to take the car out of gear without using the clutch\\n(while the car is turned off)?\\n\\nThanks in advance.\\n\\nPlease reply by mail.'"
      ]
     },
     "execution_count": 11,
     "metadata": {},
     "output_type": "execute_result"
    }
   ],
   "source": [
    "print(x)\n",
    "print()\n",
    "print(\"Class Prediction for x: {0}\".format(newsgroups_train.target_names[fc(x.values)]))\n",
    "print(\"Real class for x: {0}\".format(newsgroups_train.target_names[y_test[idx_x]]))\n",
    "print(\"RAW TEXT\")\n",
    "newsgroups_test.data[idx_x]"
   ]
  },
  {
   "cell_type": "markdown",
   "metadata": {},
   "source": [
    "# Approximation methods"
   ]
  },
  {
   "cell_type": "markdown",
   "metadata": {},
   "source": [
    "## Monte Carlo "
   ]
  },
  {
   "cell_type": "code",
   "execution_count": 12,
   "metadata": {
    "inputHidden": false,
    "outputHidden": false
   },
   "outputs": [
    {
     "name": "stderr",
     "output_type": "stream",
     "text": [
      "  0%|          | 1/1000 [00:00<02:00,  8.28it/s]"
     ]
    },
    {
     "name": "stdout",
     "output_type": "stream",
     "text": [
      "new dimension 95\n"
     ]
    },
    {
     "name": "stderr",
     "output_type": "stream",
     "text": [
      "100%|██████████| 1000/1000 [01:42<00:00,  7.69it/s]\n"
     ]
    },
    {
     "data": {
      "text/plain": [
       "__        -0.079\n",
       "about     -0.001\n",
       "acts      -0.045\n",
       "advance    0.011\n",
       "also      -0.002\n",
       "           ...  \n",
       "why        0.006\n",
       "willing   -0.039\n",
       "without   -0.011\n",
       "you       -0.004\n",
       "your      -0.001\n",
       "Length: 95, dtype: float64"
      ]
     },
     "execution_count": 12,
     "metadata": {},
     "output_type": "execute_result"
    }
   ],
   "source": [
    "mc_shap = MonteCarloShapley(x=x, fc=fc_class, r=r, n_iter=1000)\n",
    "mc_shap"
   ]
  },
  {
   "cell_type": "code",
   "execution_count": 13,
   "metadata": {},
   "outputs": [
    {
     "data": {
      "text/plain": [
       "vagina        0.277\n",
       "pregnancy     0.253\n",
       "car           0.164\n",
       "clutch        0.140\n",
       "artificial    0.119\n",
       "              ...  \n",
       "acts         -0.045\n",
       "clothes      -0.069\n",
       "__           -0.079\n",
       "hood         -0.095\n",
       "pulling      -0.126\n",
       "Length: 87, dtype: float64"
      ]
     },
     "execution_count": 13,
     "metadata": {},
     "output_type": "execute_result"
    }
   ],
   "source": [
    "mc_shap[mc_shap != 0].sort_values(ascending=False)"
   ]
  },
  {
   "cell_type": "code",
   "execution_count": 25,
   "metadata": {},
   "outputs": [
    {
     "data": {
      "text/plain": [
       "vagina = 0        0.277\n",
       "pregnancy = 0     0.253\n",
       "car = 2           0.164\n",
       "clutch = 1        0.140\n",
       "artificial = 0    0.119\n",
       "                  ...  \n",
       "acts = 0         -0.045\n",
       "clothes = 0      -0.069\n",
       "__ = 0           -0.079\n",
       "hood = 0         -0.095\n",
       "pulling = 0      -0.126\n",
       "Length: 87, dtype: float64"
      ]
     },
     "execution_count": 25,
     "metadata": {},
     "output_type": "execute_result"
    }
   ],
   "source": [
    "x_attributes = []\n",
    "for index, val in x[mc_shap.index].iteritems():\n",
    "    x_attributes.append(index + \" = \"+str(val))\n",
    "\n",
    "mc_shap_attr = pd.Series(mc_shap.values, index=x_attributes)\n",
    "mc_shap_attr[mc_shap_attr != 0].sort_values(ascending=False)"
   ]
  },
  {
   "cell_type": "code",
   "execution_count": null,
   "metadata": {},
   "outputs": [],
   "source": []
  }
 ],
 "metadata": {
  "kernelspec": {
   "display_name": "Python 3",
   "language": "python",
   "name": "python3"
  },
  "language_info": {
   "codemirror_mode": {
    "name": "ipython",
    "version": 3
   },
   "file_extension": ".py",
   "mimetype": "text/x-python",
   "name": "python",
   "nbconvert_exporter": "python",
   "pygments_lexer": "ipython3",
   "version": "3.7.3"
  }
 },
 "nbformat": 4,
 "nbformat_minor": 4
}
