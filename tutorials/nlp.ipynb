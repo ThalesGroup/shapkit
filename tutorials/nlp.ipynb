{
 "cells": [
  {
   "cell_type": "code",
   "execution_count": 1,
   "metadata": {
    "inputHidden": false,
    "outputHidden": false
   },
   "outputs": [],
   "source": [
    "import numpy as np\n",
    "import pandas as pd\n",
    "import matplotlib.pyplot as plt\n",
    "%matplotlib inline\n",
    "\n",
    "from sklearn.datasets import fetch_20newsgroups\n",
    "from sklearn.naive_bayes import MultinomialNB\n",
    "from sklearn import metrics\n",
    "from sklearn.feature_extraction.text import CountVectorizer\n",
    "from sklearn.feature_extraction.text import TfidfTransformer\n",
    "from sklearn.pipeline import Pipeline\n",
    "\n",
    "from shapkit_nbdev.shapley_values import ShapleyValues\n",
    "from shapkit_nbdev.inspector import inspector\n",
    "from shapkit_nbdev.monte_carlo_shapley import MonteCarloShapley\n",
    "from shapkit_nbdev.sgd_shapley import SGDshapley\n",
    "\n",
    "%load_ext autoreload\n",
    "%autoreload 2"
   ]
  },
  {
   "cell_type": "markdown",
   "metadata": {},
   "source": [
    "# Load dataset"
   ]
  },
  {
   "cell_type": "code",
   "execution_count": 2,
   "metadata": {},
   "outputs": [
    {
     "name": "stdout",
     "output_type": "stream",
     "text": [
      "Loading 20 newsgroups dataset for categories:\n",
      "['rec.autos', 'sci.med']\n",
      "1188 documents\n",
      "2 categories\n",
      "\n"
     ]
    }
   ],
   "source": [
    "categories = [\n",
    "    'rec.autos',\n",
    "    'sci.med',\n",
    "]\n",
    "\n",
    "# Uncomment the following to do the analysis on all the categories\n",
    "#categories = None\n",
    "\n",
    "print(\"Loading 20 newsgroups dataset for categories:\")\n",
    "print(categories)\n",
    "\n",
    "newsgroups_train = fetch_20newsgroups(subset='train', categories=categories, remove=('headers', 'footers', 'quotes'))\n",
    "print(\"%d documents\" % len(newsgroups_train.filenames))\n",
    "print(\"%d categories\" % len(newsgroups_train.target_names))\n",
    "print()"
   ]
  },
  {
   "cell_type": "code",
   "execution_count": 3,
   "metadata": {},
   "outputs": [
    {
     "data": {
      "text/html": [
       "<div>\n",
       "<style scoped>\n",
       "    .dataframe tbody tr th:only-of-type {\n",
       "        vertical-align: middle;\n",
       "    }\n",
       "\n",
       "    .dataframe tbody tr th {\n",
       "        vertical-align: top;\n",
       "    }\n",
       "\n",
       "    .dataframe thead th {\n",
       "        text-align: right;\n",
       "    }\n",
       "</style>\n",
       "<table border=\"1\" class=\"dataframe\">\n",
       "  <thead>\n",
       "    <tr style=\"text-align: right;\">\n",
       "      <th></th>\n",
       "      <th>00</th>\n",
       "      <th>000</th>\n",
       "      <th>0000</th>\n",
       "      <th>00014</th>\n",
       "      <th>000mi</th>\n",
       "      <th>000miles</th>\n",
       "      <th>0010</th>\n",
       "      <th>0033</th>\n",
       "      <th>004021809</th>\n",
       "      <th>00500</th>\n",
       "      <th>...</th>\n",
       "      <th>zimmerman</th>\n",
       "      <th>zinc</th>\n",
       "      <th>zip</th>\n",
       "      <th>zoloft</th>\n",
       "      <th>zonal</th>\n",
       "      <th>zooid</th>\n",
       "      <th>zubkoff</th>\n",
       "      <th>zx</th>\n",
       "      <th>zz</th>\n",
       "      <th>zzz</th>\n",
       "    </tr>\n",
       "  </thead>\n",
       "  <tbody>\n",
       "    <tr>\n",
       "      <th>0</th>\n",
       "      <td>0</td>\n",
       "      <td>0</td>\n",
       "      <td>0</td>\n",
       "      <td>0</td>\n",
       "      <td>0</td>\n",
       "      <td>0</td>\n",
       "      <td>0</td>\n",
       "      <td>0</td>\n",
       "      <td>0</td>\n",
       "      <td>0</td>\n",
       "      <td>...</td>\n",
       "      <td>0</td>\n",
       "      <td>0</td>\n",
       "      <td>0</td>\n",
       "      <td>0</td>\n",
       "      <td>0</td>\n",
       "      <td>0</td>\n",
       "      <td>0</td>\n",
       "      <td>0</td>\n",
       "      <td>0</td>\n",
       "      <td>0</td>\n",
       "    </tr>\n",
       "    <tr>\n",
       "      <th>1</th>\n",
       "      <td>0</td>\n",
       "      <td>0</td>\n",
       "      <td>0</td>\n",
       "      <td>0</td>\n",
       "      <td>0</td>\n",
       "      <td>0</td>\n",
       "      <td>0</td>\n",
       "      <td>0</td>\n",
       "      <td>0</td>\n",
       "      <td>0</td>\n",
       "      <td>...</td>\n",
       "      <td>0</td>\n",
       "      <td>0</td>\n",
       "      <td>0</td>\n",
       "      <td>0</td>\n",
       "      <td>0</td>\n",
       "      <td>0</td>\n",
       "      <td>0</td>\n",
       "      <td>0</td>\n",
       "      <td>0</td>\n",
       "      <td>0</td>\n",
       "    </tr>\n",
       "    <tr>\n",
       "      <th>2</th>\n",
       "      <td>0</td>\n",
       "      <td>0</td>\n",
       "      <td>0</td>\n",
       "      <td>0</td>\n",
       "      <td>0</td>\n",
       "      <td>0</td>\n",
       "      <td>0</td>\n",
       "      <td>0</td>\n",
       "      <td>0</td>\n",
       "      <td>0</td>\n",
       "      <td>...</td>\n",
       "      <td>0</td>\n",
       "      <td>0</td>\n",
       "      <td>0</td>\n",
       "      <td>0</td>\n",
       "      <td>0</td>\n",
       "      <td>0</td>\n",
       "      <td>0</td>\n",
       "      <td>0</td>\n",
       "      <td>0</td>\n",
       "      <td>0</td>\n",
       "    </tr>\n",
       "  </tbody>\n",
       "</table>\n",
       "<p>3 rows × 17863 columns</p>\n",
       "</div>"
      ],
      "text/plain": [
       "   00  000  0000  00014  000mi  000miles  0010  0033  004021809  00500  ...  \\\n",
       "0   0    0     0      0      0         0     0     0          0      0  ...   \n",
       "1   0    0     0      0      0         0     0     0          0      0  ...   \n",
       "2   0    0     0      0      0         0     0     0          0      0  ...   \n",
       "\n",
       "   zimmerman  zinc  zip  zoloft  zonal  zooid  zubkoff  zx  zz  zzz  \n",
       "0          0     0    0       0      0      0        0   0   0    0  \n",
       "1          0     0    0       0      0      0        0   0   0    0  \n",
       "2          0     0    0       0      0      0        0   0   0    0  \n",
       "\n",
       "[3 rows x 17863 columns]"
      ]
     },
     "execution_count": 3,
     "metadata": {},
     "output_type": "execute_result"
    }
   ],
   "source": [
    "count_vect = CountVectorizer()\n",
    "X_train = np.array(count_vect.fit_transform(newsgroups_train.data).todense())\n",
    "word_columns = ['']*len(count_vect.vocabulary_)\n",
    "for word, idx in count_vect.vocabulary_.items():\n",
    "    word_columns[idx] = word\n",
    "X_train = pd.DataFrame(X_train, columns=word_columns)\n",
    "y_train = newsgroups_train.target\n",
    "X_train.head(3)"
   ]
  },
  {
   "cell_type": "code",
   "execution_count": 4,
   "metadata": {},
   "outputs": [],
   "source": [
    "newsgroups_test = fetch_20newsgroups(subset='test', categories=categories, remove=('headers', 'footers', 'quotes'))\n",
    "X_test = np.array(count_vect.transform(newsgroups_test.data).todense())\n",
    "X_test = pd.DataFrame(X_test, columns=word_columns)\n",
    "y_test = newsgroups_test.target"
   ]
  },
  {
   "cell_type": "markdown",
   "metadata": {},
   "source": [
    "\n",
    "# Train a ML model"
   ]
  },
  {
   "cell_type": "code",
   "execution_count": 5,
   "metadata": {},
   "outputs": [
    {
     "data": {
      "text/plain": [
       "0.9418658088235294"
      ]
     },
     "execution_count": 5,
     "metadata": {},
     "output_type": "execute_result"
    }
   ],
   "source": [
    "pipeline = Pipeline([\n",
    "    ('tfidf', TfidfTransformer()),\n",
    "    ('clf', MultinomialNB(alpha=.01)),\n",
    "])\n",
    "pipeline.fit(X_train, y_train)\n",
    "\n",
    "pred = pipeline.predict(X_test)\n",
    "metrics.f1_score(y_test, pred, average='macro')"
   ]
  },
  {
   "cell_type": "markdown",
   "metadata": {},
   "source": [
    "# Define the game"
   ]
  },
  {
   "cell_type": "code",
   "execution_count": 6,
   "metadata": {
    "inputHidden": false,
    "outputHidden": false
   },
   "outputs": [],
   "source": [
    "d = X_train.shape[1]\n",
    "n = 2**d - 2"
   ]
  },
  {
   "cell_type": "code",
   "execution_count": 7,
   "metadata": {},
   "outputs": [],
   "source": [
    "fc = lambda x: int(pipeline.predict(x.reshape(1,-1)))"
   ]
  },
  {
   "cell_type": "code",
   "execution_count": 8,
   "metadata": {},
   "outputs": [],
   "source": [
    "r_class, x_class = 0, 0\n",
    "while x_class == r_class:\n",
    "    idx_r, idx_x = np.random.choice(np.arange(len(X_test)), size=2, replace=False)\n",
    "    r = X_test.iloc[idx_r,:]\n",
    "    x = X_test.iloc[idx_x,:]\n",
    "    r_class = fc(r.values)\n",
    "    x_class = fc(x.values)\n",
    "fc_class = lambda x: 1 if int(fc(x)) == int(x_class) else 0"
   ]
  },
  {
   "cell_type": "code",
   "execution_count": 9,
   "metadata": {},
   "outputs": [
    {
     "name": "stdout",
     "output_type": "stream",
     "text": [
      "00         0\n",
      "000        0\n",
      "0000       0\n",
      "00014      0\n",
      "000mi      0\n",
      "          ..\n",
      "zooid      0\n",
      "zubkoff    0\n",
      "zx         0\n",
      "zz         0\n",
      "zzz        0\n",
      "Name: 549, Length: 17863, dtype: int64\n",
      "\n",
      "Class Prediction for r: sci.med\n",
      "Real class for r: sci.med\n",
      "\n",
      "RAW TEXT\n"
     ]
    },
    {
     "data": {
      "text/plain": [
       "'BIOLOGICAL ALCHEMY\\n                          \\n                        ( ANOTHER Form of COLD FUSION )\\n\\n               ( ALTERNATIVE Heavy Element Creation in Universe ) \\n\\n               A very simple experiment can demonstrate (PROVE) the \\n          FACT of \"BIOLOGICAL TRANSMUTATIONS\" (reactions like Mg + O \\n          --> Ca, Si + C --> Ca, K + H --> Ca, N2 --> CO, etc.), as \\n          described in the BOOK \"Biological Transmutations\" by Louis \\n          Kervran, [1972 Edition is BEST.], and in Chapter 17 of the \\n          book \"THE SECRET LIFE OF PLANTS\" by Peter Tompkins and \\n          Christopher Bird, 1973: \\n\\n               (1) Obtain a good sample of plant seeds, all of the same \\n                   kind.  [Some kinds might work better that others.]\\n\\n               (2) Divide the sample into two groups of equal weight \\n                   and number.\\n\\n               (3) Sprout one group in distilled water on filter paper \\n                   for three or four weeks.\\n\\n               (4) Separately incinerate both groups.\\n\\n               (5) Weigh the residue from each group.  [The residue of \\n                   the sprouted group will usually weigh at least \\n                   SEVERAL PERCENT MORE than the other group.]\\n\\n               (6) Analyze quantitatively the residue of each group for \\n                   mineral content.  [Some of the mineral atoms of the \\n                   sprouted group have been TRANSMUTED into heavier \\n                   mineral elements by FUSING with atoms of oxygen, \\n                   hydrogen, carbon, nitrogen, etc..]\\n\\n          \\n               BIOLOGICAL TRANSMUTATIONS occur ROUTINELY, even in our \\n          own bodies. \\n          \\n               Ingesting a source of organic silicon (silicon with \\n          carbon, such as \"horsetail\" extract, or radishes) can SPEED \\n          HEALING OF BROKEN BONES via the reaction Si + C --> Ca, (much \\n          faster than by merely ingesting the calcium directly).  \\n          \\n               Some MINERAL DEPOSITS in the ground are formed by micro-\\n          organisms FUSING together atoms of silicon, carbon, nitrogen, \\n          oxygen, hydrogen, etc.. \\n          \\n               The two reactions Si + C <--> Ca, by micro-organisms, \\n          cause \"STONE SICKNESS\" in statues, building bricks, etc..  \\n          \\n               The reaction N2 --> CO, catalysed by very hot iron, \\n          creates a CARBON-MONOXIDE POISON HAZARD for welder operators \\n          and people near woodstoves (even properly sealed ones). \\n          \\n               Some bacteria can even NEUTRALIZE RADIOACTIVITY! \\n          \\n\\n               ALL OF THESE THINGS AND MORE HAPPEN, IN SPITE OF the \\n          currently accepted \"laws\" of physics, (including the law \\n          which says that atomic fusion requires EXTREMELY HIGH \\n          temperatures and pressures.) \\n\\n\\n\\n          \"BIOLOGICAL TRANSMUTATIONS, And Their Applications In \\n               CHEMISTRY, PHYSICS, BIOLOGY, ECOLOGY, MEDICINE, \\n               NUTRITION, AGRIGULTURE, GEOLOGY\", \\n          1st Edition, \\n          by C. Louis Kervran, Active Member of New York Academy of \\n               Science, \\n          1972, \\n          163 Pages, Illustrated, \\n          Swan House Publishing Co.,\\n               P.O. Box 638, \\n               Binghamton, NY  13902 \\n\\n          \\n          \"THE SECRET LIFE OF PLANTS\", \\n          by Peter Tompkins and Christopher Bird, \\n          1973, \\n          402 Pages, \\n          Harper & Row, \\n               New York\\n          [Chapters 19 and 20 are about \"RADIONICS\".  Entire book is \\n               FASCINATING! ]\\n          \\n\\n               For more information, answers to your questions, etc., \\n          please consult my CITED SOURCES (the two books). \\n\\n\\n\\n               UN-altered REPRODUCTION and DISSEMINATION of this \\n          IMPORTANT Information is ENCOURAGED. \\n'"
      ]
     },
     "execution_count": 9,
     "metadata": {},
     "output_type": "execute_result"
    }
   ],
   "source": [
    "print(r)\n",
    "print()\n",
    "print(\"Class Prediction for r: {0}\".format(newsgroups_train.target_names[fc(r.values)]))\n",
    "print(\"Real class for r: {0}\".format(newsgroups_train.target_names[y_test[idx_r]]))\n",
    "print()\n",
    "print(\"RAW TEXT\")\n",
    "newsgroups_test.data[idx_r]"
   ]
  },
  {
   "cell_type": "code",
   "execution_count": 10,
   "metadata": {},
   "outputs": [
    {
     "name": "stdout",
     "output_type": "stream",
     "text": [
      "00         0\n",
      "000        0\n",
      "0000       0\n",
      "00014      0\n",
      "000mi      0\n",
      "          ..\n",
      "zooid      0\n",
      "zubkoff    0\n",
      "zx         0\n",
      "zz         0\n",
      "zzz        0\n",
      "Name: 261, Length: 17863, dtype: int64\n",
      "\n",
      "Class Prediction for x: rec.autos\n",
      "Real class for x: rec.autos\n",
      "RAW TEXT\n"
     ]
    },
    {
     "data": {
      "text/plain": [
       "'\\n\\n\\n\\nA dealer will make money off you in three ways, if you let him:\\n\\n\\t1)  New car markup over his cost (remember his hold-back),\\n\\t2)  Arranging financing through the dealership, and\\n\\t3)  Screwing you on the trade.\\n\\nKeep the deal with the dealer simple by eliminating 2 & 3.  Buying a car at \\n\"dealer\\'s cost\" is meaningless if he makes $1000 on the trade and/or gets a \\nkickback from the bank.\\n\\nBlue book (you need to know if you\\'re talking average wholesale or average \\nretail) is a good guide to value for a car.  If you are selling it yourself, \\ntry to get average retail, and chances are you\\'ll have done ok.\\n\\nBe careful selling to acquaintances if you ever want them to become friends.'"
      ]
     },
     "execution_count": 10,
     "metadata": {},
     "output_type": "execute_result"
    }
   ],
   "source": [
    "print(x)\n",
    "print()\n",
    "print(\"Class Prediction for x: {0}\".format(newsgroups_train.target_names[fc(x.values)]))\n",
    "print(\"Real class for x: {0}\".format(newsgroups_train.target_names[y_test[idx_x]]))\n",
    "print(\"RAW TEXT\")\n",
    "newsgroups_test.data[idx_x]"
   ]
  },
  {
   "cell_type": "markdown",
   "metadata": {},
   "source": [
    "# Approximation methods"
   ]
  },
  {
   "cell_type": "markdown",
   "metadata": {},
   "source": [
    "## Monte Carlo "
   ]
  },
  {
   "cell_type": "code",
   "execution_count": 15,
   "metadata": {
    "inputHidden": false,
    "outputHidden": false
   },
   "outputs": [
    {
     "name": "stderr",
     "output_type": "stream",
     "text": [
      "  0%|          | 0/100 [00:00<?, ?it/s]"
     ]
    },
    {
     "name": "stdout",
     "output_type": "stream",
     "text": [
      "new dimension 260\n"
     ]
    },
    {
     "name": "stderr",
     "output_type": "stream",
     "text": [
      "100%|██████████| 100/100 [00:59<00:00,  1.74it/s]\n"
     ]
    },
    {
     "data": {
      "text/plain": [
       "00         0.0\n",
       "000        0.0\n",
       "0000       0.0\n",
       "00014      0.0\n",
       "000mi      0.0\n",
       "          ... \n",
       "zooid      0.0\n",
       "zubkoff    0.0\n",
       "zx         0.0\n",
       "zz         0.0\n",
       "zzz        0.0\n",
       "Length: 17863, dtype: float64"
      ]
     },
     "execution_count": 15,
     "metadata": {},
     "output_type": "execute_result"
    }
   ],
   "source": [
    "mc_shap = MonteCarloShapley(x=x, fc=fc_class, r=r, n_iter=100)\n",
    "mc_shap"
   ]
  },
  {
   "cell_type": "code",
   "execution_count": 16,
   "metadata": {},
   "outputs": [
    {
     "data": {
      "text/plain": [
       "biological    0.15\n",
       "mineral       0.07\n",
       "dealer        0.05\n",
       "healing       0.04\n",
       "residue       0.04\n",
       "              ... \n",
       "1972         -0.03\n",
       "ground       -0.03\n",
       "carbon       -0.04\n",
       "nitrogen     -0.05\n",
       "si           -0.05\n",
       "Length: 84, dtype: float64"
      ]
     },
     "execution_count": 16,
     "metadata": {},
     "output_type": "execute_result"
    }
   ],
   "source": [
    "mc_shap[mc_shap != 0].sort_values(ascending=False)"
   ]
  },
  {
   "cell_type": "code",
   "execution_count": 17,
   "metadata": {},
   "outputs": [
    {
     "data": {
      "text/plain": [
       "biological = 0    0.15\n",
       "mineral = 0       0.07\n",
       "dealer = 3        0.05\n",
       "healing = 0       0.04\n",
       "residue = 0       0.04\n",
       "                  ... \n",
       "1972 = 0         -0.03\n",
       "ground = 0       -0.03\n",
       "carbon = 0       -0.04\n",
       "nitrogen = 0     -0.05\n",
       "si = 0           -0.05\n",
       "Length: 84, dtype: float64"
      ]
     },
     "execution_count": 17,
     "metadata": {},
     "output_type": "execute_result"
    }
   ],
   "source": [
    "x_attributes = []\n",
    "for index, val in x[mc_shap.index].iteritems():\n",
    "    x_attributes.append(index + \" = \"+str(val))\n",
    "\n",
    "mc_shap_attr = pd.Series(mc_shap.values, index=x_attributes)\n",
    "mc_shap_attr[mc_shap_attr != 0].sort_values(ascending=False)"
   ]
  },
  {
   "cell_type": "code",
   "execution_count": null,
   "metadata": {},
   "outputs": [],
   "source": []
  }
 ],
 "metadata": {
  "kernelspec": {
   "display_name": "Python 3",
   "language": "python",
   "name": "python3"
  },
  "language_info": {
   "codemirror_mode": {
    "name": "ipython",
    "version": 3
   },
   "file_extension": ".py",
   "mimetype": "text/x-python",
   "name": "python",
   "nbconvert_exporter": "python",
   "pygments_lexer": "ipython3",
   "version": "3.7.3"
  }
 },
 "nbformat": 4,
 "nbformat_minor": 4
}
